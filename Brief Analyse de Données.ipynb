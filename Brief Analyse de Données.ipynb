{
 "cells": [
  {
   "cell_type": "markdown",
   "metadata": {},
   "source": [
    "# Brief : Analyse de données (Boston_Crime)\n",
    "Luigi Bokalli, Baptise Le Berre, Jérémy Le Joncour"
   ]
  },
  {
   "cell_type": "code",
   "execution_count": 82,
   "metadata": {},
   "outputs": [],
   "source": [
    "import pandas as pd\n",
    "from sklearn import preprocessing\n",
    "import warnings \n",
    "warnings.filterwarnings(\"ignore\")\n",
    "\n",
    "#Importer les fichiers :\n",
    "crime = pd.read_csv('crime.csv', encoding='latin-1')\n",
    "offense_codes = pd.read_csv('offense_codes.csv', encoding='latin-1')"
   ]
  },
  {
   "cell_type": "markdown",
   "metadata": {},
   "source": [
    "# Nettoyage"
   ]
  },
  {
   "cell_type": "code",
   "execution_count": 83,
   "metadata": {},
   "outputs": [
    {
     "data": {
      "text/html": [
       "<div>\n",
       "<style scoped>\n",
       "    .dataframe tbody tr th:only-of-type {\n",
       "        vertical-align: middle;\n",
       "    }\n",
       "\n",
       "    .dataframe tbody tr th {\n",
       "        vertical-align: top;\n",
       "    }\n",
       "\n",
       "    .dataframe thead th {\n",
       "        text-align: right;\n",
       "    }\n",
       "</style>\n",
       "<table border=\"1\" class=\"dataframe\">\n",
       "  <thead>\n",
       "    <tr style=\"text-align: right;\">\n",
       "      <th></th>\n",
       "      <th>INCIDENT_NUMBER</th>\n",
       "      <th>OFFENSE_CODE</th>\n",
       "      <th>OFFENSE_CODE_GROUP</th>\n",
       "      <th>OFFENSE_DESCRIPTION</th>\n",
       "      <th>DISTRICT</th>\n",
       "      <th>REPORTING_AREA</th>\n",
       "      <th>SHOOTING</th>\n",
       "      <th>OCCURRED_ON_DATE</th>\n",
       "      <th>YEAR</th>\n",
       "      <th>MONTH</th>\n",
       "      <th>DAY_OF_WEEK</th>\n",
       "      <th>HOUR</th>\n",
       "      <th>UCR_PART</th>\n",
       "      <th>STREET</th>\n",
       "      <th>Lat</th>\n",
       "      <th>Long</th>\n",
       "      <th>Location</th>\n",
       "    </tr>\n",
       "  </thead>\n",
       "  <tbody>\n",
       "    <tr>\n",
       "      <th>0</th>\n",
       "      <td>I182070945</td>\n",
       "      <td>619</td>\n",
       "      <td>Larceny</td>\n",
       "      <td>LARCENY ALL OTHERS</td>\n",
       "      <td>D14</td>\n",
       "      <td>808</td>\n",
       "      <td>NaN</td>\n",
       "      <td>2018-09-02 13:00:00</td>\n",
       "      <td>2018</td>\n",
       "      <td>9</td>\n",
       "      <td>Sunday</td>\n",
       "      <td>13</td>\n",
       "      <td>Part One</td>\n",
       "      <td>LINCOLN ST</td>\n",
       "      <td>42.357791</td>\n",
       "      <td>-71.139371</td>\n",
       "      <td>(42.35779134, -71.13937053)</td>\n",
       "    </tr>\n",
       "    <tr>\n",
       "      <th>1</th>\n",
       "      <td>I182070943</td>\n",
       "      <td>1402</td>\n",
       "      <td>Vandalism</td>\n",
       "      <td>VANDALISM</td>\n",
       "      <td>C11</td>\n",
       "      <td>347</td>\n",
       "      <td>NaN</td>\n",
       "      <td>2018-08-21 00:00:00</td>\n",
       "      <td>2018</td>\n",
       "      <td>8</td>\n",
       "      <td>Tuesday</td>\n",
       "      <td>0</td>\n",
       "      <td>Part Two</td>\n",
       "      <td>HECLA ST</td>\n",
       "      <td>42.306821</td>\n",
       "      <td>-71.060300</td>\n",
       "      <td>(42.30682138, -71.06030035)</td>\n",
       "    </tr>\n",
       "    <tr>\n",
       "      <th>2</th>\n",
       "      <td>I182070941</td>\n",
       "      <td>3410</td>\n",
       "      <td>Towed</td>\n",
       "      <td>TOWED MOTOR VEHICLE</td>\n",
       "      <td>D4</td>\n",
       "      <td>151</td>\n",
       "      <td>NaN</td>\n",
       "      <td>2018-09-03 19:27:00</td>\n",
       "      <td>2018</td>\n",
       "      <td>9</td>\n",
       "      <td>Monday</td>\n",
       "      <td>19</td>\n",
       "      <td>Part Three</td>\n",
       "      <td>CAZENOVE ST</td>\n",
       "      <td>42.346589</td>\n",
       "      <td>-71.072429</td>\n",
       "      <td>(42.34658879, -71.07242943)</td>\n",
       "    </tr>\n",
       "    <tr>\n",
       "      <th>3</th>\n",
       "      <td>I182070940</td>\n",
       "      <td>3114</td>\n",
       "      <td>Investigate Property</td>\n",
       "      <td>INVESTIGATE PROPERTY</td>\n",
       "      <td>D4</td>\n",
       "      <td>272</td>\n",
       "      <td>NaN</td>\n",
       "      <td>2018-09-03 21:16:00</td>\n",
       "      <td>2018</td>\n",
       "      <td>9</td>\n",
       "      <td>Monday</td>\n",
       "      <td>21</td>\n",
       "      <td>Part Three</td>\n",
       "      <td>NEWCOMB ST</td>\n",
       "      <td>42.334182</td>\n",
       "      <td>-71.078664</td>\n",
       "      <td>(42.33418175, -71.07866441)</td>\n",
       "    </tr>\n",
       "    <tr>\n",
       "      <th>4</th>\n",
       "      <td>I182070938</td>\n",
       "      <td>3114</td>\n",
       "      <td>Investigate Property</td>\n",
       "      <td>INVESTIGATE PROPERTY</td>\n",
       "      <td>B3</td>\n",
       "      <td>421</td>\n",
       "      <td>NaN</td>\n",
       "      <td>2018-09-03 21:05:00</td>\n",
       "      <td>2018</td>\n",
       "      <td>9</td>\n",
       "      <td>Monday</td>\n",
       "      <td>21</td>\n",
       "      <td>Part Three</td>\n",
       "      <td>DELHI ST</td>\n",
       "      <td>42.275365</td>\n",
       "      <td>-71.090361</td>\n",
       "      <td>(42.27536542, -71.09036101)</td>\n",
       "    </tr>\n",
       "  </tbody>\n",
       "</table>\n",
       "</div>"
      ],
      "text/plain": [
       "  INCIDENT_NUMBER  OFFENSE_CODE    OFFENSE_CODE_GROUP   OFFENSE_DESCRIPTION  \\\n",
       "0      I182070945           619               Larceny    LARCENY ALL OTHERS   \n",
       "1      I182070943          1402             Vandalism             VANDALISM   \n",
       "2      I182070941          3410                 Towed   TOWED MOTOR VEHICLE   \n",
       "3      I182070940          3114  Investigate Property  INVESTIGATE PROPERTY   \n",
       "4      I182070938          3114  Investigate Property  INVESTIGATE PROPERTY   \n",
       "\n",
       "  DISTRICT REPORTING_AREA SHOOTING     OCCURRED_ON_DATE  YEAR  MONTH  \\\n",
       "0      D14            808      NaN  2018-09-02 13:00:00  2018      9   \n",
       "1      C11            347      NaN  2018-08-21 00:00:00  2018      8   \n",
       "2       D4            151      NaN  2018-09-03 19:27:00  2018      9   \n",
       "3       D4            272      NaN  2018-09-03 21:16:00  2018      9   \n",
       "4       B3            421      NaN  2018-09-03 21:05:00  2018      9   \n",
       "\n",
       "  DAY_OF_WEEK  HOUR    UCR_PART       STREET        Lat       Long  \\\n",
       "0      Sunday    13    Part One   LINCOLN ST  42.357791 -71.139371   \n",
       "1     Tuesday     0    Part Two     HECLA ST  42.306821 -71.060300   \n",
       "2      Monday    19  Part Three  CAZENOVE ST  42.346589 -71.072429   \n",
       "3      Monday    21  Part Three   NEWCOMB ST  42.334182 -71.078664   \n",
       "4      Monday    21  Part Three     DELHI ST  42.275365 -71.090361   \n",
       "\n",
       "                      Location  \n",
       "0  (42.35779134, -71.13937053)  \n",
       "1  (42.30682138, -71.06030035)  \n",
       "2  (42.34658879, -71.07242943)  \n",
       "3  (42.33418175, -71.07866441)  \n",
       "4  (42.27536542, -71.09036101)  "
      ]
     },
     "execution_count": 83,
     "metadata": {},
     "output_type": "execute_result"
    }
   ],
   "source": [
    "crime.head(5)"
   ]
  },
  {
   "cell_type": "code",
   "execution_count": 84,
   "metadata": {},
   "outputs": [
    {
     "data": {
      "text/plain": [
       "(319073, 17)"
      ]
     },
     "execution_count": 84,
     "metadata": {},
     "output_type": "execute_result"
    }
   ],
   "source": [
    "crime.shape"
   ]
  },
  {
   "cell_type": "code",
   "execution_count": 85,
   "metadata": {},
   "outputs": [],
   "source": [
    "#Ajouter les groupes à offense_codes :\n",
    "dict_offenses = dict()\n",
    "for group in set(crime[\"OFFENSE_CODE_GROUP\"]):\n",
    "    list_code = list()\n",
    "    for code in set(crime[\"OFFENSE_CODE\"][crime.OFFENSE_CODE_GROUP == group]):\n",
    "        list_code.append(code)\n",
    "    dict_offenses[group] = list_code\n",
    "\n",
    "    \n",
    "list_offense_codes = list()\n",
    "for code in offense_codes[\"CODE\"]:\n",
    "    group_found = False\n",
    "    for group in dict_offenses:\n",
    "        if group_found == False:\n",
    "            if code in dict_offenses[group]:\n",
    "                list_offense_codes.append(group)\n",
    "                group_found = True\n",
    "    if group_found == False:\n",
    "        list_offense_codes.append(\"UNKNOWN\")\n",
    "\n",
    "offense_codes[\"OFFENSE_CODE_GROUP\"] = list_offense_codes"
   ]
  },
  {
   "cell_type": "code",
   "execution_count": 86,
   "metadata": {},
   "outputs": [
    {
     "name": "stdout",
     "output_type": "stream",
     "text": [
      "CODE                                 619\n",
      "NAME                  LARCENY ALL OTHERS\n",
      "OFFENSE_CODE_GROUP               Larceny\n",
      "Name: 577, dtype: object\n",
      "CODE                       1402\n",
      "NAME                  VANDALISM\n",
      "OFFENSE_CODE_GROUP    Vandalism\n",
      "Name: 578, dtype: object\n",
      "CODE                                 3410\n",
      "NAME                  TOWED MOTOR VEHICLE\n",
      "OFFENSE_CODE_GROUP                  Towed\n",
      "Name: 579, dtype: object\n",
      "CODE                                  3114\n",
      "NAME                  INVESTIGATE PROPERTY\n",
      "OFFENSE_CODE_GROUP    Investigate Property\n",
      "Name: 580, dtype: object\n",
      "CODE                                                        3820\n",
      "NAME                  M/V ACCIDENT INVOLVING PEDESTRIAN - INJURY\n",
      "OFFENSE_CODE_GROUP               Motor Vehicle Accident Response\n",
      "Name: 581, dtype: object\n",
      "CODE                         724\n",
      "NAME                  AUTO THEFT\n",
      "OFFENSE_CODE_GROUP    Auto Theft\n",
      "Name: 582, dtype: object\n",
      "CODE                             3301\n",
      "NAME                   VERBAL DISPUTE\n",
      "OFFENSE_CODE_GROUP    Verbal Disputes\n",
      "Name: 583, dtype: object\n",
      "CODE                                                 3108\n",
      "NAME                  FIRE REPORT - HOUSE, BUILDING, ETC.\n",
      "OFFENSE_CODE_GROUP                   Fire Related Reports\n",
      "Name: 584, dtype: object\n",
      "CODE                                       2647\n",
      "NAME                  THREATS TO DO BODILY HARM\n",
      "OFFENSE_CODE_GROUP                        Other\n",
      "Name: 585, dtype: object\n",
      "CODE                             3201\n",
      "NAME                  PROPERTY - LOST\n",
      "OFFENSE_CODE_GROUP      Property Lost\n",
      "Name: 586, dtype: object\n",
      "CODE                                           3006\n",
      "NAME                  SICK/INJURED/MEDICAL - PERSON\n",
      "OFFENSE_CODE_GROUP               Medical Assistance\n",
      "Name: 587, dtype: object\n",
      "CODE                                              3305\n",
      "NAME                               DEMONSTRATIONS/RIOT\n",
      "OFFENSE_CODE_GROUP    Assembly or Gathering Violations\n",
      "Name: 588, dtype: object\n",
      "CODE                                                    614\n",
      "NAME                  LARCENY THEFT FROM MV - NON-ACCESSORY\n",
      "OFFENSE_CODE_GROUP               Larceny From Motor Vehicle\n",
      "Name: 589, dtype: object\n",
      "CODE                                             3801\n",
      "NAME                             M/V ACCIDENT - OTHER\n",
      "OFFENSE_CODE_GROUP    Motor Vehicle Accident Response\n",
      "Name: 590, dtype: object\n",
      "CODE                                             3803\n",
      "NAME                   M/V ACCIDENT - PERSONAL INJURY\n",
      "OFFENSE_CODE_GROUP    Motor Vehicle Accident Response\n",
      "Name: 591, dtype: object\n",
      "CODE                                                   3831\n",
      "NAME                  M/V - LEAVING SCENE - PROPERTY DAMAGE\n",
      "OFFENSE_CODE_GROUP          Motor Vehicle Accident Response\n",
      "Name: 592, dtype: object\n",
      "CODE                                       802\n",
      "NAME                  ASSAULT SIMPLE - BATTERY\n",
      "OFFENSE_CODE_GROUP              Simple Assault\n",
      "Name: 593, dtype: object\n",
      "CODE                                                    2007\n",
      "NAME                  VIOL. OF RESTRAINING ORDER W NO ARREST\n",
      "OFFENSE_CODE_GROUP              Restraining Order Violations\n",
      "Name: 594, dtype: object\n",
      "CODE                                                 2900\n",
      "NAME                  VAL - VIOLATION OF AUTO LAW - OTHER\n",
      "OFFENSE_CODE_GROUP                                  Other\n",
      "Name: 595, dtype: object\n",
      "CODE                                             2907\n",
      "NAME                  VAL - OPERATING AFTER REV/SUSP.\n",
      "OFFENSE_CODE_GROUP                         Violations\n",
      "Name: 596, dtype: object\n",
      "CODE                        2629\n",
      "NAME                  HARASSMENT\n",
      "OFFENSE_CODE_GROUP    Harassment\n",
      "Name: 597, dtype: object\n",
      "CODE                                       2662\n",
      "NAME                  BALLISTICS EVIDENCE/FOUND\n",
      "OFFENSE_CODE_GROUP                   Ballistics\n",
      "Name: 598, dtype: object\n",
      "CODE                              3207\n",
      "NAME                  PROPERTY - FOUND\n",
      "OFFENSE_CODE_GROUP      Property Found\n",
      "Name: 599, dtype: object\n",
      "CODE                                  613\n",
      "NAME                  LARCENY SHOPLIFTING\n",
      "OFFENSE_CODE_GROUP                Larceny\n",
      "Name: 600, dtype: object\n",
      "CODE                                               3109\n",
      "NAME                  SERVICE TO OTHER PD INSIDE OF MA.\n",
      "OFFENSE_CODE_GROUP             Police Service Incidents\n",
      "Name: 601, dtype: object\n",
      "CODE                                       2612\n",
      "NAME                  FIRE REPORT/ALARM - FALSE\n",
      "OFFENSE_CODE_GROUP         Fire Related Reports\n",
      "Name: 602, dtype: object\n",
      "CODE                                                            1843\n",
      "NAME                  DRUGS - POSS CLASS B - INTENT TO MFR DIST DISP\n",
      "OFFENSE_CODE_GROUP                                    Drug Violation\n",
      "Name: 603, dtype: object\n",
      "CODE                             3125\n",
      "NAME                   WARRANT ARREST\n",
      "OFFENSE_CODE_GROUP    Warrant Arrests\n",
      "Name: 604, dtype: object\n",
      "CODE                                                            1841\n",
      "NAME                  DRUGS - POSS CLASS A - INTENT TO MFR DIST DISP\n",
      "OFFENSE_CODE_GROUP                                    Drug Violation\n",
      "Name: 605, dtype: object\n",
      "CODE                                             3802\n",
      "NAME                  M/V ACCIDENT - PROPERTY  DAMAGE\n",
      "OFFENSE_CODE_GROUP    Motor Vehicle Accident Response\n",
      "Name: 606, dtype: object\n",
      "CODE                                           3018\n",
      "NAME                  SICK/INJURED/MEDICAL - POLICE\n",
      "OFFENSE_CODE_GROUP               Medical Assistance\n",
      "Name: 607, dtype: object\n",
      "CODE                                2405\n",
      "NAME                  DISORDERLY CONDUCT\n",
      "OFFENSE_CODE_GROUP    Disorderly Conduct\n",
      "Name: 608, dtype: object\n",
      "CODE                                          617\n",
      "NAME                  LARCENY THEFT FROM BUILDING\n",
      "OFFENSE_CODE_GROUP                        Larceny\n",
      "Name: 609, dtype: object\n",
      "CODE                                              3625\n",
      "NAME                  DANGEROUS OR HAZARDOUS CONDITION\n",
      "OFFENSE_CODE_GROUP                               Other\n",
      "Name: 610, dtype: object\n",
      "CODE                                          3106\n",
      "NAME                  PROPERTY - ACCIDENTAL DAMAGE\n",
      "OFFENSE_CODE_GROUP         Property Related Damage\n",
      "Name: 611, dtype: object\n",
      "CODE                                     3501\n",
      "NAME                           MISSING PERSON\n",
      "OFFENSE_CODE_GROUP    Missing Person Reported\n",
      "Name: 612, dtype: object\n",
      "CODE                                3115\n",
      "NAME                  INVESTIGATE PERSON\n",
      "OFFENSE_CODE_GROUP    Investigate Person\n",
      "Name: 613, dtype: object\n",
      "CODE                                       616\n",
      "NAME                  LARCENY THEFT OF BICYCLE\n",
      "OFFENSE_CODE_GROUP                     Larceny\n",
      "Name: 614, dtype: object\n",
      "CODE                                               3807\n",
      "NAME                  M/V ACCIDENT - OTHER CITY VEHICLE\n",
      "OFFENSE_CODE_GROUP      Motor Vehicle Accident Response\n",
      "Name: 615, dtype: object\n",
      "CODE                                             1102\n",
      "NAME                  FRAUD - FALSE PRETENSE / SCHEME\n",
      "OFFENSE_CODE_GROUP                              Fraud\n",
      "Name: 616, dtype: object\n",
      "CODE                                                  1849\n",
      "NAME                  DRUGS - POSS CLASS B - COCAINE, ETC.\n",
      "OFFENSE_CODE_GROUP                          Drug Violation\n",
      "Name: 617, dtype: object\n",
      "CODE                                             2905\n",
      "NAME                  VAL - OPERATING WITHOUT LICENSE\n",
      "OFFENSE_CODE_GROUP                         Violations\n",
      "Name: 618, dtype: object\n",
      "CODE                                          1810\n",
      "NAME                  DRUGS - SALE / MANUFACTURING\n",
      "OFFENSE_CODE_GROUP                  Drug Violation\n",
      "Name: 619, dtype: object\n",
      "CODE                                                  1842\n",
      "NAME                  DRUGS - POSS CLASS A - HEROIN, ETC. \n",
      "OFFENSE_CODE_GROUP                          Drug Violation\n",
      "Name: 620, dtype: object\n",
      "CODE                                                       1806\n",
      "NAME                  DRUGS - CLASS B TRAFFICKING OVER 18 GRAMS\n",
      "OFFENSE_CODE_GROUP                               Drug Violation\n",
      "Name: 621, dtype: object\n",
      "CODE                                                            1848\n",
      "NAME                  DRUGS - POSS CLASS D - INTENT TO MFR DIST DISP\n",
      "OFFENSE_CODE_GROUP                                    Drug Violation\n",
      "Name: 622, dtype: object\n",
      "CODE                                  1844\n",
      "NAME                  DRUGS - POSS CLASS C\n",
      "OFFENSE_CODE_GROUP          Drug Violation\n",
      "Name: 623, dtype: object\n",
      "CODE                                             3205\n",
      "NAME                                M/V PLATES - LOST\n",
      "OFFENSE_CODE_GROUP    License Plate Related Incidents\n",
      "Name: 624, dtype: object\n"
     ]
    },
    {
     "name": "stdout",
     "output_type": "stream",
     "text": [
      "CODE                                                           1501\n",
      "NAME                  WEAPON - FIREARM - CARRYING / POSSESSING, ETC\n",
      "OFFENSE_CODE_GROUP                               Firearm Violations\n",
      "Name: 625, dtype: object\n",
      "CODE                                 3001\n",
      "NAME                  DEATH INVESTIGATION\n",
      "OFFENSE_CODE_GROUP     Medical Assistance\n",
      "Name: 626, dtype: object\n",
      "CODE                                                   3830\n",
      "NAME                  M/V - LEAVING SCENE - PERSONAL INJURY\n",
      "OFFENSE_CODE_GROUP          Motor Vehicle Accident Response\n",
      "Name: 627, dtype: object\n",
      "CODE                                                      2914\n",
      "NAME                  VAL - OPERATING W/O AUTHORIZATION LAWFUL\n",
      "OFFENSE_CODE_GROUP                                  Violations\n",
      "Name: 628, dtype: object\n",
      "CODE                         2610\n",
      "NAME                  TRESPASSING\n",
      "OFFENSE_CODE_GROUP          Other\n",
      "Name: 629, dtype: object\n",
      "CODE                          1109\n",
      "NAME                  FRAUD - WIRE\n",
      "OFFENSE_CODE_GROUP           Fraud\n",
      "Name: 630, dtype: object\n",
      "CODE                                                706\n",
      "NAME                  AUTO THEFT - MOTORCYCLE / SCOOTER\n",
      "OFFENSE_CODE_GROUP                           Auto Theft\n",
      "Name: 631, dtype: object\n",
      "CODE                                  2403\n",
      "NAME                  DISTURBING THE PEACE\n",
      "OFFENSE_CODE_GROUP      Disorderly Conduct\n",
      "Name: 632, dtype: object\n",
      "CODE                                            3160\n",
      "NAME                  FIRE REPORT - CAR, BRUSH, ETC.\n",
      "OFFENSE_CODE_GROUP              Fire Related Reports\n",
      "Name: 633, dtype: object\n",
      "CODE                    900\n",
      "NAME                  ARSON\n",
      "OFFENSE_CODE_GROUP    Arson\n",
      "Name: 634, dtype: object\n",
      "CODE                               801\n",
      "NAME                  ASSAULT - SIMPLE\n",
      "OFFENSE_CODE_GROUP      Simple Assault\n",
      "Name: 635, dtype: object\n",
      "CODE                                               3002\n",
      "NAME                  ANIMAL CONTROL - DOG BITES - ETC.\n",
      "OFFENSE_CODE_GROUP                   Medical Assistance\n",
      "Name: 636, dtype: object\n",
      "CODE                         2648\n",
      "NAME                  BOMB THREAT\n",
      "OFFENSE_CODE_GROUP      Bomb Hoax\n",
      "Name: 637, dtype: object\n",
      "CODE                                              670\n",
      "NAME                           RECOVERED STOLEN PLATE\n",
      "OFFENSE_CODE_GROUP    License Plate Related Incidents\n",
      "Name: 638, dtype: object\n",
      "CODE                                         3116\n",
      "NAME                  HARBOR INCIDENT / VIOLATION\n",
      "OFFENSE_CODE_GROUP       Harbor Related Incidents\n",
      "Name: 639, dtype: object\n",
      "CODE                                              1504\n",
      "NAME                  WEAPON - OTHER - OTHER VIOLATION\n",
      "OFFENSE_CODE_GROUP                               Other\n",
      "Name: 640, dtype: object\n",
      "CODE                                          1830\n",
      "NAME                  DRUGS - SICK ASSIST - HEROIN\n",
      "OFFENSE_CODE_GROUP                  Drug Violation\n",
      "Name: 641, dtype: object\n",
      "CODE                                                 2006\n",
      "NAME                  VIOL. OF RESTRAINING ORDER W ARREST\n",
      "OFFENSE_CODE_GROUP           Restraining Order Violations\n",
      "Name: 642, dtype: object\n",
      "CODE                                      1001\n",
      "NAME                  FORGERY / COUNTERFEITING\n",
      "OFFENSE_CODE_GROUP              Counterfeiting\n",
      "Name: 643, dtype: object\n",
      "CODE                                                        3810\n",
      "NAME                  M/V ACCIDENT - INVOLVING  BICYCLE - INJURY\n",
      "OFFENSE_CODE_GROUP               Motor Vehicle Accident Response\n",
      "Name: 644, dtype: object\n",
      "CODE                                2401\n",
      "NAME                              AFFRAY\n",
      "OFFENSE_CODE_GROUP    Disorderly Conduct\n",
      "Name: 645, dtype: object\n",
      "CODE                                         2646\n",
      "NAME                  LIQUOR - DRINKING IN PUBLIC\n",
      "OFFENSE_CODE_GROUP               Liquor Violation\n",
      "Name: 646, dtype: object\n",
      "CODE                                                             3821\n",
      "NAME                  M/V ACCIDENT - INVOLVING PEDESTRIAN - NO INJURY\n",
      "OFFENSE_CODE_GROUP                    Motor Vehicle Accident Response\n",
      "Name: 647, dtype: object\n",
      "CODE                                                          3811\n",
      "NAME                  M/V ACCIDENT - INVOLVING BICYCLE - NO INJURY\n",
      "OFFENSE_CODE_GROUP                 Motor Vehicle Accident Response\n",
      "Name: 648, dtype: object\n",
      "CODE                                3007\n",
      "NAME                        SUDDEN DEATH\n",
      "OFFENSE_CODE_GROUP    Medical Assistance\n",
      "Name: 649, dtype: object\n",
      "CODE                           2660\n",
      "NAME                  OTHER OFFENSE\n",
      "OFFENSE_CODE_GROUP            Other\n",
      "Name: 650, dtype: object\n",
      "CODE                                                  1831\n",
      "NAME                  DRUGS - SICK ASSIST - OTHER NARCOTIC\n",
      "OFFENSE_CODE_GROUP                          Drug Violation\n",
      "Name: 651, dtype: object\n",
      "CODE                                                   3119\n",
      "NAME                  FIREARM/WEAPON - FOUND OR CONFISCATED\n",
      "OFFENSE_CODE_GROUP                        Firearm Discovery\n",
      "Name: 652, dtype: object\n",
      "CODE                                  3170\n",
      "NAME                  INTIMIDATING WITNESS\n",
      "OFFENSE_CODE_GROUP                   Other\n",
      "Name: 653, dtype: object\n",
      "CODE                            1874\n",
      "NAME                   DRUGS - OTHER\n",
      "OFFENSE_CODE_GROUP    Drug Violation\n",
      "Name: 654, dtype: object\n",
      "CODE                                       3112\n",
      "NAME                  LANDLORD - TENANT SERVICE\n",
      "OFFENSE_CODE_GROUP     Landlord/Tenant Disputes\n",
      "Name: 655, dtype: object\n",
      "CODE                                      3502\n",
      "NAME                  MISSING PERSON - LOCATED\n",
      "OFFENSE_CODE_GROUP      Missing Person Located\n",
      "Name: 656, dtype: object\n",
      "CODE                                                                735\n",
      "NAME                  RECOVERED - MV RECOVERED IN BOSTON (STOLEN OUT...\n",
      "OFFENSE_CODE_GROUP                                  Auto Theft Recovery\n",
      "Name: 657, dtype: object\n",
      "CODE                              3402\n",
      "NAME                  ANIMAL INCIDENTS\n",
      "OFFENSE_CODE_GROUP             Service\n",
      "Name: 658, dtype: object\n",
      "CODE                                1815\n",
      "NAME                  DRUGS - POSSESSION\n",
      "OFFENSE_CODE_GROUP        Drug Violation\n",
      "Name: 659, dtype: object\n",
      "CODE                                   1107\n",
      "NAME                  FRAUD - IMPERSONATION\n",
      "OFFENSE_CODE_GROUP                    Fraud\n",
      "Name: 660, dtype: object\n",
      "CODE                                                   2101\n",
      "NAME                  OPERATING UNDER THE INFLUENCE ALCOHOL\n",
      "OFFENSE_CODE_GROUP            Operating Under the Influence\n",
      "Name: 661, dtype: object\n",
      "CODE                                             1106\n",
      "NAME                  FRAUD - CREDIT CARD / ATM FRAUD\n",
      "OFFENSE_CODE_GROUP                   Confidence Games\n",
      "Name: 662, dtype: object\n",
      "CODE                                          3202\n",
      "NAME                  PROPERTY - LOST THEN LOCATED\n",
      "OFFENSE_CODE_GROUP                  Property Found\n",
      "Name: 663, dtype: object\n",
      "CODE                                                         1503\n",
      "NAME                  WEAPON - OTHER - CARRYING / POSSESSING, ETC\n",
      "OFFENSE_CODE_GROUP                             Firearm Violations\n",
      "Name: 664, dtype: object\n",
      "CODE                                  1846\n",
      "NAME                  DRUGS - POSS CLASS E\n",
      "OFFENSE_CODE_GROUP          Drug Violation\n",
      "Name: 665, dtype: object\n",
      "CODE                                                        3016\n",
      "NAME                  FIREARM/WEAPON - ACCIDENTAL INJURY / DEATH\n",
      "OFFENSE_CODE_GROUP                            Medical Assistance\n",
      "Name: 666, dtype: object\n",
      "CODE                                              3304\n",
      "NAME                       NOISY PARTY/RADIO-NO ARREST\n",
      "OFFENSE_CODE_GROUP    Assembly or Gathering Violations\n",
      "Name: 667, dtype: object\n",
      "CODE                                             2622\n",
      "NAME                  KIDNAPPING/CUSTODIAL KIDNAPPING\n",
      "OFFENSE_CODE_GROUP                              Other\n",
      "Name: 668, dtype: object\n",
      "CODE                             3130\n",
      "NAME                   SEARCH WARRANT\n",
      "OFFENSE_CODE_GROUP    Search Warrants\n",
      "Name: 669, dtype: object\n",
      "CODE                                    2407\n",
      "NAME                  ANNOYING AND ACCOSTING\n",
      "OFFENSE_CODE_GROUP        Disorderly Conduct\n",
      "Name: 670, dtype: object\n",
      "CODE                                        2657\n",
      "NAME                  VIOLATION - CITY ORDINANCE\n",
      "OFFENSE_CODE_GROUP                         Other\n",
      "Name: 671, dtype: object\n",
      "CODE                                       3111\n",
      "NAME                  LICENSE PREMISE VIOLATION\n",
      "OFFENSE_CODE_GROUP            License Violation\n",
      "Name: 672, dtype: object\n",
      "CODE                                                     3503\n",
      "NAME                  MISSING PERSON - NOT REPORTED - LOCATED\n",
      "OFFENSE_CODE_GROUP                     Missing Person Located\n",
      "Name: 673, dtype: object\n",
      "CODE                                              2906\n",
      "NAME                  VAL - OPERATING UNREG/UNINS  CAR\n",
      "OFFENSE_CODE_GROUP                          Violations\n",
      "Name: 674, dtype: object\n",
      "CODE                                3208\n",
      "NAME                  PROPERTY - MISSING\n",
      "OFFENSE_CODE_GROUP         Property Lost\n",
      "Name: 675, dtype: object\n",
      "CODE                                                      1832\n",
      "NAME                  DRUGS - SICK ASSIST - OTHER HARMFUL DRUG\n",
      "OFFENSE_CODE_GROUP                              Drug Violation\n",
      "Name: 676, dtype: object\n",
      "CODE                                                            1847\n",
      "NAME                  DRUGS - POSS CLASS C - INTENT TO MFR DIST DISP\n",
      "OFFENSE_CODE_GROUP                                    Drug Violation\n",
      "Name: 677, dtype: object\n",
      "CODE                                                1510\n",
      "NAME                  WEAPON - FIREARM - OTHER VIOLATION\n",
      "OFFENSE_CODE_GROUP                    Firearm Violations\n",
      "Name: 678, dtype: object\n",
      "CODE                                                            1850\n",
      "NAME                  DRUGS - POSS CLASS E - INTENT TO MFR DIST DISP\n",
      "OFFENSE_CODE_GROUP                                    Drug Violation\n",
      "Name: 679, dtype: object\n",
      "CODE                           2010\n",
      "NAME                  HOME INVASION\n",
      "OFFENSE_CODE_GROUP    HOME INVASION\n",
      "Name: 680, dtype: object\n"
     ]
    },
    {
     "name": "stdout",
     "output_type": "stream",
     "text": [
      "CODE                                             2616\n",
      "NAME                  POSSESSION OF BURGLARIOUS TOOLS\n",
      "OFFENSE_CODE_GROUP                              Other\n",
      "Name: 681, dtype: object\n",
      "CODE                                              1304\n",
      "NAME                  PROPERTY - STOLEN THEN RECOVERED\n",
      "OFFENSE_CODE_GROUP           Recovered Stolen Property\n",
      "Name: 682, dtype: object\n",
      "CODE                                                2511\n",
      "NAME                  KIDNAPPING - ENTICING OR ATTEMPTED\n",
      "OFFENSE_CODE_GROUP                                 Other\n",
      "Name: 683, dtype: object\n",
      "CODE                                             2005\n",
      "NAME                               CHILD ENDANGERMENT\n",
      "OFFENSE_CODE_GROUP    Offenses Against Child / Family\n",
      "Name: 684, dtype: object\n",
      "CODE                                               1605\n",
      "NAME                  PROSTITUTION - COMMON NIGHTWALKER\n",
      "OFFENSE_CODE_GROUP                         Prostitution\n",
      "Name: 685, dtype: object\n",
      "CODE                                             3805\n",
      "NAME                    M/V ACCIDENT - POLICE VEHICLE\n",
      "OFFENSE_CODE_GROUP    Motor Vehicle Accident Response\n",
      "Name: 686, dtype: object\n",
      "CODE                                                               1300\n",
      "NAME                  STOLEN PROPERTY - BUYING / RECEIVING / POSSESSING\n",
      "OFFENSE_CODE_GROUP                            Recovered Stolen Property\n",
      "Name: 687, dtype: object\n",
      "CODE                                                 2102\n",
      "NAME                  OPERATING UNDER THE INFLUENCE DRUGS\n",
      "OFFENSE_CODE_GROUP          Operating Under the Influence\n",
      "Name: 688, dtype: object\n",
      "CODE                                       3008\n",
      "NAME                  SUICIDE / SUICIDE ATTEMPT\n",
      "OFFENSE_CODE_GROUP           Medical Assistance\n",
      "Name: 689, dtype: object\n",
      "CODE                          2632\n",
      "NAME                  EVADING FARE\n",
      "OFFENSE_CODE_GROUP    Evading Fare\n",
      "Name: 690, dtype: object\n",
      "CODE                                              3102\n",
      "NAME                  INVESTIGATION FOR ANOTHER AGENCY\n",
      "OFFENSE_CODE_GROUP                               Other\n",
      "Name: 691, dtype: object\n",
      "CODE                       1415\n",
      "NAME                   GRAFFITI\n",
      "OFFENSE_CODE_GROUP    Vandalism\n",
      "Name: 692, dtype: object\n",
      "CODE                                                            2663\n",
      "NAME                  VIOLATION - CITY ORDINANCE CONSTRUCTION PERMIT\n",
      "OFFENSE_CODE_GROUP                                             Other\n",
      "Name: 693, dtype: object\n",
      "CODE                                                       1805\n",
      "NAME                  DRUGS - CLASS A TRAFFICKING OVER 18 GRAMS\n",
      "OFFENSE_CODE_GROUP                               Drug Violation\n",
      "Name: 694, dtype: object\n",
      "CODE                                           3620\n",
      "NAME                  REPORT AFFECTING OTHER DEPTS.\n",
      "OFFENSE_CODE_GROUP                            Other\n",
      "Name: 695, dtype: object\n",
      "CODE                                    2604\n",
      "NAME                  EXTORTION OR BLACKMAIL\n",
      "OFFENSE_CODE_GROUP                     Other\n",
      "Name: 696, dtype: object\n",
      "CODE                                  2204\n",
      "NAME                  LIQUOR LAW VIOLATION\n",
      "OFFENSE_CODE_GROUP        Liquor Violation\n",
      "Name: 697, dtype: object\n",
      "CODE                                        2619\n",
      "NAME                       FUGITIVE FROM JUSTICE\n",
      "OFFENSE_CODE_GROUP    Prisoner Related Incidents\n",
      "Name: 698, dtype: object\n",
      "CODE                                                 727\n",
      "NAME                  AUTO THEFT - LEASED/RENTED VEHICLE\n",
      "OFFENSE_CODE_GROUP                            Auto Theft\n",
      "Name: 699, dtype: object\n",
      "CODE                             804\n",
      "NAME                        STALKING\n",
      "OFFENSE_CODE_GROUP    Simple Assault\n",
      "Name: 700, dtype: object\n",
      "CODE                                             2003\n",
      "NAME                  CHILD ENDANGERMENT (NO ASSAULT)\n",
      "OFFENSE_CODE_GROUP    Offenses Against Child / Family\n",
      "Name: 701, dtype: object\n",
      "CODE                                  1845\n",
      "NAME                  DRUGS - POSS CLASS D\n",
      "OFFENSE_CODE_GROUP          Drug Violation\n",
      "Name: 702, dtype: object\n",
      "percent  1\n",
      "CODE                          2613\n",
      "NAME                  ANIMAL ABUSE\n",
      "OFFENSE_CODE_GROUP           Other\n",
      "Name: 703, dtype: object\n",
      "CODE                          1201\n",
      "NAME                  EMBEZZLEMENT\n",
      "OFFENSE_CODE_GROUP    Embezzlement\n",
      "Name: 704, dtype: object\n",
      "CODE                                        2617\n",
      "NAME                  CONSPIRACY EXCEPT DRUG LAW\n",
      "OFFENSE_CODE_GROUP                Drug Violation\n",
      "Name: 705, dtype: object\n",
      "CODE                                             3123\n",
      "NAME                  EXPLOSIVES - TURNED IN OR FOUND\n",
      "OFFENSE_CODE_GROUP                         Explosives\n",
      "Name: 706, dtype: object\n",
      "CODE                                                3110\n",
      "NAME                  SERVICE TO OTHER PD OUTSIDE OF MA.\n",
      "OFFENSE_CODE_GROUP              Police Service Incidents\n",
      "Name: 707, dtype: object\n",
      "CODE                                 2670\n",
      "NAME                  CRIMINAL HARASSMENT\n",
      "OFFENSE_CODE_GROUP    Criminal Harassment\n",
      "Name: 708, dtype: object\n",
      "CODE                                             2623\n",
      "NAME                  OBSCENE MATERIALS - PORNOGRAPHY\n",
      "OFFENSE_CODE_GROUP                              Other\n",
      "Name: 709, dtype: object\n",
      "percent  2\n",
      "CODE                                             2608\n",
      "NAME                                            CHINS\n",
      "OFFENSE_CODE_GROUP    Offenses Against Child / Family\n",
      "Name: 710, dtype: object\n",
      "CODE                                            3004\n",
      "NAME                  INJURY BICYCLE NO M/V INVOLVED\n",
      "OFFENSE_CODE_GROUP                Medical Assistance\n",
      "Name: 711, dtype: object\n",
      "CODE                                            2618\n",
      "NAME                  EXPLOSIVES - POSSESSION OR USE\n",
      "OFFENSE_CODE_GROUP                        Explosives\n",
      "Name: 712, dtype: object\n",
      "percent  3\n",
      "CODE                             1108\n",
      "NAME                  FRAUD - WELFARE\n",
      "OFFENSE_CODE_GROUP              Fraud\n",
      "Name: 713, dtype: object\n",
      "CODE                                                     1825\n",
      "NAME                  DRUGS - POSSESSION OF DRUG PARAPHANALIA\n",
      "OFFENSE_CODE_GROUP                             Drug Violation\n",
      "Name: 714, dtype: object\n",
      "CODE                                   2628\n",
      "NAME                    OBSCENE PHONE CALLS\n",
      "OFFENSE_CODE_GROUP    Phone Call Complaints\n",
      "Name: 715, dtype: object\n",
      "CODE                                                        1870\n",
      "NAME                  DRUGS - CONSP TO VIOL CONTROLLED SUBSTANCE\n",
      "OFFENSE_CODE_GROUP                                Drug Violation\n",
      "Name: 716, dtype: object\n",
      "CODE                                       1602\n",
      "NAME                  PROSTITUTION - SOLICITING\n",
      "OFFENSE_CODE_GROUP                 Prostitution\n",
      "Name: 717, dtype: object\n",
      "percent  4\n",
      "CODE                                3122\n",
      "NAME                  AIRCRAFT INCIDENTS\n",
      "OFFENSE_CODE_GROUP              Aircraft\n",
      "Name: 718, dtype: object\n",
      "percent  5\n",
      "CODE                                              3303\n",
      "NAME                          NOISY PARTY/RADIO-ARREST\n",
      "OFFENSE_CODE_GROUP    Assembly or Gathering Violations\n",
      "Name: 719, dtype: object\n",
      "CODE                                                       1807\n",
      "NAME                  DRUGS - CLASS D TRAFFICKING OVER 50 GRAMS\n",
      "OFFENSE_CODE_GROUP                               Drug Violation\n",
      "Name: 720, dtype: object\n",
      "CODE                                                  2636\n",
      "NAME                  PRISONER ESCAPE / ESCAPE & RECAPTURE\n",
      "OFFENSE_CODE_GROUP              Prisoner Related Incidents\n",
      "Name: 721, dtype: object\n",
      "CODE                                  2611\n",
      "NAME                  ABDUCTION - INTICING\n",
      "OFFENSE_CODE_GROUP                   Other\n",
      "Name: 722, dtype: object\n",
      "percent  6\n",
      "CODE                                   3203\n",
      "NAME                  FIREARM/WEAPON - LOST\n",
      "OFFENSE_CODE_GROUP        Firearm Discovery\n",
      "Name: 723, dtype: object\n",
      "percent  7\n",
      "CODE                                              3302\n",
      "NAME                       GATHERING CAUSING ANNOYANCE\n",
      "OFFENSE_CODE_GROUP    Assembly or Gathering Violations\n",
      "Name: 724, dtype: object\n",
      "CODE                                                  2605\n",
      "NAME                  CONTRIBUTING TO DELINQUENCY OF MINOR\n",
      "OFFENSE_CODE_GROUP         Offenses Against Child / Family\n",
      "Name: 725, dtype: object\n",
      "percent  8\n",
      "CODE                                              3403\n",
      "NAME                  PROTECTIVE CUSTODY / SAFEKEEPING\n",
      "OFFENSE_CODE_GROUP            Police Service Incidents\n",
      "Name: 726, dtype: object\n",
      "CODE                                             2004\n",
      "NAME                   CHILD ABANDONMENT (NO ASSAULT)\n",
      "OFFENSE_CODE_GROUP    Offenses Against Child / Family\n",
      "Name: 727, dtype: object\n",
      "percent  9\n"
     ]
    },
    {
     "name": "stdout",
     "output_type": "stream",
     "text": [
      "CODE                                            2641\n",
      "NAME                  VIOLATION - HAWKER AND PEDDLER\n",
      "OFFENSE_CODE_GROUP                             Other\n",
      "Name: 728, dtype: object\n",
      "CODE                                          2631\n",
      "NAME                  PROPERTY - CONCEALING LEASED\n",
      "OFFENSE_CODE_GROUP                           Other\n",
      "Name: 729, dtype: object\n",
      "CODE                                                  3029\n",
      "NAME                  PRISONER - SUICIDE / SUICIDE ATTEMPT\n",
      "OFFENSE_CODE_GROUP              Prisoner Related Incidents\n",
      "Name: 730, dtype: object\n",
      "percent  10\n",
      "CODE                                     2642\n",
      "NAME                        TRUANCY / RUNAWAY\n",
      "OFFENSE_CODE_GROUP    Missing Person Reported\n",
      "Name: 731, dtype: object\n",
      "percent  11\n",
      "CODE                                                   1502\n",
      "NAME                  WEAPON - FIREARM - SALE / TRAFFICKING\n",
      "OFFENSE_CODE_GROUP                       Firearm Violations\n",
      "Name: 732, dtype: object\n",
      "percent  12\n",
      "percent  13\n",
      "percent  14\n",
      "percent  15\n",
      "percent  16\n",
      "percent  17\n",
      "percent  18\n",
      "percent  19\n",
      "percent  20\n",
      "CODE                                2672\n",
      "NAME                  BIOLOGICAL THREATS\n",
      "OFFENSE_CODE_GROUP     Biological Threat\n",
      "Name: 733, dtype: object\n",
      "percent  21\n",
      "CODE                          1601\n",
      "NAME                  PROSTITUTION\n",
      "OFFENSE_CODE_GROUP    Prostitution\n",
      "Name: 734, dtype: object\n",
      "percent  22\n",
      "percent  23\n",
      "percent  24\n",
      "CODE                                        2606\n",
      "NAME                  PRISONER ATTEMPT TO RESCUE\n",
      "OFFENSE_CODE_GROUP    Prisoner Related Incidents\n",
      "Name: 735, dtype: object\n",
      "percent  25\n",
      "CODE                                           1901\n",
      "NAME                  GAMBLING - BETTING / WAGERING\n",
      "OFFENSE_CODE_GROUP                         Gambling\n",
      "Name: 736, dtype: object\n",
      "CODE                                  2664\n",
      "NAME                  CUSTODIAL KIDNAPPING\n",
      "OFFENSE_CODE_GROUP                   Other\n",
      "Name: 737, dtype: object\n",
      "percent  26\n",
      "percent  27\n",
      "percent  28\n",
      "percent  29\n",
      "percent  30\n",
      "percent  31\n",
      "percent  32\n",
      "CODE                                                     1610\n",
      "NAME                  HUMAN TRAFFICKING - COMMERCIAL SEX ACTS\n",
      "OFFENSE_CODE_GROUP                          HUMAN TRAFFICKING\n",
      "Name: 738, dtype: object\n",
      "percent  33\n",
      "percent  34\n",
      "percent  35\n",
      "percent  36\n",
      "percent  37\n",
      "percent  38\n",
      "percent  39\n",
      "percent  40\n",
      "percent  41\n",
      "percent  42\n",
      "percent  43\n",
      "percent  44\n",
      "CODE                                                       1620\n",
      "NAME                  HUMAN TRAFFICKING - INVOLUNTARY SERVITUDE\n",
      "OFFENSE_CODE_GROUP    HUMAN TRAFFICKING - INVOLUNTARY SERVITUDE\n",
      "Name: 739, dtype: object\n",
      "percent  45\n",
      "CODE                                                   1603\n",
      "NAME                  PROSTITUTION - ASSISTING OR PROMOTING\n",
      "OFFENSE_CODE_GROUP                             Prostitution\n",
      "Name: 740, dtype: object\n",
      "percent  46\n",
      "percent  47\n",
      "percent  48\n",
      "percent  49\n",
      "percent  50\n",
      "percent  51\n",
      "percent  52\n",
      "percent  53\n",
      "CODE                                     2609\n",
      "NAME                  DRUGS - GLUE INHALATION\n",
      "OFFENSE_CODE_GROUP             Drug Violation\n",
      "Name: 741, dtype: object\n",
      "percent  54\n",
      "percent  55\n",
      "percent  56\n",
      "percent  57\n",
      "percent  58\n",
      "percent  59\n",
      "percent  60\n",
      "percent  61\n",
      "percent  62\n",
      "percent  63\n",
      "percent  64\n",
      "percent  65\n",
      "percent  66\n",
      "percent  67\n",
      "percent  68\n",
      "percent  69\n",
      "percent  70\n",
      "percent  71\n",
      "percent  72\n",
      "percent  73\n",
      "percent  74\n",
      "percent  75\n",
      "percent  76\n",
      "percent  77\n",
      "percent  78\n",
      "percent  79\n",
      "percent  80\n",
      "percent  81\n",
      "percent  82\n",
      "percent  83\n",
      "percent  84\n",
      "percent  85\n",
      "percent  86\n",
      "percent  87\n",
      "percent  88\n",
      "percent  89\n",
      "percent  90\n",
      "percent  91\n",
      "percent  92\n",
      "percent  93\n",
      "percent  94\n",
      "percent  95\n",
      "percent  96\n",
      "percent  97\n",
      "percent  98\n",
      "percent  99\n",
      "CODE                                                    1863\n",
      "NAME                  DRUGS - POSS CLASS D - MARIJUANA, ETC.\n",
      "OFFENSE_CODE_GROUP                            Drug Violation\n",
      "Name: 742, dtype: object\n",
      "CODE                                    803\n",
      "NAME                  A&B ON POLICE OFFICER\n",
      "OFFENSE_CODE_GROUP           Simple Assault\n",
      "Name: 743, dtype: object\n",
      "CODE                                                  770\n",
      "NAME                  AUTO THEFT - RECOVERED IN BY POLICE\n",
      "OFFENSE_CODE_GROUP                             Auto Theft\n",
      "Name: 744, dtype: object\n",
      "CODE                                 1002\n",
      "NAME                  FORGERY OR UTTERING\n",
      "OFFENSE_CODE_GROUP         Counterfeiting\n",
      "Name: 745, dtype: object\n",
      "CODE                                         1302\n",
      "NAME                  PROPERTY - RECEIVING STOLEN\n",
      "OFFENSE_CODE_GROUP      Recovered Stolen Property\n",
      "Name: 746, dtype: object\n",
      "CODE                                                         1866\n",
      "NAME                  DRUGS - POSS CLASS E INTENT TO MF DIST DISP\n",
      "OFFENSE_CODE_GROUP                                 Drug Violation\n",
      "Name: 747, dtype: object\n",
      "CODE                                             2910\n",
      "NAME                  VAL - OPERATING AFTER REV/SUSP.\n",
      "OFFENSE_CODE_GROUP                         Violations\n",
      "Name: 748, dtype: object\n",
      "CODE                                1105\n",
      "NAME                  FRAUDS - ALL OTHER\n",
      "OFFENSE_CODE_GROUP                 Fraud\n",
      "Name: 749, dtype: object\n",
      "CODE                                                         1864\n",
      "NAME                  DRUGS - POSS CLASS D - INTENT MFR DIST DISP\n",
      "OFFENSE_CODE_GROUP                                 Drug Violation\n",
      "Name: 750, dtype: object\n"
     ]
    }
   ],
   "source": [
    "#Ajouter les codes manquants de crime à offense_codes:\n",
    "len_crime = len(crime.index)\n",
    "num_row = 0\n",
    "percent_crime2 = 0\n",
    "\n",
    "list_verif_codes = list()\n",
    "\n",
    "j = len(offense_codes)\n",
    "\n",
    "for i in crime.index:\n",
    "    percent_crime = int((num_row/len_crime)*100)\n",
    "    if percent_crime > percent_crime2:\n",
    "        percent_crime2 += 1\n",
    "        print(\"percent \", percent_crime2)\n",
    "    num_row += 1\n",
    "    if crime[\"OFFENSE_CODE\"][i] not in offense_codes[\"CODE\"]:\n",
    "        if crime[\"OFFENSE_CODE\"][i] not in list_verif_codes:\n",
    "            list_verif_codes.append(int(crime[\"OFFENSE_CODE\"][i]))\n",
    "            j += 1\n",
    "            offense_codes.loc[j] = [int(crime[\"OFFENSE_CODE\"][i])] + [crime[\"OFFENSE_DESCRIPTION\"][i]] + [crime[\"OFFENSE_CODE_GROUP\"][i]]\n",
    "            print(offense_codes.loc[j])"
   ]
  },
  {
   "cell_type": "code",
   "execution_count": 87,
   "metadata": {},
   "outputs": [],
   "source": [
    "#Remplacer les valeurs de 'SHOOTING' par des 0 et 1 (1 signifiant l'utilisation d'armes à feu):\n",
    "crime[\"SHOOTING\"] = crime[\"SHOOTING\"].fillna(0)\n",
    "crime[\"SHOOTING\"] = crime[\"SHOOTING\"].replace({\"Y\": 1})"
   ]
  },
  {
   "cell_type": "code",
   "execution_count": 88,
   "metadata": {},
   "outputs": [],
   "source": [
    "#Créer une colonne 'DAY_OF_MONTH' :\n",
    "crime['DAY_OF_MONTH'] = pd.DatetimeIndex(crime['OCCURRED_ON_DATE']).day\n",
    "list_columns = list(crime.columns)\n",
    "list_columns.remove('DAY_OF_MONTH')\n",
    "list_columns.insert(10, 'DAY_OF_MONTH')\n",
    "crime = crime.reindex(columns = list_columns)"
   ]
  },
  {
   "cell_type": "code",
   "execution_count": 89,
   "metadata": {},
   "outputs": [],
   "source": [
    "#Réduire crime aux 6 derniers mois de 2017 :\n",
    "crime = crime[crime.YEAR == 2017][crime.MONTH > 6]"
   ]
  },
  {
   "cell_type": "code",
   "execution_count": 90,
   "metadata": {},
   "outputs": [],
   "source": [
    "#Remplacer les groupes inconnus au mieux possible :\n",
    "for i in range(len(offense_codes)):\n",
    "    try:\n",
    "        offense_name = offense_codes[\"NAME\"][i]\n",
    "        if offense_name.split()[0] == \"RAPE\" and offense_name.split()[1] != \"ATTEMPT\" :\n",
    "            offense_codes[\"OFFENSE_CODE_GROUP\"][i] = \"Rape\"\n",
    "        elif offense_name.split()[0] == \"RAPE\" and offense_name.split()[1] == \"ATTEMPT\" :\n",
    "            offense_codes[\"OFFENSE_CODE_GROUP\"][i] = \"Rape / Attempt\"\n",
    "        elif offense_name.split()[0] == \"GAMBLING\":\n",
    "            offense_codes[\"OFFENSE_CODE_GROUP\"][i] = \"Gambling\"\n",
    "        elif offense_name.split()[0] == \"MANSLAUGHTER\":\n",
    "            offense_codes[\"OFFENSE_CODE_GROUP\"][i] = \"Manslaughter\"\n",
    "        elif offense_name.split()[0] == \"ROBBERY\" and offense_name.split()[1] != \"ATTEMPT\" :\n",
    "            offense_codes[\"OFFENSE_CODE_GROUP\"][i] = \"Robbery\"\n",
    "        elif offense_name.split()[0] == \"ROBBERY\" and offense_name.split()[1] == \"ATTEMPT\" :\n",
    "            offense_codes[\"OFFENSE_CODE_GROUP\"][i] = \"Robbery / Attempt\"\n",
    "        elif offense_name.split()[0] == \"ROBERRY\" and offense_name.split()[1] != \"ATTEMPT\" :\n",
    "            offense_codes[\"OFFENSE_CODE_GROUP\"][i] = \"Robbery\"\n",
    "        elif offense_name.split()[0] == \"ROBERRY\" and offense_name.split()[1] == \"ATTEMPT\" :\n",
    "            offense_codes[\"OFFENSE_CODE_GROUP\"][i] = \"Robbery / Attempt\"\n",
    "        elif offense_name.split()[0] == \"VAL\":\n",
    "            offense_codes[\"OFFENSE_CODE_GROUP\"][i] = \"Violations\"\n",
    "        elif offense_name.split()[0] == \"AUTO\" and offense_name.split()[1] == \"THEFT\" :\n",
    "            offense_codes[\"OFFENSE_CODE_GROUP\"][i] = \"Auto Theft\"\n",
    "        elif offense_name.split()[0] == \"TOWED\":\n",
    "            offense_codes[\"OFFENSE_CODE_GROUP\"][i] = \"Towed\"\n",
    "        elif offense_name.split()[0] == \"SEARCH\" and offense_name.split()[1] == \"WARRANT\" :\n",
    "            offense_codes[\"OFFENSE_CODE_GROUP\"][i] = \"Search Warrants\"\n",
    "        elif offense_name.split()[0] == \"LARCENY\":\n",
    "            offense_codes[\"OFFENSE_CODE_GROUP\"][i] = \"Larceny\"\n",
    "        elif offense_name.split()[0] == \"ARSON\":\n",
    "            offense_codes[\"OFFENSE_CODE_GROUP\"][i] = \"Arson\"\n",
    "        elif offense_name.split()[0] == \"DRUGS\":\n",
    "            offense_codes[\"OFFENSE_CODE_GROUP\"][i] = \"Drug Violation\"\n",
    "        elif offense_name.split()[0] == \"ASSAULT\" and offense_name.split()[2] == \"BATTERY\" :\n",
    "            offense_codes[\"OFFENSE_CODE_GROUP\"][i] = \"Aggravated Assault\"\n",
    "        elif offense_name.split()[0] == \"ASSAULT\" and offense_name.split()[1] == \"D/W\" :\n",
    "            offense_codes[\"OFFENSE_CODE_GROUP\"][i] = \"Aggravated Assault\"\n",
    "        elif offense_name.split()[0] == \"M/V\" and offense_name.split()[1] == \"ACCIDENT\" :\n",
    "            offense_codes[\"OFFENSE_CODE_GROUP\"][i] = \"Motor Vehicle Accident Response\"\n",
    "        #elif offense_name.split()[0] == \"PROPERTY\":\n",
    "            #offense_codes[\"OFFENSE_CODE_GROUP\"][i] = \"Property\"\n",
    "        elif offense_name.split()[0] == \"PRISONER\":\n",
    "            offense_codes[\"OFFENSE_CODE_GROUP\"][i] = \"Prisoner\"\n",
    "        elif offense_name.split()[0] == \"B&E\" and offense_name.split()[-3] == \"NO\" and offense_name.split()[-2] == \"PROP\" :\n",
    "            offense_codes[\"OFFENSE_CODE_GROUP\"][i] = \"Burglary - No Property Taken\"\n",
    "        elif offense_name.split()[0] == \"SEX\" and offense_name.split()[1] == \"OFFENSE\" :\n",
    "            offense_codes[\"OFFENSE_CODE_GROUP\"][i] = \"Sex Offense\"\n",
    "        elif offense_name.split()[0] == \"PROTECTIVE\" and offense_name.split()[1] == \"CUSTODY\" :\n",
    "            offense_codes[\"OFFENSE_CODE_GROUP\"][i] = \"Protective Custody\"\n",
    "        elif offense_name.split()[0] == \"POLICE\" and offense_name.split()[1] == \"SERVICES\" :\n",
    "            offense_codes[\"OFFENSE_CODE_GROUP\"][i] = \"Police Services\"\n",
    "    except:\n",
    "        pass"
   ]
  },
  {
   "cell_type": "code",
   "execution_count": 91,
   "metadata": {},
   "outputs": [
    {
     "data": {
      "text/html": [
       "<div>\n",
       "<style scoped>\n",
       "    .dataframe tbody tr th:only-of-type {\n",
       "        vertical-align: middle;\n",
       "    }\n",
       "\n",
       "    .dataframe tbody tr th {\n",
       "        vertical-align: top;\n",
       "    }\n",
       "\n",
       "    .dataframe thead th {\n",
       "        text-align: right;\n",
       "    }\n",
       "</style>\n",
       "<table border=\"1\" class=\"dataframe\">\n",
       "  <thead>\n",
       "    <tr style=\"text-align: right;\">\n",
       "      <th></th>\n",
       "      <th>GROUP_ID</th>\n",
       "      <th>GROUP_NAME</th>\n",
       "    </tr>\n",
       "  </thead>\n",
       "  <tbody>\n",
       "    <tr>\n",
       "      <th>0</th>\n",
       "      <td>0</td>\n",
       "      <td>Aggravated Assault</td>\n",
       "    </tr>\n",
       "    <tr>\n",
       "      <th>1</th>\n",
       "      <td>1</td>\n",
       "      <td>Aircraft</td>\n",
       "    </tr>\n",
       "    <tr>\n",
       "      <th>2</th>\n",
       "      <td>2</td>\n",
       "      <td>Arson</td>\n",
       "    </tr>\n",
       "    <tr>\n",
       "      <th>3</th>\n",
       "      <td>3</td>\n",
       "      <td>Assembly or Gathering Violations</td>\n",
       "    </tr>\n",
       "    <tr>\n",
       "      <th>4</th>\n",
       "      <td>4</td>\n",
       "      <td>Auto Theft</td>\n",
       "    </tr>\n",
       "    <tr>\n",
       "      <th>...</th>\n",
       "      <td>...</td>\n",
       "      <td>...</td>\n",
       "    </tr>\n",
       "    <tr>\n",
       "      <th>67</th>\n",
       "      <td>67</td>\n",
       "      <td>UNKNOWN</td>\n",
       "    </tr>\n",
       "    <tr>\n",
       "      <th>68</th>\n",
       "      <td>68</td>\n",
       "      <td>Vandalism</td>\n",
       "    </tr>\n",
       "    <tr>\n",
       "      <th>69</th>\n",
       "      <td>69</td>\n",
       "      <td>Verbal Disputes</td>\n",
       "    </tr>\n",
       "    <tr>\n",
       "      <th>70</th>\n",
       "      <td>70</td>\n",
       "      <td>Violations</td>\n",
       "    </tr>\n",
       "    <tr>\n",
       "      <th>71</th>\n",
       "      <td>71</td>\n",
       "      <td>Warrant Arrests</td>\n",
       "    </tr>\n",
       "  </tbody>\n",
       "</table>\n",
       "<p>72 rows × 2 columns</p>\n",
       "</div>"
      ],
      "text/plain": [
       "    GROUP_ID                        GROUP_NAME\n",
       "0          0                Aggravated Assault\n",
       "1          1                          Aircraft\n",
       "2          2                             Arson\n",
       "3          3  Assembly or Gathering Violations\n",
       "4          4                        Auto Theft\n",
       "..       ...                               ...\n",
       "67        67                           UNKNOWN\n",
       "68        68                         Vandalism\n",
       "69        69                   Verbal Disputes\n",
       "70        70                        Violations\n",
       "71        71                   Warrant Arrests\n",
       "\n",
       "[72 rows x 2 columns]"
      ]
     },
     "metadata": {},
     "output_type": "display_data"
    },
    {
     "data": {
      "text/html": [
       "<div>\n",
       "<style scoped>\n",
       "    .dataframe tbody tr th:only-of-type {\n",
       "        vertical-align: middle;\n",
       "    }\n",
       "\n",
       "    .dataframe tbody tr th {\n",
       "        vertical-align: top;\n",
       "    }\n",
       "\n",
       "    .dataframe thead th {\n",
       "        text-align: right;\n",
       "    }\n",
       "</style>\n",
       "<table border=\"1\" class=\"dataframe\">\n",
       "  <thead>\n",
       "    <tr style=\"text-align: right;\">\n",
       "      <th></th>\n",
       "      <th>CODE</th>\n",
       "      <th>NAME</th>\n",
       "      <th>OFFENSE_CODE_GROUP</th>\n",
       "    </tr>\n",
       "  </thead>\n",
       "  <tbody>\n",
       "    <tr>\n",
       "      <th>0</th>\n",
       "      <td>612</td>\n",
       "      <td>LARCENY PURSE SNATCH - NO FORCE</td>\n",
       "      <td>33</td>\n",
       "    </tr>\n",
       "    <tr>\n",
       "      <th>1</th>\n",
       "      <td>613</td>\n",
       "      <td>LARCENY SHOPLIFTING</td>\n",
       "      <td>33</td>\n",
       "    </tr>\n",
       "    <tr>\n",
       "      <th>2</th>\n",
       "      <td>615</td>\n",
       "      <td>LARCENY THEFT OF MV PARTS &amp; ACCESSORIES</td>\n",
       "      <td>33</td>\n",
       "    </tr>\n",
       "    <tr>\n",
       "      <th>3</th>\n",
       "      <td>1731</td>\n",
       "      <td>INCEST</td>\n",
       "      <td>67</td>\n",
       "    </tr>\n",
       "    <tr>\n",
       "      <th>4</th>\n",
       "      <td>3111</td>\n",
       "      <td>LICENSE PREMISE VIOLATION</td>\n",
       "      <td>35</td>\n",
       "    </tr>\n",
       "    <tr>\n",
       "      <th>...</th>\n",
       "      <td>...</td>\n",
       "      <td>...</td>\n",
       "      <td>...</td>\n",
       "    </tr>\n",
       "    <tr>\n",
       "      <th>746</th>\n",
       "      <td>1302</td>\n",
       "      <td>PROPERTY - RECEIVING STOLEN</td>\n",
       "      <td>57</td>\n",
       "    </tr>\n",
       "    <tr>\n",
       "      <th>747</th>\n",
       "      <td>1866</td>\n",
       "      <td>DRUGS - POSS CLASS E INTENT TO MF DIST DISP</td>\n",
       "      <td>15</td>\n",
       "    </tr>\n",
       "    <tr>\n",
       "      <th>748</th>\n",
       "      <td>2910</td>\n",
       "      <td>VAL - OPERATING AFTER REV/SUSP.</td>\n",
       "      <td>70</td>\n",
       "    </tr>\n",
       "    <tr>\n",
       "      <th>749</th>\n",
       "      <td>1105</td>\n",
       "      <td>FRAUDS - ALL OTHER</td>\n",
       "      <td>22</td>\n",
       "    </tr>\n",
       "    <tr>\n",
       "      <th>750</th>\n",
       "      <td>1864</td>\n",
       "      <td>DRUGS - POSS CLASS D - INTENT MFR DIST DISP</td>\n",
       "      <td>15</td>\n",
       "    </tr>\n",
       "  </tbody>\n",
       "</table>\n",
       "<p>750 rows × 3 columns</p>\n",
       "</div>"
      ],
      "text/plain": [
       "     CODE                                         NAME  OFFENSE_CODE_GROUP\n",
       "0     612             LARCENY PURSE SNATCH - NO FORCE                   33\n",
       "1     613                          LARCENY SHOPLIFTING                  33\n",
       "2     615      LARCENY THEFT OF MV PARTS & ACCESSORIES                  33\n",
       "3    1731                                       INCEST                  67\n",
       "4    3111                    LICENSE PREMISE VIOLATION                  35\n",
       "..    ...                                          ...                 ...\n",
       "746  1302                  PROPERTY - RECEIVING STOLEN                  57\n",
       "747  1866  DRUGS - POSS CLASS E INTENT TO MF DIST DISP                  15\n",
       "748  2910              VAL - OPERATING AFTER REV/SUSP.                  70\n",
       "749  1105                           FRAUDS - ALL OTHER                  22\n",
       "750  1864  DRUGS - POSS CLASS D - INTENT MFR DIST DISP                  15\n",
       "\n",
       "[750 rows x 3 columns]"
      ]
     },
     "metadata": {},
     "output_type": "display_data"
    }
   ],
   "source": [
    "#Créer un tableau pour OFFENSE_CODE_GROUP :\n",
    "list_data = list(set(offense_codes[\"OFFENSE_CODE_GROUP\"]))\n",
    "list_data.sort()\n",
    "group_data = {\"GROUP_ID\": range(len(list_data)),\n",
    "              \"GROUP_NAME\": list_data\n",
    "             }\n",
    "group_tab = pd.DataFrame(group_data, columns = [\"GROUP_ID\", \"GROUP_NAME\"])\n",
    "                                                                                                  \n",
    "#Transformer les groupes de offense_codes en entiers:\n",
    "offense_codes[\"OFFENSE_CODE_GROUP\"] = preprocessing.LabelEncoder().fit_transform(offense_codes[\"OFFENSE_CODE_GROUP\"])\n",
    "\n",
    "display(group_tab)\n",
    "display(offense_codes)"
   ]
  },
  {
   "cell_type": "code",
   "execution_count": 92,
   "metadata": {},
   "outputs": [],
   "source": [
    "#Transformer en strings les valeurs numériques de crime[\"STREET\"] :\n",
    "list_street = list()\n",
    "for street in crime[\"STREET\"]:\n",
    "    list_street.append(str(street))\n",
    "crime = crime.drop(columns=\"STREET\")\n",
    "crime[\"STREET\"] = list_street\n",
    "\n",
    "#Créer un tableau pour STREET:\n",
    "list_set_street = list(set(list_street))\n",
    "list_set_street.sort()\n",
    "street_data = {\"STREET_ID\": range(len(list_set_street)),\n",
    "              \"STREET_NAME\": list_set_street\n",
    "             }\n",
    "street_tab = pd.DataFrame(street_data, columns = [\"STREET_ID\", \"STREET_NAME\"])\n",
    "\n",
    "#Transformer les valeurs de STREET en entiers:\n",
    "crime[\"STREET\"] = preprocessing.LabelEncoder().fit_transform(crime[\"STREET\"])"
   ]
  },
  {
   "cell_type": "code",
   "execution_count": 93,
   "metadata": {},
   "outputs": [],
   "source": [
    "#Créer une colonne 'DAY_OF_MONTH' :\n",
    "crime['DAY_OF_MONTH'] = pd.DatetimeIndex(crime['OCCURRED_ON_DATE']).day\n",
    "list_columns = list(crime.columns)\n",
    "list_columns.remove('DAY_OF_MONTH')\n",
    "list_columns.insert(10, 'DAY_OF_MONTH')\n",
    "crime = crime.reindex(columns = list_columns)"
   ]
  },
  {
   "cell_type": "code",
   "execution_count": 94,
   "metadata": {},
   "outputs": [],
   "source": [
    "#Supprimer les colonnes redondantes :\n",
    "crime = crime.drop(columns=['OCCURRED_ON_DATE', 'Location', 'YEAR', 'OFFENSE_CODE_GROUP', 'OFFENSE_DESCRIPTION'])"
   ]
  },
  {
   "cell_type": "code",
   "execution_count": 95,
   "metadata": {},
   "outputs": [],
   "source": [
    "#Remplacer les parties UCR par des entiers :\n",
    "crime[\"UCR_PART\"].replace({\"Part One\": 1, \"Part Two\": 2, \"Part Three\": 3, \"Part Four\": 4, \"Other\": 0}, inplace=True)"
   ]
  },
  {
   "cell_type": "code",
   "execution_count": 96,
   "metadata": {},
   "outputs": [],
   "source": [
    "#Supprimer les lignes avec des valeurs manquantes :\n",
    "crime = crime.dropna()\n",
    "crime = crime[crime.Long < -1.0]\n",
    "crime = crime[crime.Lat > 1.0]"
   ]
  },
  {
   "cell_type": "code",
   "execution_count": 97,
   "metadata": {},
   "outputs": [
    {
     "data": {
      "text/html": [
       "<div>\n",
       "<style scoped>\n",
       "    .dataframe tbody tr th:only-of-type {\n",
       "        vertical-align: middle;\n",
       "    }\n",
       "\n",
       "    .dataframe tbody tr th {\n",
       "        vertical-align: top;\n",
       "    }\n",
       "\n",
       "    .dataframe thead th {\n",
       "        text-align: right;\n",
       "    }\n",
       "</style>\n",
       "<table border=\"1\" class=\"dataframe\">\n",
       "  <thead>\n",
       "    <tr style=\"text-align: right;\">\n",
       "      <th></th>\n",
       "      <th>INCIDENT_NUMBER</th>\n",
       "      <th>OFFENSE_CODE</th>\n",
       "      <th>DISTRICT</th>\n",
       "      <th>REPORTING_AREA</th>\n",
       "      <th>SHOOTING</th>\n",
       "      <th>MONTH</th>\n",
       "      <th>DAY_OF_MONTH</th>\n",
       "      <th>DAY_OF_WEEK</th>\n",
       "      <th>HOUR</th>\n",
       "      <th>UCR_PART</th>\n",
       "      <th>Lat</th>\n",
       "      <th>Long</th>\n",
       "      <th>STREET</th>\n",
       "    </tr>\n",
       "  </thead>\n",
       "  <tbody>\n",
       "    <tr>\n",
       "      <th>569</th>\n",
       "      <td>I182070304</td>\n",
       "      <td>1107</td>\n",
       "      <td>D4</td>\n",
       "      <td>905</td>\n",
       "      <td>0</td>\n",
       "      <td>11</td>\n",
       "      <td>1</td>\n",
       "      <td>Wednesday</td>\n",
       "      <td>0</td>\n",
       "      <td>2.0</td>\n",
       "      <td>42.339268</td>\n",
       "      <td>-71.072088</td>\n",
       "      <td>877</td>\n",
       "    </tr>\n",
       "    <tr>\n",
       "      <th>744</th>\n",
       "      <td>I182070115</td>\n",
       "      <td>3114</td>\n",
       "      <td>D14</td>\n",
       "      <td>793</td>\n",
       "      <td>0</td>\n",
       "      <td>10</td>\n",
       "      <td>11</td>\n",
       "      <td>Wednesday</td>\n",
       "      <td>17</td>\n",
       "      <td>3.0</td>\n",
       "      <td>42.346501</td>\n",
       "      <td>-71.136128</td>\n",
       "      <td>1548</td>\n",
       "    </tr>\n",
       "    <tr>\n",
       "      <th>923</th>\n",
       "      <td>I182069920</td>\n",
       "      <td>3201</td>\n",
       "      <td>B2</td>\n",
       "      <td>287</td>\n",
       "      <td>0</td>\n",
       "      <td>8</td>\n",
       "      <td>31</td>\n",
       "      <td>Thursday</td>\n",
       "      <td>12</td>\n",
       "      <td>3.0</td>\n",
       "      <td>42.331925</td>\n",
       "      <td>-71.084112</td>\n",
       "      <td>2563</td>\n",
       "    </tr>\n",
       "    <tr>\n",
       "      <th>1444</th>\n",
       "      <td>I182069334</td>\n",
       "      <td>3201</td>\n",
       "      <td>B3</td>\n",
       "      <td>420</td>\n",
       "      <td>0</td>\n",
       "      <td>12</td>\n",
       "      <td>8</td>\n",
       "      <td>Friday</td>\n",
       "      <td>22</td>\n",
       "      <td>3.0</td>\n",
       "      <td>42.279591</td>\n",
       "      <td>-71.081323</td>\n",
       "      <td>1960</td>\n",
       "    </tr>\n",
       "    <tr>\n",
       "      <th>1916</th>\n",
       "      <td>I182068812</td>\n",
       "      <td>3114</td>\n",
       "      <td>D14</td>\n",
       "      <td>791</td>\n",
       "      <td>0</td>\n",
       "      <td>11</td>\n",
       "      <td>10</td>\n",
       "      <td>Friday</td>\n",
       "      <td>16</td>\n",
       "      <td>3.0</td>\n",
       "      <td>42.344980</td>\n",
       "      <td>-71.140906</td>\n",
       "      <td>476</td>\n",
       "    </tr>\n",
       "  </tbody>\n",
       "</table>\n",
       "</div>"
      ],
      "text/plain": [
       "     INCIDENT_NUMBER  OFFENSE_CODE DISTRICT REPORTING_AREA  SHOOTING  MONTH  \\\n",
       "569       I182070304          1107       D4            905         0     11   \n",
       "744       I182070115          3114      D14            793         0     10   \n",
       "923       I182069920          3201       B2            287         0      8   \n",
       "1444      I182069334          3201       B3            420         0     12   \n",
       "1916      I182068812          3114      D14            791         0     11   \n",
       "\n",
       "      DAY_OF_MONTH DAY_OF_WEEK  HOUR  UCR_PART        Lat       Long  STREET  \n",
       "569              1   Wednesday     0       2.0  42.339268 -71.072088     877  \n",
       "744             11   Wednesday    17       3.0  42.346501 -71.136128    1548  \n",
       "923             31    Thursday    12       3.0  42.331925 -71.084112    2563  \n",
       "1444             8      Friday    22       3.0  42.279591 -71.081323    1960  \n",
       "1916            10      Friday    16       3.0  42.344980 -71.140906     476  "
      ]
     },
     "execution_count": 97,
     "metadata": {},
     "output_type": "execute_result"
    }
   ],
   "source": [
    "crime.head(5)"
   ]
  },
  {
   "cell_type": "code",
   "execution_count": 98,
   "metadata": {},
   "outputs": [
    {
     "data": {
      "text/plain": [
       "(47610, 13)"
      ]
     },
     "execution_count": 98,
     "metadata": {},
     "output_type": "execute_result"
    }
   ],
   "source": [
    "crime.shape"
   ]
  },
  {
   "cell_type": "markdown",
   "metadata": {},
   "source": [
    "# Description de la Base de données SQL"
   ]
  },
  {
   "cell_type": "markdown",
   "metadata": {},
   "source": [
    "Un concept a été réalisé pour disposer nos données au vu d'une intégration dans une base de donnée. Le MCD est représenté ci-dessous :"
   ]
  },
  {
   "attachments": {
    "MCD.png": {
     "image/png": "[encoded data removed]"
    }
   },
   "cell_type": "markdown",
   "metadata": {},
   "source": [
    "![MCD.png](attachment:MCD.png)"
   ]
  },
  {
   "cell_type": "code",
   "execution_count": 120,
   "metadata": {},
   "outputs": [],
   "source": [
    "import mysql.connector\n",
    "\n",
    "config = {\n",
    "      'user': 'root',\n",
    "      'password': 'root',\n",
    "      'host': 'localhost',\n",
    "      'port': '8081',\n",
    "      'database': 'boston_baptiste',\n",
    "      'raise_on_warnings': True,\n",
    "    }\n",
    "\n",
    "#Création du Cursor\n",
    "link = mysql.connector.connect(**config)\n",
    "cursor = link.cursor()"
   ]
  },
  {
   "cell_type": "markdown",
   "metadata": {},
   "source": [
    "Les données de notre Dataframe ont été insérées dans notre base de données construit comme tel :"
   ]
  },
  {
   "attachments": {
    "BDD.png": {
     "image/png": "[encoded data removed]"
    }
   },
   "cell_type": "markdown",
   "metadata": {},
   "source": [
    "![BDD.png](attachment:BDD.png)"
   ]
  },
  {
   "cell_type": "markdown",
   "metadata": {},
   "source": [
    "Une table générale contenant la plupart des variables de notre Dataframe à savoir le type du méfait, l'heure, le jour, le mois ainsi que la zone où s'est déroulé le méfait (Latitude, Longitude, Rue et Distirct). Le type du méfait est relié à la table de descrition et au groupe. La rue est quant à elle, reliée à une table affichant le nom de celle-ci."
   ]
  },
  {
   "cell_type": "markdown",
   "metadata": {},
   "source": [
    "## Insertion des données en base"
   ]
  },
  {
   "cell_type": "code",
   "execution_count": null,
   "metadata": {},
   "outputs": [],
   "source": [
    "##### Tableau des groupes d'offense :\n",
    "for row_group in range(len(group_tab)):\n",
    "    group_id = group_tab[\"GROUP_ID\"][row_group]\n",
    "    group_name = group_tab[\"GROUP_NAME\"][row_group]\n",
    "    print(group_id, group_name)\n",
    "    table = \"INSERT INTO offense_groups (id_group, group_name) VALUES (%s, %s)\"\n",
    "    values = (int(group_id), group_name)\n",
    "    cursor.execute(table, values)\n",
    "    link.commit()"
   ]
  },
  {
   "cell_type": "code",
   "execution_count": null,
   "metadata": {},
   "outputs": [],
   "source": [
    "##### Tableau des codes :\n",
    "for row_code in range(len(offense_codes)):\n",
    "    code_id = offense_codes[\"CODE\"][row_code]\n",
    "    code_name = offense_codes[\"NAME\"][row_code]\n",
    "    code_group = offense_codes[\"OFFENSE_CODE_GROUP\"][row_code]\n",
    "    print(code_id, code_name, code_group)\n",
    "    table = \"INSERT INTO offense_codes (id_code, code_name, code_group) VALUES (%s, %s, %s)\"\n",
    "    values = (code_id.item(), code_name, code_group.item())\n",
    "    cursor.execute(table, values)\n",
    "    link.commit()"
   ]
  },
  {
   "cell_type": "code",
   "execution_count": null,
   "metadata": {},
   "outputs": [],
   "source": [
    "##### Tableau des rues :\n",
    "for row_street in range(len(street_tab)):\n",
    "    street_id = street_tab[\"STREET_ID\"][row_street]\n",
    "    street_name = street_tab[\"STREET_NAME\"][row_street]\n",
    "    print(street_id, street_name)\n",
    "    table = \"INSERT INTO streets (id_street, street_name) VALUES (%s, %s)\"\n",
    "    values = (int(street_id), street_name)\n",
    "    cursor.execute(table, values)\n",
    "    link.commit()"
   ]
  },
  {
   "cell_type": "code",
   "execution_count": null,
   "metadata": {},
   "outputs": [],
   "source": [
    "##### Tableau des crimes :\n",
    "len_crime = len(crime.index)\n",
    "num_row = 0\n",
    "percent_crime2 = 0\n",
    "\n",
    "for row_crime in crime.index:\n",
    "    try:\n",
    "        percent_crime = int((num_row/len_crime)*100)\n",
    "        if percent_crime > percent_crime2:\n",
    "            percent_crime2 += 1\n",
    "            print(\"percent \", percent_crime2)\n",
    "        num_row += 1\n",
    "        table = \"INSERT INTO crimes (crime_number, crime_offense_code, crime_district, crime_reporting_area, crime_shooting, crime_month, crime_day_month, crime_day_week, crime_hour, crime_lat, crime_long, crime_street, crime_ucr_part) VALUES (%s, %s, %s, %s, %s, %s, %s, %s, %s, %s, %s, %s, %s)\"\n",
    "        values = (crime[\"INCIDENT_NUMBER\"][row_crime], int(crime[\"OFFENSE_CODE\"][row_crime].item()), crime[\"DISTRICT\"][row_crime], int(crime[\"REPORTING_AREA\"][row_crime]), int(crime[\"SHOOTING\"][row_crime]), int(crime[\"MONTH\"][row_crime]), int(crime[\"DAY_OF_MONTH\"][row_crime]), int(crime[\"DAY_OF_WEEK\"][row_crime]), int(crime[\"HOUR\"][row_crime]), str(crime[\"Lat\"][row_crime]), str(crime[\"Long\"][row_crime]), int(crime[\"STREET\"][row_crime]), int(crime[\"UCR_PART\"][row_crime]))\n",
    "        cursor.execute(table, values)\n",
    "        link.commit()\n",
    "    except:\n",
    "        pass"
   ]
  },
  {
   "cell_type": "markdown",
   "metadata": {},
   "source": [
    "# Traitement des données"
   ]
  },
  {
   "cell_type": "markdown",
   "metadata": {},
   "source": [
    "### Proportion des types d'incident dans Boston en 2017"
   ]
  },
  {
   "cell_type": "markdown",
   "metadata": {},
   "source": [
    "Nous souhaitons tout d'abord connaitre le type d'intervention se déroulant dans Boston. Ayant établi une sélection des données en amont, nous nous concentrons sur celles de la deuxième partie de l'année de 2017.\n",
    "\n",
    "Nous traitons les données à partir de la base SQL et nous recréons une liste transformée en DataFrame pour leur analyse. Nous avons ici sélectionné les types de méfait par une requête de la table offense_code qui répertorie leurs descriptions. Afin de mesurer la proportion de ces méfaits, nous appelons la méthode value_counts :"
   ]
  },
  {
   "cell_type": "code",
   "execution_count": 105,
   "metadata": {},
   "outputs": [],
   "source": [
    "cursor.execute(\"SELECT code_name FROM offense_codes JOIN crimes ON offense_codes.id_code = crimes.crime_offense_code\")\n",
    "rows = cursor.fetchall()\n",
    "\n",
    "crime = []\n",
    "for code_name in rows :\n",
    "    crime.append(code_name)\n",
    "\n",
    "crime = pd.DataFrame(crime, columns=['Description'])"
   ]
  },
  {
   "cell_type": "markdown",
   "metadata": {},
   "source": [
    "Nous affichons ensuite celles-ci dans un treemap avec la librairie Plotly :"
   ]
  },
  {
   "cell_type": "code",
   "execution_count": 106,
   "metadata": {},
   "outputs": [],
   "source": [
    "import matplotlib.pyplot as plt\n",
    "import plotly.graph_objects as go\n",
    "import plotly.express as px\n",
    "\n",
    "crime_count = crime['Description'].value_counts()\n",
    "values =crime_count.values\n",
    "categories = pd.DataFrame(data=crime_count.index, columns=[\"Description\"])\n",
    "categories['values'] = values"
   ]
  },
  {
   "cell_type": "code",
   "execution_count": 110,
   "metadata": {},
   "outputs": [
    {
     "data": {
      "application/vnd.plotly.v1+json": {
       "config": {
        "plotlyServerURL": "https://plot.ly"
       },
       "data": [
        {
         "branchvalues": "total",
         "domain": {
          "x": [
           0,
           1
          ],
          "y": [
           0,
           1
          ]
         },
         "hovertemplate": "labels=%{label}<br>value=%{value}<br>parent=%{parent}<br>id=%{id}<extra></extra>",
         "ids": [
          "ANIMAL ABUSE",
          "ANIMAL CONTROL - DOG BITES - ETC.",
          "ANIMAL INCIDENTS",
          "ARSON",
          "ASSAULT - AGGRAVATED",
          "ASSAULT - AGGRAVATED - BATTERY",
          "ASSAULT - SIMPLE",
          "ASSAULT SIMPLE - BATTERY",
          "AUTO THEFT",
          "AUTO THEFT - LEASED/RENTED VEHICLE",
          "AUTO THEFT - MOTORCYCLE / SCOOTER",
          "BALLISTICS EVIDENCE/FOUND",
          "BIOLOGICAL THREATS",
          "BOMB THREAT",
          "BURGLARY - COMMERICAL - ATTEMPT",
          "BURGLARY - COMMERICAL - FORCE",
          "BURGLARY - COMMERICAL - NO FORCE",
          "BURGLARY - OTHER - ATTEMPT",
          "BURGLARY - OTHER - FORCE",
          "BURGLARY - OTHER - NO FORCE",
          "BURGLARY - RESIDENTIAL - ATTEMPT",
          "BURGLARY - RESIDENTIAL - FORCE",
          "BURGLARY - RESIDENTIAL - NO FORCE",
          "CHILD ABANDONMENT (NO ASSAULT)",
          "CHILD ENDANGERMENT (NO ASSAULT)",
          "CHINS",
          "CONSPIRACY EXCEPT DRUG LAW",
          "CONTRIBUTING TO DELINQUENCY OF MINOR",
          "CRIMINAL HARASSMENT",
          "DANGEROUS OR HAZARDOUS CONDITION",
          "DEATH INVESTIGATION",
          "DISORDERLY CONDUCT",
          "DRUGS - POSSESSION",
          "DRUGS - POSSESSION OF DRUG PARAPHANALIA",
          "DRUGS - SALE / MANUFACTURING",
          "DRUGS - SICK ASSIST - HEROIN",
          "DRUGS - SICK ASSIST - OTHER HARMFUL DRUG",
          "DRUGS - SICK ASSIST - OTHER NARCOTIC",
          "EMBEZZLEMENT",
          "EVADING FARE",
          "EXPLOSIVES - TURNED IN OR FOUND",
          "EXTORTION OR BLACKMAIL",
          "FIRE REPORT - CAR, BRUSH, ETC.",
          "FIRE REPORT - HOUSE, BUILDING, ETC.",
          "FIRE REPORT/ALARM - FALSE",
          "FIREARM/WEAPON - LOST",
          "FORGERY / COUNTERFEITING",
          "FRAUD - CREDIT CARD / ATM FRAUD",
          "FRAUD - FALSE PRETENSE / SCHEME",
          "FRAUD - IMPERSONATION",
          "FRAUD - WELFARE",
          "FRAUD - WIRE",
          "FUGITIVE FROM JUSTICE",
          "GAMBLING - BETTING / WAGERING",
          "GRAFFITI",
          "HARASSMENT",
          "HARBOR INCIDENT / VIOLATION",
          "INJURY BICYCLE NO M/V INVOLVED",
          "INTIMIDATING WITNESS",
          "INVESTIGATE PERSON",
          "INVESTIGATE PROPERTY",
          "INVESTIGATION FOR ANOTHER AGENCY",
          "KIDNAPPING - ENTICING OR ATTEMPTED",
          "KIDNAPPING/CUSTODIAL KIDNAPPING",
          "LANDLORD - TENANT SERVICE",
          "LARCENY ALL OTHERS",
          "LARCENY PICK-POCKET",
          "LARCENY PURSE SNATCH - NO FORCE ",
          "LARCENY SHOPLIFTING",
          "LARCENY THEFT FROM BUILDING",
          "LARCENY THEFT FROM COIN-OP MACHINE",
          "LARCENY THEFT FROM MV - NON-ACCESSORY",
          "LARCENY THEFT OF BICYCLE",
          "LARCENY THEFT OF MV PARTS & ACCESSORIES",
          "LICENSE PREMISE VIOLATION",
          "LIQUOR - DRINKING IN PUBLIC",
          "LIQUOR LAW VIOLATION",
          "M/V - LEAVING SCENE - PERSONAL INJURY",
          "M/V - LEAVING SCENE - PROPERTY DAMAGE",
          "M/V ACCIDENT - INVOLVING BICYCLE - NO INJURY",
          "M/V ACCIDENT - INVOLVING PEDESTRIAN - NO INJURY",
          "M/V ACCIDENT - INVOLVING ÊBICYCLE - INJURY",
          "M/V ACCIDENT - OTHER",
          "M/V ACCIDENT - OTHER CITY VEHICLE",
          "M/V ACCIDENT - PERSONAL INJURY",
          "M/V ACCIDENT - POLICE VEHICLE",
          "M/V ACCIDENT - PROPERTY ÊDAMAGE",
          "M/V ACCIDENT INVOLVING PEDESTRIAN - INJURY",
          "M/V PLATES - LOST",
          "MANSLAUGHTER - VEHICLE - NEGLIGENCE",
          "MISSING PERSON",
          "MISSING PERSON - LOCATED",
          "MISSING PERSON - NOT REPORTED - LOCATED",
          "MURDER, NON-NEGLIGIENT MANSLAUGHTER",
          "NOISY PARTY/RADIO-ARREST",
          "NOISY PARTY/RADIO-NO ARREST",
          "OBSCENE MATERIALS - PORNOGRAPHY",
          "OBSCENE PHONE CALLS",
          "OPERATING UNDER THE INFLUENCE ALCOHOL",
          "OPERATING UNDER THE INFLUENCE DRUGS",
          "OTHER OFFENSE",
          "POSSESSION OF BURGLARIOUS TOOLS",
          "PRISONER - SUICIDE / SUICIDE ATTEMPT",
          "PRISONER ATTEMPT TO RESCUE",
          "PRISONER ESCAPE / ESCAPE & RECAPTURE",
          "PROPERTY - ACCIDENTAL DAMAGE",
          "PROPERTY - FOUND",
          "PROPERTY - LOST",
          "PROPERTY - LOST THEN LOCATED",
          "PROPERTY - MISSING",
          "PROPERTY - STOLEN THEN RECOVERED",
          "PROSTITUTION",
          "PROSTITUTION - COMMON NIGHTWALKER",
          "PROSTITUTION - SOLICITING",
          "PROTECTIVE CUSTODY / SAFEKEEPING",
          "RECOVERED - MV RECOVERED IN BOSTON (STOLEN OUTSIDE BOSTON)",
          "REPORT AFFECTING OTHER DEPTS.",
          "ROBBERY - BANK",
          "ROBBERY - CAR JACKING",
          "ROBBERY - COMMERCIAL",
          "ROBBERY - HOME INVASION",
          "ROBBERY - OTHER",
          "ROBBERY - STREET",
          "SEARCH WARRANT",
          "SERVICE TO OTHER PD INSIDE OF MA.",
          "SERVICE TO OTHER PD OUTSIDE OF MA.",
          "SICK/INJURED/MEDICAL - PERSON",
          "SICK/INJURED/MEDICAL - POLICE",
          "STALKING",
          "STOLEN PROPERTY - BUYING / RECEIVING / POSSESSING",
          "SUDDEN DEATH",
          "SUICIDE / SUICIDE ATTEMPT",
          "THREATS TO DO BODILY HARM",
          "TOWED MOTOR VEHICLE",
          "TRESPASSING",
          "TRUANCY / RUNAWAY",
          "VAL - OPERATING AFTER REV/SUSP.",
          "VAL - OPERATING UNREG/UNINS ÊCAR",
          "VAL - OPERATING W/O AUTHORIZATION LAWFUL",
          "VAL - OPERATING WITHOUT LICENSE",
          "VAL - VIOLATION OF AUTO LAW - OTHER",
          "VANDALISM",
          "VERBAL DISPUTE",
          "VIOL. OF RESTRAINING ORDER W ARREST",
          "VIOL. OF RESTRAINING ORDER W NO ARREST",
          "VIOLATION - CITY ORDINANCE",
          "VIOLATION - CITY ORDINANCE CONSTRUCTION PERMIT",
          "VIOLATION - HAWKER AND PEDDLER",
          "WARRANT ARREST",
          "WEAPON - FIREARM - CARRYING / POSSESSING, ETC",
          "WEAPON - FIREARM - OTHER VIOLATION",
          "WEAPON - FIREARM - SALE / TRAFFICKING",
          "WEAPON - OTHER - CARRYING / POSSESSING, ETC",
          "WEAPON - OTHER - OTHER VIOLATION"
         ],
         "labels": [
          "ANIMAL ABUSE",
          "ANIMAL CONTROL - DOG BITES - ETC.",
          "ANIMAL INCIDENTS",
          "ARSON",
          "ASSAULT - AGGRAVATED",
          "ASSAULT - AGGRAVATED - BATTERY",
          "ASSAULT - SIMPLE",
          "ASSAULT SIMPLE - BATTERY",
          "AUTO THEFT",
          "AUTO THEFT - LEASED/RENTED VEHICLE",
          "AUTO THEFT - MOTORCYCLE / SCOOTER",
          "BALLISTICS EVIDENCE/FOUND",
          "BIOLOGICAL THREATS",
          "BOMB THREAT",
          "BURGLARY - COMMERICAL - ATTEMPT",
          "BURGLARY - COMMERICAL - FORCE",
          "BURGLARY - COMMERICAL - NO FORCE",
          "BURGLARY - OTHER - ATTEMPT",
          "BURGLARY - OTHER - FORCE",
          "BURGLARY - OTHER - NO FORCE",
          "BURGLARY - RESIDENTIAL - ATTEMPT",
          "BURGLARY - RESIDENTIAL - FORCE",
          "BURGLARY - RESIDENTIAL - NO FORCE",
          "CHILD ABANDONMENT (NO ASSAULT)",
          "CHILD ENDANGERMENT (NO ASSAULT)",
          "CHINS",
          "CONSPIRACY EXCEPT DRUG LAW",
          "CONTRIBUTING TO DELINQUENCY OF MINOR",
          "CRIMINAL HARASSMENT",
          "DANGEROUS OR HAZARDOUS CONDITION",
          "DEATH INVESTIGATION",
          "DISORDERLY CONDUCT",
          "DRUGS - POSSESSION",
          "DRUGS - POSSESSION OF DRUG PARAPHANALIA",
          "DRUGS - SALE / MANUFACTURING",
          "DRUGS - SICK ASSIST - HEROIN",
          "DRUGS - SICK ASSIST - OTHER HARMFUL DRUG",
          "DRUGS - SICK ASSIST - OTHER NARCOTIC",
          "EMBEZZLEMENT",
          "EVADING FARE",
          "EXPLOSIVES - TURNED IN OR FOUND",
          "EXTORTION OR BLACKMAIL",
          "FIRE REPORT - CAR, BRUSH, ETC.",
          "FIRE REPORT - HOUSE, BUILDING, ETC.",
          "FIRE REPORT/ALARM - FALSE",
          "FIREARM/WEAPON - LOST",
          "FORGERY / COUNTERFEITING",
          "FRAUD - CREDIT CARD / ATM FRAUD",
          "FRAUD - FALSE PRETENSE / SCHEME",
          "FRAUD - IMPERSONATION",
          "FRAUD - WELFARE",
          "FRAUD - WIRE",
          "FUGITIVE FROM JUSTICE",
          "GAMBLING - BETTING / WAGERING",
          "GRAFFITI",
          "HARASSMENT",
          "HARBOR INCIDENT / VIOLATION",
          "INJURY BICYCLE NO M/V INVOLVED",
          "INTIMIDATING WITNESS",
          "INVESTIGATE PERSON",
          "INVESTIGATE PROPERTY",
          "INVESTIGATION FOR ANOTHER AGENCY",
          "KIDNAPPING - ENTICING OR ATTEMPTED",
          "KIDNAPPING/CUSTODIAL KIDNAPPING",
          "LANDLORD - TENANT SERVICE",
          "LARCENY ALL OTHERS",
          "LARCENY PICK-POCKET",
          "LARCENY PURSE SNATCH - NO FORCE ",
          "LARCENY SHOPLIFTING",
          "LARCENY THEFT FROM BUILDING",
          "LARCENY THEFT FROM COIN-OP MACHINE",
          "LARCENY THEFT FROM MV - NON-ACCESSORY",
          "LARCENY THEFT OF BICYCLE",
          "LARCENY THEFT OF MV PARTS & ACCESSORIES",
          "LICENSE PREMISE VIOLATION",
          "LIQUOR - DRINKING IN PUBLIC",
          "LIQUOR LAW VIOLATION",
          "M/V - LEAVING SCENE - PERSONAL INJURY",
          "M/V - LEAVING SCENE - PROPERTY DAMAGE",
          "M/V ACCIDENT - INVOLVING BICYCLE - NO INJURY",
          "M/V ACCIDENT - INVOLVING PEDESTRIAN - NO INJURY",
          "M/V ACCIDENT - INVOLVING ÊBICYCLE - INJURY",
          "M/V ACCIDENT - OTHER",
          "M/V ACCIDENT - OTHER CITY VEHICLE",
          "M/V ACCIDENT - PERSONAL INJURY",
          "M/V ACCIDENT - POLICE VEHICLE",
          "M/V ACCIDENT - PROPERTY ÊDAMAGE",
          "M/V ACCIDENT INVOLVING PEDESTRIAN - INJURY",
          "M/V PLATES - LOST",
          "MANSLAUGHTER - VEHICLE - NEGLIGENCE",
          "MISSING PERSON",
          "MISSING PERSON - LOCATED",
          "MISSING PERSON - NOT REPORTED - LOCATED",
          "MURDER, NON-NEGLIGIENT MANSLAUGHTER",
          "NOISY PARTY/RADIO-ARREST",
          "NOISY PARTY/RADIO-NO ARREST",
          "OBSCENE MATERIALS - PORNOGRAPHY",
          "OBSCENE PHONE CALLS",
          "OPERATING UNDER THE INFLUENCE ALCOHOL",
          "OPERATING UNDER THE INFLUENCE DRUGS",
          "OTHER OFFENSE",
          "POSSESSION OF BURGLARIOUS TOOLS",
          "PRISONER - SUICIDE / SUICIDE ATTEMPT",
          "PRISONER ATTEMPT TO RESCUE",
          "PRISONER ESCAPE / ESCAPE & RECAPTURE",
          "PROPERTY - ACCIDENTAL DAMAGE",
          "PROPERTY - FOUND",
          "PROPERTY - LOST",
          "PROPERTY - LOST THEN LOCATED",
          "PROPERTY - MISSING",
          "PROPERTY - STOLEN THEN RECOVERED",
          "PROSTITUTION",
          "PROSTITUTION - COMMON NIGHTWALKER",
          "PROSTITUTION - SOLICITING",
          "PROTECTIVE CUSTODY / SAFEKEEPING",
          "RECOVERED - MV RECOVERED IN BOSTON (STOLEN OUTSIDE BOSTON)",
          "REPORT AFFECTING OTHER DEPTS.",
          "ROBBERY - BANK",
          "ROBBERY - CAR JACKING",
          "ROBBERY - COMMERCIAL",
          "ROBBERY - HOME INVASION",
          "ROBBERY - OTHER",
          "ROBBERY - STREET",
          "SEARCH WARRANT",
          "SERVICE TO OTHER PD INSIDE OF MA.",
          "SERVICE TO OTHER PD OUTSIDE OF MA.",
          "SICK/INJURED/MEDICAL - PERSON",
          "SICK/INJURED/MEDICAL - POLICE",
          "STALKING",
          "STOLEN PROPERTY - BUYING / RECEIVING / POSSESSING",
          "SUDDEN DEATH",
          "SUICIDE / SUICIDE ATTEMPT",
          "THREATS TO DO BODILY HARM",
          "TOWED MOTOR VEHICLE",
          "TRESPASSING",
          "TRUANCY / RUNAWAY",
          "VAL - OPERATING AFTER REV/SUSP.",
          "VAL - OPERATING UNREG/UNINS ÊCAR",
          "VAL - OPERATING W/O AUTHORIZATION LAWFUL",
          "VAL - OPERATING WITHOUT LICENSE",
          "VAL - VIOLATION OF AUTO LAW - OTHER",
          "VANDALISM",
          "VERBAL DISPUTE",
          "VIOL. OF RESTRAINING ORDER W ARREST",
          "VIOL. OF RESTRAINING ORDER W NO ARREST",
          "VIOLATION - CITY ORDINANCE",
          "VIOLATION - CITY ORDINANCE CONSTRUCTION PERMIT",
          "VIOLATION - HAWKER AND PEDDLER",
          "WARRANT ARREST",
          "WEAPON - FIREARM - CARRYING / POSSESSING, ETC",
          "WEAPON - FIREARM - OTHER VIOLATION",
          "WEAPON - FIREARM - SALE / TRAFFICKING",
          "WEAPON - OTHER - CARRYING / POSSESSING, ETC",
          "WEAPON - OTHER - OTHER VIOLATION"
         ],
         "name": "",
         "parents": [
          "",
          "",
          "",
          "",
          "",
          "",
          "",
          "",
          "",
          "",
          "",
          "",
          "",
          "",
          "",
          "",
          "",
          "",
          "",
          "",
          "",
          "",
          "",
          "",
          "",
          "",
          "",
          "",
          "",
          "",
          "",
          "",
          "",
          "",
          "",
          "",
          "",
          "",
          "",
          "",
          "",
          "",
          "",
          "",
          "",
          "",
          "",
          "",
          "",
          "",
          "",
          "",
          "",
          "",
          "",
          "",
          "",
          "",
          "",
          "",
          "",
          "",
          "",
          "",
          "",
          "",
          "",
          "",
          "",
          "",
          "",
          "",
          "",
          "",
          "",
          "",
          "",
          "",
          "",
          "",
          "",
          "",
          "",
          "",
          "",
          "",
          "",
          "",
          "",
          "",
          "",
          "",
          "",
          "",
          "",
          "",
          "",
          "",
          "",
          "",
          "",
          "",
          "",
          "",
          "",
          "",
          "",
          "",
          "",
          "",
          "",
          "",
          "",
          "",
          "",
          "",
          "",
          "",
          "",
          "",
          "",
          "",
          "",
          "",
          "",
          "",
          "",
          "",
          "",
          "",
          "",
          "",
          "",
          "",
          "",
          "",
          "",
          "",
          "",
          "",
          "",
          "",
          "",
          "",
          "",
          "",
          "",
          "",
          "",
          "",
          "",
          "",
          "",
          ""
         ],
         "type": "treemap",
         "values": [
          12,
          54,
          52,
          17,
          415,
          752,
          119,
          2222,
          499,
          51,
          145,
          166,
          2,
          3,
          16,
          155,
          42,
          5,
          45,
          15,
          94,
          384,
          294,
          7,
          24,
          5,
          1,
          4,
          14,
          41,
          173,
          210,
          11,
          11,
          205,
          193,
          27,
          33,
          67,
          49,
          1,
          15,
          65,
          194,
          25,
          1,
          264,
          427,
          582,
          180,
          1,
          72,
          33,
          5,
          31,
          678,
          17,
          7,
          41,
          3545,
          1954,
          31,
          6,
          8,
          149,
          930,
          57,
          24,
          1230,
          1430,
          3,
          1321,
          374,
          272,
          229,
          140,
          37,
          180,
          2240,
          34,
          46,
          102,
          433,
          96,
          602,
          108,
          852,
          180,
          81,
          1,
          588,
          637,
          76,
          30,
          3,
          93,
          8,
          1,
          58,
          9,
          80,
          27,
          2,
          1,
          1,
          144,
          615,
          1380,
          31,
          116,
          84,
          7,
          2,
          40,
          2,
          181,
          14,
          25,
          14,
          85,
          9,
          83,
          420,
          159,
          135,
          37,
          2877,
          202,
          9,
          167,
          243,
          43,
          1343,
          1878,
          555,
          5,
          283,
          128,
          70,
          202,
          326,
          2229,
          2194,
          42,
          226,
          41,
          2,
          1,
          1325,
          109,
          31,
          2,
          60,
          16
         ]
        }
       ],
       "layout": {
        "height": 650,
        "legend": {
         "tracegroupgap": 0
        },
        "template": {
         "data": {
          "bar": [
           {
            "error_x": {
             "color": "#2a3f5f"
            },
            "error_y": {
             "color": "#2a3f5f"
            },
            "marker": {
             "line": {
              "color": "#E5ECF6",
              "width": 0.5
             }
            },
            "type": "bar"
           }
          ],
          "barpolar": [
           {
            "marker": {
             "line": {
              "color": "#E5ECF6",
              "width": 0.5
             }
            },
            "type": "barpolar"
           }
          ],
          "carpet": [
           {
            "aaxis": {
             "endlinecolor": "#2a3f5f",
             "gridcolor": "white",
             "linecolor": "white",
             "minorgridcolor": "white",
             "startlinecolor": "#2a3f5f"
            },
            "baxis": {
             "endlinecolor": "#2a3f5f",
             "gridcolor": "white",
             "linecolor": "white",
             "minorgridcolor": "white",
             "startlinecolor": "#2a3f5f"
            },
            "type": "carpet"
           }
          ],
          "choropleth": [
           {
            "colorbar": {
             "outlinewidth": 0,
             "ticks": ""
            },
            "type": "choropleth"
           }
          ],
          "contour": [
           {
            "colorbar": {
             "outlinewidth": 0,
             "ticks": ""
            },
            "colorscale": [
             [
              0,
              "#0d0887"
             ],
             [
              0.1111111111111111,
              "#46039f"
             ],
             [
              0.2222222222222222,
              "#7201a8"
             ],
             [
              0.3333333333333333,
              "#9c179e"
             ],
             [
              0.4444444444444444,
              "#bd3786"
             ],
             [
              0.5555555555555556,
              "#d8576b"
             ],
             [
              0.6666666666666666,
              "#ed7953"
             ],
             [
              0.7777777777777778,
              "#fb9f3a"
             ],
             [
              0.8888888888888888,
              "#fdca26"
             ],
             [
              1,
              "#f0f921"
             ]
            ],
            "type": "contour"
           }
          ],
          "contourcarpet": [
           {
            "colorbar": {
             "outlinewidth": 0,
             "ticks": ""
            },
            "type": "contourcarpet"
           }
          ],
          "heatmap": [
           {
            "colorbar": {
             "outlinewidth": 0,
             "ticks": ""
            },
            "colorscale": [
             [
              0,
              "#0d0887"
             ],
             [
              0.1111111111111111,
              "#46039f"
             ],
             [
              0.2222222222222222,
              "#7201a8"
             ],
             [
              0.3333333333333333,
              "#9c179e"
             ],
             [
              0.4444444444444444,
              "#bd3786"
             ],
             [
              0.5555555555555556,
              "#d8576b"
             ],
             [
              0.6666666666666666,
              "#ed7953"
             ],
             [
              0.7777777777777778,
              "#fb9f3a"
             ],
             [
              0.8888888888888888,
              "#fdca26"
             ],
             [
              1,
              "#f0f921"
             ]
            ],
            "type": "heatmap"
           }
          ],
          "heatmapgl": [
           {
            "colorbar": {
             "outlinewidth": 0,
             "ticks": ""
            },
            "colorscale": [
             [
              0,
              "#0d0887"
             ],
             [
              0.1111111111111111,
              "#46039f"
             ],
             [
              0.2222222222222222,
              "#7201a8"
             ],
             [
              0.3333333333333333,
              "#9c179e"
             ],
             [
              0.4444444444444444,
              "#bd3786"
             ],
             [
              0.5555555555555556,
              "#d8576b"
             ],
             [
              0.6666666666666666,
              "#ed7953"
             ],
             [
              0.7777777777777778,
              "#fb9f3a"
             ],
             [
              0.8888888888888888,
              "#fdca26"
             ],
             [
              1,
              "#f0f921"
             ]
            ],
            "type": "heatmapgl"
           }
          ],
          "histogram": [
           {
            "marker": {
             "colorbar": {
              "outlinewidth": 0,
              "ticks": ""
             }
            },
            "type": "histogram"
           }
          ],
          "histogram2d": [
           {
            "colorbar": {
             "outlinewidth": 0,
             "ticks": ""
            },
            "colorscale": [
             [
              0,
              "#0d0887"
             ],
             [
              0.1111111111111111,
              "#46039f"
             ],
             [
              0.2222222222222222,
              "#7201a8"
             ],
             [
              0.3333333333333333,
              "#9c179e"
             ],
             [
              0.4444444444444444,
              "#bd3786"
             ],
             [
              0.5555555555555556,
              "#d8576b"
             ],
             [
              0.6666666666666666,
              "#ed7953"
             ],
             [
              0.7777777777777778,
              "#fb9f3a"
             ],
             [
              0.8888888888888888,
              "#fdca26"
             ],
             [
              1,
              "#f0f921"
             ]
            ],
            "type": "histogram2d"
           }
          ],
          "histogram2dcontour": [
           {
            "colorbar": {
             "outlinewidth": 0,
             "ticks": ""
            },
            "colorscale": [
             [
              0,
              "#0d0887"
             ],
             [
              0.1111111111111111,
              "#46039f"
             ],
             [
              0.2222222222222222,
              "#7201a8"
             ],
             [
              0.3333333333333333,
              "#9c179e"
             ],
             [
              0.4444444444444444,
              "#bd3786"
             ],
             [
              0.5555555555555556,
              "#d8576b"
             ],
             [
              0.6666666666666666,
              "#ed7953"
             ],
             [
              0.7777777777777778,
              "#fb9f3a"
             ],
             [
              0.8888888888888888,
              "#fdca26"
             ],
             [
              1,
              "#f0f921"
             ]
            ],
            "type": "histogram2dcontour"
           }
          ],
          "mesh3d": [
           {
            "colorbar": {
             "outlinewidth": 0,
             "ticks": ""
            },
            "type": "mesh3d"
           }
          ],
          "parcoords": [
           {
            "line": {
             "colorbar": {
              "outlinewidth": 0,
              "ticks": ""
             }
            },
            "type": "parcoords"
           }
          ],
          "pie": [
           {
            "automargin": true,
            "type": "pie"
           }
          ],
          "scatter": [
           {
            "marker": {
             "colorbar": {
              "outlinewidth": 0,
              "ticks": ""
             }
            },
            "type": "scatter"
           }
          ],
          "scatter3d": [
           {
            "line": {
             "colorbar": {
              "outlinewidth": 0,
              "ticks": ""
             }
            },
            "marker": {
             "colorbar": {
              "outlinewidth": 0,
              "ticks": ""
             }
            },
            "type": "scatter3d"
           }
          ],
          "scattercarpet": [
           {
            "marker": {
             "colorbar": {
              "outlinewidth": 0,
              "ticks": ""
             }
            },
            "type": "scattercarpet"
           }
          ],
          "scattergeo": [
           {
            "marker": {
             "colorbar": {
              "outlinewidth": 0,
              "ticks": ""
             }
            },
            "type": "scattergeo"
           }
          ],
          "scattergl": [
           {
            "marker": {
             "colorbar": {
              "outlinewidth": 0,
              "ticks": ""
             }
            },
            "type": "scattergl"
           }
          ],
          "scattermapbox": [
           {
            "marker": {
             "colorbar": {
              "outlinewidth": 0,
              "ticks": ""
             }
            },
            "type": "scattermapbox"
           }
          ],
          "scatterpolar": [
           {
            "marker": {
             "colorbar": {
              "outlinewidth": 0,
              "ticks": ""
             }
            },
            "type": "scatterpolar"
           }
          ],
          "scatterpolargl": [
           {
            "marker": {
             "colorbar": {
              "outlinewidth": 0,
              "ticks": ""
             }
            },
            "type": "scatterpolargl"
           }
          ],
          "scatterternary": [
           {
            "marker": {
             "colorbar": {
              "outlinewidth": 0,
              "ticks": ""
             }
            },
            "type": "scatterternary"
           }
          ],
          "surface": [
           {
            "colorbar": {
             "outlinewidth": 0,
             "ticks": ""
            },
            "colorscale": [
             [
              0,
              "#0d0887"
             ],
             [
              0.1111111111111111,
              "#46039f"
             ],
             [
              0.2222222222222222,
              "#7201a8"
             ],
             [
              0.3333333333333333,
              "#9c179e"
             ],
             [
              0.4444444444444444,
              "#bd3786"
             ],
             [
              0.5555555555555556,
              "#d8576b"
             ],
             [
              0.6666666666666666,
              "#ed7953"
             ],
             [
              0.7777777777777778,
              "#fb9f3a"
             ],
             [
              0.8888888888888888,
              "#fdca26"
             ],
             [
              1,
              "#f0f921"
             ]
            ],
            "type": "surface"
           }
          ],
          "table": [
           {
            "cells": {
             "fill": {
              "color": "#EBF0F8"
             },
             "line": {
              "color": "white"
             }
            },
            "header": {
             "fill": {
              "color": "#C8D4E3"
             },
             "line": {
              "color": "white"
             }
            },
            "type": "table"
           }
          ]
         },
         "layout": {
          "annotationdefaults": {
           "arrowcolor": "#2a3f5f",
           "arrowhead": 0,
           "arrowwidth": 1
          },
          "autotypenumbers": "strict",
          "coloraxis": {
           "colorbar": {
            "outlinewidth": 0,
            "ticks": ""
           }
          },
          "colorscale": {
           "diverging": [
            [
             0,
             "#8e0152"
            ],
            [
             0.1,
             "#c51b7d"
            ],
            [
             0.2,
             "#de77ae"
            ],
            [
             0.3,
             "#f1b6da"
            ],
            [
             0.4,
             "#fde0ef"
            ],
            [
             0.5,
             "#f7f7f7"
            ],
            [
             0.6,
             "#e6f5d0"
            ],
            [
             0.7,
             "#b8e186"
            ],
            [
             0.8,
             "#7fbc41"
            ],
            [
             0.9,
             "#4d9221"
            ],
            [
             1,
             "#276419"
            ]
           ],
           "sequential": [
            [
             0,
             "#0d0887"
            ],
            [
             0.1111111111111111,
             "#46039f"
            ],
            [
             0.2222222222222222,
             "#7201a8"
            ],
            [
             0.3333333333333333,
             "#9c179e"
            ],
            [
             0.4444444444444444,
             "#bd3786"
            ],
            [
             0.5555555555555556,
             "#d8576b"
            ],
            [
             0.6666666666666666,
             "#ed7953"
            ],
            [
             0.7777777777777778,
             "#fb9f3a"
            ],
            [
             0.8888888888888888,
             "#fdca26"
            ],
            [
             1,
             "#f0f921"
            ]
           ],
           "sequentialminus": [
            [
             0,
             "#0d0887"
            ],
            [
             0.1111111111111111,
             "#46039f"
            ],
            [
             0.2222222222222222,
             "#7201a8"
            ],
            [
             0.3333333333333333,
             "#9c179e"
            ],
            [
             0.4444444444444444,
             "#bd3786"
            ],
            [
             0.5555555555555556,
             "#d8576b"
            ],
            [
             0.6666666666666666,
             "#ed7953"
            ],
            [
             0.7777777777777778,
             "#fb9f3a"
            ],
            [
             0.8888888888888888,
             "#fdca26"
            ],
            [
             1,
             "#f0f921"
            ]
           ]
          },
          "colorway": [
           "#636efa",
           "#EF553B",
           "#00cc96",
           "#ab63fa",
           "#FFA15A",
           "#19d3f3",
           "#FF6692",
           "#B6E880",
           "#FF97FF",
           "#FECB52"
          ],
          "font": {
           "color": "#2a3f5f"
          },
          "geo": {
           "bgcolor": "white",
           "lakecolor": "white",
           "landcolor": "#E5ECF6",
           "showlakes": true,
           "showland": true,
           "subunitcolor": "white"
          },
          "hoverlabel": {
           "align": "left"
          },
          "hovermode": "closest",
          "mapbox": {
           "style": "light"
          },
          "paper_bgcolor": "white",
          "plot_bgcolor": "#E5ECF6",
          "polar": {
           "angularaxis": {
            "gridcolor": "white",
            "linecolor": "white",
            "ticks": ""
           },
           "bgcolor": "#E5ECF6",
           "radialaxis": {
            "gridcolor": "white",
            "linecolor": "white",
            "ticks": ""
           }
          },
          "scene": {
           "xaxis": {
            "backgroundcolor": "#E5ECF6",
            "gridcolor": "white",
            "gridwidth": 2,
            "linecolor": "white",
            "showbackground": true,
            "ticks": "",
            "zerolinecolor": "white"
           },
           "yaxis": {
            "backgroundcolor": "#E5ECF6",
            "gridcolor": "white",
            "gridwidth": 2,
            "linecolor": "white",
            "showbackground": true,
            "ticks": "",
            "zerolinecolor": "white"
           },
           "zaxis": {
            "backgroundcolor": "#E5ECF6",
            "gridcolor": "white",
            "gridwidth": 2,
            "linecolor": "white",
            "showbackground": true,
            "ticks": "",
            "zerolinecolor": "white"
           }
          },
          "shapedefaults": {
           "line": {
            "color": "#2a3f5f"
           }
          },
          "ternary": {
           "aaxis": {
            "gridcolor": "white",
            "linecolor": "white",
            "ticks": ""
           },
           "baxis": {
            "gridcolor": "white",
            "linecolor": "white",
            "ticks": ""
           },
           "bgcolor": "#E5ECF6",
           "caxis": {
            "gridcolor": "white",
            "linecolor": "white",
            "ticks": ""
           }
          },
          "title": {
           "x": 0.05
          },
          "xaxis": {
           "automargin": true,
           "gridcolor": "white",
           "linecolor": "white",
           "ticks": "",
           "title": {
            "standoff": 15
           },
           "zerolinecolor": "white",
           "zerolinewidth": 2
          },
          "yaxis": {
           "automargin": true,
           "gridcolor": "white",
           "linecolor": "white",
           "ticks": "",
           "title": {
            "standoff": 15
           },
           "zerolinecolor": "white",
           "zerolinewidth": 2
          }
         }
        },
        "title": {
         "text": "Proportion des méfaits dans Boston de Juillet à Décembre 2017"
        },
        "treemapcolorway": [
         "rgb(230, 240, 240)",
         "rgb(191, 221, 229)",
         "rgb(156, 201, 226)",
         "rgb(129, 180, 227)",
         "rgb(115, 154, 228)",
         "rgb(117, 127, 221)",
         "rgb(120, 100, 202)",
         "rgb(119, 74, 175)",
         "rgb(113, 50, 141)",
         "rgb(100, 31, 104)",
         "rgb(80, 20, 66)",
         "rgb(54, 14, 36)"
        ]
       }
      },
      "text/html": [
       "<div>                            <div id=\"210e898f-ea4f-41e8-ac36-c4054ac6eaef\" class=\"plotly-graph-div\" style=\"height:650px; width:100%;\"></div>            <script type=\"text/javascript\">                require([\"plotly\"], function(Plotly) {                    window.PLOTLYENV=window.PLOTLYENV || {};                                    if (document.getElementById(\"210e898f-ea4f-41e8-ac36-c4054ac6eaef\")) {                    Plotly.newPlot(                        \"210e898f-ea4f-41e8-ac36-c4054ac6eaef\",                        [{\"branchvalues\": \"total\", \"domain\": {\"x\": [0.0, 1.0], \"y\": [0.0, 1.0]}, \"hovertemplate\": \"labels=%{label}<br>value=%{value}<br>parent=%{parent}<br>id=%{id}<extra></extra>\", \"ids\": [\"ANIMAL ABUSE\", \"ANIMAL CONTROL - DOG BITES - ETC.\", \"ANIMAL INCIDENTS\", \"ARSON\", \"ASSAULT - AGGRAVATED\", \"ASSAULT - AGGRAVATED - BATTERY\", \"ASSAULT - SIMPLE\", \"ASSAULT SIMPLE - BATTERY\", \"AUTO THEFT\", \"AUTO THEFT - LEASED/RENTED VEHICLE\", \"AUTO THEFT - MOTORCYCLE / SCOOTER\", \"BALLISTICS EVIDENCE/FOUND\", \"BIOLOGICAL THREATS\", \"BOMB THREAT\", \"BURGLARY - COMMERICAL - ATTEMPT\", \"BURGLARY - COMMERICAL - FORCE\", \"BURGLARY - COMMERICAL - NO FORCE\", \"BURGLARY - OTHER - ATTEMPT\", \"BURGLARY - OTHER - FORCE\", \"BURGLARY - OTHER - NO FORCE\", \"BURGLARY - RESIDENTIAL - ATTEMPT\", \"BURGLARY - RESIDENTIAL - FORCE\", \"BURGLARY - RESIDENTIAL - NO FORCE\", \"CHILD ABANDONMENT (NO ASSAULT)\", \"CHILD ENDANGERMENT (NO ASSAULT)\", \"CHINS\", \"CONSPIRACY EXCEPT DRUG LAW\", \"CONTRIBUTING TO DELINQUENCY OF MINOR\", \"CRIMINAL HARASSMENT\", \"DANGEROUS OR HAZARDOUS CONDITION\", \"DEATH INVESTIGATION\", \"DISORDERLY CONDUCT\", \"DRUGS - POSSESSION\", \"DRUGS - POSSESSION OF DRUG PARAPHANALIA\", \"DRUGS - SALE / MANUFACTURING\", \"DRUGS - SICK ASSIST - HEROIN\", \"DRUGS - SICK ASSIST - OTHER HARMFUL DRUG\", \"DRUGS - SICK ASSIST - OTHER NARCOTIC\", \"EMBEZZLEMENT\", \"EVADING FARE\", \"EXPLOSIVES - TURNED IN OR FOUND\", \"EXTORTION OR BLACKMAIL\", \"FIRE REPORT - CAR, BRUSH, ETC.\", \"FIRE REPORT - HOUSE, BUILDING, ETC.\", \"FIRE REPORT/ALARM - FALSE\", \"FIREARM/WEAPON - LOST\", \"FORGERY / COUNTERFEITING\", \"FRAUD - CREDIT CARD / ATM FRAUD\", \"FRAUD - FALSE PRETENSE / SCHEME\", \"FRAUD - IMPERSONATION\", \"FRAUD - WELFARE\", \"FRAUD - WIRE\", \"FUGITIVE FROM JUSTICE\", \"GAMBLING - BETTING / WAGERING\", \"GRAFFITI\", \"HARASSMENT\", \"HARBOR INCIDENT / VIOLATION\", \"INJURY BICYCLE NO M/V INVOLVED\", \"INTIMIDATING WITNESS\", \"INVESTIGATE PERSON\", \"INVESTIGATE PROPERTY\", \"INVESTIGATION FOR ANOTHER AGENCY\", \"KIDNAPPING - ENTICING OR ATTEMPTED\", \"KIDNAPPING/CUSTODIAL KIDNAPPING\", \"LANDLORD - TENANT SERVICE\", \"LARCENY ALL OTHERS\", \"LARCENY PICK-POCKET\", \"LARCENY PURSE SNATCH - NO FORCE \", \"LARCENY SHOPLIFTING\", \"LARCENY THEFT FROM BUILDING\", \"LARCENY THEFT FROM COIN-OP MACHINE\", \"LARCENY THEFT FROM MV - NON-ACCESSORY\", \"LARCENY THEFT OF BICYCLE\", \"LARCENY THEFT OF MV PARTS & ACCESSORIES\", \"LICENSE PREMISE VIOLATION\", \"LIQUOR - DRINKING IN PUBLIC\", \"LIQUOR LAW VIOLATION\", \"M/V - LEAVING SCENE - PERSONAL INJURY\", \"M/V - LEAVING SCENE - PROPERTY DAMAGE\", \"M/V ACCIDENT - INVOLVING BICYCLE - NO INJURY\", \"M/V ACCIDENT - INVOLVING PEDESTRIAN - NO INJURY\", \"M/V ACCIDENT - INVOLVING \\u00caBICYCLE - INJURY\", \"M/V ACCIDENT - OTHER\", \"M/V ACCIDENT - OTHER CITY VEHICLE\", \"M/V ACCIDENT - PERSONAL INJURY\", \"M/V ACCIDENT - POLICE VEHICLE\", \"M/V ACCIDENT - PROPERTY \\u00caDAMAGE\", \"M/V ACCIDENT INVOLVING PEDESTRIAN - INJURY\", \"M/V PLATES - LOST\", \"MANSLAUGHTER - VEHICLE - NEGLIGENCE\", \"MISSING PERSON\", \"MISSING PERSON - LOCATED\", \"MISSING PERSON - NOT REPORTED - LOCATED\", \"MURDER, NON-NEGLIGIENT MANSLAUGHTER\", \"NOISY PARTY/RADIO-ARREST\", \"NOISY PARTY/RADIO-NO ARREST\", \"OBSCENE MATERIALS - PORNOGRAPHY\", \"OBSCENE PHONE CALLS\", \"OPERATING UNDER THE INFLUENCE ALCOHOL\", \"OPERATING UNDER THE INFLUENCE DRUGS\", \"OTHER OFFENSE\", \"POSSESSION OF BURGLARIOUS TOOLS\", \"PRISONER - SUICIDE / SUICIDE ATTEMPT\", \"PRISONER ATTEMPT TO RESCUE\", \"PRISONER ESCAPE / ESCAPE & RECAPTURE\", \"PROPERTY - ACCIDENTAL DAMAGE\", \"PROPERTY - FOUND\", \"PROPERTY - LOST\", \"PROPERTY - LOST THEN LOCATED\", \"PROPERTY - MISSING\", \"PROPERTY - STOLEN THEN RECOVERED\", \"PROSTITUTION\", \"PROSTITUTION - COMMON NIGHTWALKER\", \"PROSTITUTION - SOLICITING\", \"PROTECTIVE CUSTODY / SAFEKEEPING\", \"RECOVERED - MV RECOVERED IN BOSTON (STOLEN OUTSIDE BOSTON)\", \"REPORT AFFECTING OTHER DEPTS.\", \"ROBBERY - BANK\", \"ROBBERY - CAR JACKING\", \"ROBBERY - COMMERCIAL\", \"ROBBERY - HOME INVASION\", \"ROBBERY - OTHER\", \"ROBBERY - STREET\", \"SEARCH WARRANT\", \"SERVICE TO OTHER PD INSIDE OF MA.\", \"SERVICE TO OTHER PD OUTSIDE OF MA.\", \"SICK/INJURED/MEDICAL - PERSON\", \"SICK/INJURED/MEDICAL - POLICE\", \"STALKING\", \"STOLEN PROPERTY - BUYING / RECEIVING / POSSESSING\", \"SUDDEN DEATH\", \"SUICIDE / SUICIDE ATTEMPT\", \"THREATS TO DO BODILY HARM\", \"TOWED MOTOR VEHICLE\", \"TRESPASSING\", \"TRUANCY / RUNAWAY\", \"VAL - OPERATING AFTER REV/SUSP.\", \"VAL - OPERATING UNREG/UNINS \\u00caCAR\", \"VAL - OPERATING W/O AUTHORIZATION LAWFUL\", \"VAL - OPERATING WITHOUT LICENSE\", \"VAL - VIOLATION OF AUTO LAW - OTHER\", \"VANDALISM\", \"VERBAL DISPUTE\", \"VIOL. OF RESTRAINING ORDER W ARREST\", \"VIOL. OF RESTRAINING ORDER W NO ARREST\", \"VIOLATION - CITY ORDINANCE\", \"VIOLATION - CITY ORDINANCE CONSTRUCTION PERMIT\", \"VIOLATION - HAWKER AND PEDDLER\", \"WARRANT ARREST\", \"WEAPON - FIREARM - CARRYING / POSSESSING, ETC\", \"WEAPON - FIREARM - OTHER VIOLATION\", \"WEAPON - FIREARM - SALE / TRAFFICKING\", \"WEAPON - OTHER - CARRYING / POSSESSING, ETC\", \"WEAPON - OTHER - OTHER VIOLATION\"], \"labels\": [\"ANIMAL ABUSE\", \"ANIMAL CONTROL - DOG BITES - ETC.\", \"ANIMAL INCIDENTS\", \"ARSON\", \"ASSAULT - AGGRAVATED\", \"ASSAULT - AGGRAVATED - BATTERY\", \"ASSAULT - SIMPLE\", \"ASSAULT SIMPLE - BATTERY\", \"AUTO THEFT\", \"AUTO THEFT - LEASED/RENTED VEHICLE\", \"AUTO THEFT - MOTORCYCLE / SCOOTER\", \"BALLISTICS EVIDENCE/FOUND\", \"BIOLOGICAL THREATS\", \"BOMB THREAT\", \"BURGLARY - COMMERICAL - ATTEMPT\", \"BURGLARY - COMMERICAL - FORCE\", \"BURGLARY - COMMERICAL - NO FORCE\", \"BURGLARY - OTHER - ATTEMPT\", \"BURGLARY - OTHER - FORCE\", \"BURGLARY - OTHER - NO FORCE\", \"BURGLARY - RESIDENTIAL - ATTEMPT\", \"BURGLARY - RESIDENTIAL - FORCE\", \"BURGLARY - RESIDENTIAL - NO FORCE\", \"CHILD ABANDONMENT (NO ASSAULT)\", \"CHILD ENDANGERMENT (NO ASSAULT)\", \"CHINS\", \"CONSPIRACY EXCEPT DRUG LAW\", \"CONTRIBUTING TO DELINQUENCY OF MINOR\", \"CRIMINAL HARASSMENT\", \"DANGEROUS OR HAZARDOUS CONDITION\", \"DEATH INVESTIGATION\", \"DISORDERLY CONDUCT\", \"DRUGS - POSSESSION\", \"DRUGS - POSSESSION OF DRUG PARAPHANALIA\", \"DRUGS - SALE / MANUFACTURING\", \"DRUGS - SICK ASSIST - HEROIN\", \"DRUGS - SICK ASSIST - OTHER HARMFUL DRUG\", \"DRUGS - SICK ASSIST - OTHER NARCOTIC\", \"EMBEZZLEMENT\", \"EVADING FARE\", \"EXPLOSIVES - TURNED IN OR FOUND\", \"EXTORTION OR BLACKMAIL\", \"FIRE REPORT - CAR, BRUSH, ETC.\", \"FIRE REPORT - HOUSE, BUILDING, ETC.\", \"FIRE REPORT/ALARM - FALSE\", \"FIREARM/WEAPON - LOST\", \"FORGERY / COUNTERFEITING\", \"FRAUD - CREDIT CARD / ATM FRAUD\", \"FRAUD - FALSE PRETENSE / SCHEME\", \"FRAUD - IMPERSONATION\", \"FRAUD - WELFARE\", \"FRAUD - WIRE\", \"FUGITIVE FROM JUSTICE\", \"GAMBLING - BETTING / WAGERING\", \"GRAFFITI\", \"HARASSMENT\", \"HARBOR INCIDENT / VIOLATION\", \"INJURY BICYCLE NO M/V INVOLVED\", \"INTIMIDATING WITNESS\", \"INVESTIGATE PERSON\", \"INVESTIGATE PROPERTY\", \"INVESTIGATION FOR ANOTHER AGENCY\", \"KIDNAPPING - ENTICING OR ATTEMPTED\", \"KIDNAPPING/CUSTODIAL KIDNAPPING\", \"LANDLORD - TENANT SERVICE\", \"LARCENY ALL OTHERS\", \"LARCENY PICK-POCKET\", \"LARCENY PURSE SNATCH - NO FORCE \", \"LARCENY SHOPLIFTING\", \"LARCENY THEFT FROM BUILDING\", \"LARCENY THEFT FROM COIN-OP MACHINE\", \"LARCENY THEFT FROM MV - NON-ACCESSORY\", \"LARCENY THEFT OF BICYCLE\", \"LARCENY THEFT OF MV PARTS & ACCESSORIES\", \"LICENSE PREMISE VIOLATION\", \"LIQUOR - DRINKING IN PUBLIC\", \"LIQUOR LAW VIOLATION\", \"M/V - LEAVING SCENE - PERSONAL INJURY\", \"M/V - LEAVING SCENE - PROPERTY DAMAGE\", \"M/V ACCIDENT - INVOLVING BICYCLE - NO INJURY\", \"M/V ACCIDENT - INVOLVING PEDESTRIAN - NO INJURY\", \"M/V ACCIDENT - INVOLVING \\u00caBICYCLE - INJURY\", \"M/V ACCIDENT - OTHER\", \"M/V ACCIDENT - OTHER CITY VEHICLE\", \"M/V ACCIDENT - PERSONAL INJURY\", \"M/V ACCIDENT - POLICE VEHICLE\", \"M/V ACCIDENT - PROPERTY \\u00caDAMAGE\", \"M/V ACCIDENT INVOLVING PEDESTRIAN - INJURY\", \"M/V PLATES - LOST\", \"MANSLAUGHTER - VEHICLE - NEGLIGENCE\", \"MISSING PERSON\", \"MISSING PERSON - LOCATED\", \"MISSING PERSON - NOT REPORTED - LOCATED\", \"MURDER, NON-NEGLIGIENT MANSLAUGHTER\", \"NOISY PARTY/RADIO-ARREST\", \"NOISY PARTY/RADIO-NO ARREST\", \"OBSCENE MATERIALS - PORNOGRAPHY\", \"OBSCENE PHONE CALLS\", \"OPERATING UNDER THE INFLUENCE ALCOHOL\", \"OPERATING UNDER THE INFLUENCE DRUGS\", \"OTHER OFFENSE\", \"POSSESSION OF BURGLARIOUS TOOLS\", \"PRISONER - SUICIDE / SUICIDE ATTEMPT\", \"PRISONER ATTEMPT TO RESCUE\", \"PRISONER ESCAPE / ESCAPE & RECAPTURE\", \"PROPERTY - ACCIDENTAL DAMAGE\", \"PROPERTY - FOUND\", \"PROPERTY - LOST\", \"PROPERTY - LOST THEN LOCATED\", \"PROPERTY - MISSING\", \"PROPERTY - STOLEN THEN RECOVERED\", \"PROSTITUTION\", \"PROSTITUTION - COMMON NIGHTWALKER\", \"PROSTITUTION - SOLICITING\", \"PROTECTIVE CUSTODY / SAFEKEEPING\", \"RECOVERED - MV RECOVERED IN BOSTON (STOLEN OUTSIDE BOSTON)\", \"REPORT AFFECTING OTHER DEPTS.\", \"ROBBERY - BANK\", \"ROBBERY - CAR JACKING\", \"ROBBERY - COMMERCIAL\", \"ROBBERY - HOME INVASION\", \"ROBBERY - OTHER\", \"ROBBERY - STREET\", \"SEARCH WARRANT\", \"SERVICE TO OTHER PD INSIDE OF MA.\", \"SERVICE TO OTHER PD OUTSIDE OF MA.\", \"SICK/INJURED/MEDICAL - PERSON\", \"SICK/INJURED/MEDICAL - POLICE\", \"STALKING\", \"STOLEN PROPERTY - BUYING / RECEIVING / POSSESSING\", \"SUDDEN DEATH\", \"SUICIDE / SUICIDE ATTEMPT\", \"THREATS TO DO BODILY HARM\", \"TOWED MOTOR VEHICLE\", \"TRESPASSING\", \"TRUANCY / RUNAWAY\", \"VAL - OPERATING AFTER REV/SUSP.\", \"VAL - OPERATING UNREG/UNINS \\u00caCAR\", \"VAL - OPERATING W/O AUTHORIZATION LAWFUL\", \"VAL - OPERATING WITHOUT LICENSE\", \"VAL - VIOLATION OF AUTO LAW - OTHER\", \"VANDALISM\", \"VERBAL DISPUTE\", \"VIOL. OF RESTRAINING ORDER W ARREST\", \"VIOL. OF RESTRAINING ORDER W NO ARREST\", \"VIOLATION - CITY ORDINANCE\", \"VIOLATION - CITY ORDINANCE CONSTRUCTION PERMIT\", \"VIOLATION - HAWKER AND PEDDLER\", \"WARRANT ARREST\", \"WEAPON - FIREARM - CARRYING / POSSESSING, ETC\", \"WEAPON - FIREARM - OTHER VIOLATION\", \"WEAPON - FIREARM - SALE / TRAFFICKING\", \"WEAPON - OTHER - CARRYING / POSSESSING, ETC\", \"WEAPON - OTHER - OTHER VIOLATION\"], \"name\": \"\", \"parents\": [\"\", \"\", \"\", \"\", \"\", \"\", \"\", \"\", \"\", \"\", \"\", \"\", \"\", \"\", \"\", \"\", \"\", \"\", \"\", \"\", \"\", \"\", \"\", \"\", \"\", \"\", \"\", \"\", \"\", \"\", \"\", \"\", \"\", \"\", \"\", \"\", \"\", \"\", \"\", \"\", \"\", \"\", \"\", \"\", \"\", \"\", \"\", \"\", \"\", \"\", \"\", \"\", \"\", \"\", \"\", \"\", \"\", \"\", \"\", \"\", \"\", \"\", \"\", \"\", \"\", \"\", \"\", \"\", \"\", \"\", \"\", \"\", \"\", \"\", \"\", \"\", \"\", \"\", \"\", \"\", \"\", \"\", \"\", \"\", \"\", \"\", \"\", \"\", \"\", \"\", \"\", \"\", \"\", \"\", \"\", \"\", \"\", \"\", \"\", \"\", \"\", \"\", \"\", \"\", \"\", \"\", \"\", \"\", \"\", \"\", \"\", \"\", \"\", \"\", \"\", \"\", \"\", \"\", \"\", \"\", \"\", \"\", \"\", \"\", \"\", \"\", \"\", \"\", \"\", \"\", \"\", \"\", \"\", \"\", \"\", \"\", \"\", \"\", \"\", \"\", \"\", \"\", \"\", \"\", \"\", \"\", \"\", \"\", \"\", \"\", \"\", \"\", \"\", \"\"], \"type\": \"treemap\", \"values\": [12, 54, 52, 17, 415, 752, 119, 2222, 499, 51, 145, 166, 2, 3, 16, 155, 42, 5, 45, 15, 94, 384, 294, 7, 24, 5, 1, 4, 14, 41, 173, 210, 11, 11, 205, 193, 27, 33, 67, 49, 1, 15, 65, 194, 25, 1, 264, 427, 582, 180, 1, 72, 33, 5, 31, 678, 17, 7, 41, 3545, 1954, 31, 6, 8, 149, 930, 57, 24, 1230, 1430, 3, 1321, 374, 272, 229, 140, 37, 180, 2240, 34, 46, 102, 433, 96, 602, 108, 852, 180, 81, 1, 588, 637, 76, 30, 3, 93, 8, 1, 58, 9, 80, 27, 2, 1, 1, 144, 615, 1380, 31, 116, 84, 7, 2, 40, 2, 181, 14, 25, 14, 85, 9, 83, 420, 159, 135, 37, 2877, 202, 9, 167, 243, 43, 1343, 1878, 555, 5, 283, 128, 70, 202, 326, 2229, 2194, 42, 226, 41, 2, 1, 1325, 109, 31, 2, 60, 16]}],                        {\"height\": 650, \"legend\": {\"tracegroupgap\": 0}, \"template\": {\"data\": {\"bar\": [{\"error_x\": {\"color\": \"#2a3f5f\"}, \"error_y\": {\"color\": \"#2a3f5f\"}, \"marker\": {\"line\": {\"color\": \"#E5ECF6\", \"width\": 0.5}}, \"type\": \"bar\"}], \"barpolar\": [{\"marker\": {\"line\": {\"color\": \"#E5ECF6\", \"width\": 0.5}}, \"type\": \"barpolar\"}], \"carpet\": [{\"aaxis\": {\"endlinecolor\": \"#2a3f5f\", \"gridcolor\": \"white\", \"linecolor\": \"white\", \"minorgridcolor\": \"white\", \"startlinecolor\": \"#2a3f5f\"}, \"baxis\": {\"endlinecolor\": \"#2a3f5f\", \"gridcolor\": \"white\", \"linecolor\": \"white\", \"minorgridcolor\": \"white\", \"startlinecolor\": \"#2a3f5f\"}, \"type\": \"carpet\"}], \"choropleth\": [{\"colorbar\": {\"outlinewidth\": 0, \"ticks\": \"\"}, \"type\": \"choropleth\"}], \"contour\": [{\"colorbar\": {\"outlinewidth\": 0, \"ticks\": \"\"}, \"colorscale\": [[0.0, \"#0d0887\"], [0.1111111111111111, \"#46039f\"], [0.2222222222222222, \"#7201a8\"], [0.3333333333333333, \"#9c179e\"], [0.4444444444444444, \"#bd3786\"], [0.5555555555555556, \"#d8576b\"], [0.6666666666666666, \"#ed7953\"], [0.7777777777777778, \"#fb9f3a\"], [0.8888888888888888, \"#fdca26\"], [1.0, \"#f0f921\"]], \"type\": \"contour\"}], \"contourcarpet\": [{\"colorbar\": {\"outlinewidth\": 0, \"ticks\": \"\"}, \"type\": \"contourcarpet\"}], \"heatmap\": [{\"colorbar\": {\"outlinewidth\": 0, \"ticks\": \"\"}, \"colorscale\": [[0.0, \"#0d0887\"], [0.1111111111111111, \"#46039f\"], [0.2222222222222222, \"#7201a8\"], [0.3333333333333333, \"#9c179e\"], [0.4444444444444444, \"#bd3786\"], [0.5555555555555556, \"#d8576b\"], [0.6666666666666666, \"#ed7953\"], [0.7777777777777778, \"#fb9f3a\"], [0.8888888888888888, \"#fdca26\"], [1.0, \"#f0f921\"]], \"type\": \"heatmap\"}], \"heatmapgl\": [{\"colorbar\": {\"outlinewidth\": 0, \"ticks\": \"\"}, \"colorscale\": [[0.0, \"#0d0887\"], [0.1111111111111111, \"#46039f\"], [0.2222222222222222, \"#7201a8\"], [0.3333333333333333, \"#9c179e\"], [0.4444444444444444, \"#bd3786\"], [0.5555555555555556, \"#d8576b\"], [0.6666666666666666, \"#ed7953\"], [0.7777777777777778, \"#fb9f3a\"], [0.8888888888888888, \"#fdca26\"], [1.0, \"#f0f921\"]], \"type\": \"heatmapgl\"}], \"histogram\": [{\"marker\": {\"colorbar\": {\"outlinewidth\": 0, \"ticks\": \"\"}}, \"type\": \"histogram\"}], \"histogram2d\": [{\"colorbar\": {\"outlinewidth\": 0, \"ticks\": \"\"}, \"colorscale\": [[0.0, \"#0d0887\"], [0.1111111111111111, \"#46039f\"], [0.2222222222222222, \"#7201a8\"], [0.3333333333333333, \"#9c179e\"], [0.4444444444444444, \"#bd3786\"], [0.5555555555555556, \"#d8576b\"], [0.6666666666666666, \"#ed7953\"], [0.7777777777777778, \"#fb9f3a\"], [0.8888888888888888, \"#fdca26\"], [1.0, \"#f0f921\"]], \"type\": \"histogram2d\"}], \"histogram2dcontour\": [{\"colorbar\": {\"outlinewidth\": 0, \"ticks\": \"\"}, \"colorscale\": [[0.0, \"#0d0887\"], [0.1111111111111111, \"#46039f\"], [0.2222222222222222, \"#7201a8\"], [0.3333333333333333, \"#9c179e\"], [0.4444444444444444, \"#bd3786\"], [0.5555555555555556, \"#d8576b\"], [0.6666666666666666, \"#ed7953\"], [0.7777777777777778, \"#fb9f3a\"], [0.8888888888888888, \"#fdca26\"], [1.0, \"#f0f921\"]], \"type\": \"histogram2dcontour\"}], \"mesh3d\": [{\"colorbar\": {\"outlinewidth\": 0, \"ticks\": \"\"}, \"type\": \"mesh3d\"}], \"parcoords\": [{\"line\": {\"colorbar\": {\"outlinewidth\": 0, \"ticks\": \"\"}}, \"type\": \"parcoords\"}], \"pie\": [{\"automargin\": true, \"type\": \"pie\"}], \"scatter\": [{\"marker\": {\"colorbar\": {\"outlinewidth\": 0, \"ticks\": \"\"}}, \"type\": \"scatter\"}], \"scatter3d\": [{\"line\": {\"colorbar\": {\"outlinewidth\": 0, \"ticks\": \"\"}}, \"marker\": {\"colorbar\": {\"outlinewidth\": 0, \"ticks\": \"\"}}, \"type\": \"scatter3d\"}], \"scattercarpet\": [{\"marker\": {\"colorbar\": {\"outlinewidth\": 0, \"ticks\": \"\"}}, \"type\": \"scattercarpet\"}], \"scattergeo\": [{\"marker\": {\"colorbar\": {\"outlinewidth\": 0, \"ticks\": \"\"}}, \"type\": \"scattergeo\"}], \"scattergl\": [{\"marker\": {\"colorbar\": {\"outlinewidth\": 0, \"ticks\": \"\"}}, \"type\": \"scattergl\"}], \"scattermapbox\": [{\"marker\": {\"colorbar\": {\"outlinewidth\": 0, \"ticks\": \"\"}}, \"type\": \"scattermapbox\"}], \"scatterpolar\": [{\"marker\": {\"colorbar\": {\"outlinewidth\": 0, \"ticks\": \"\"}}, \"type\": \"scatterpolar\"}], \"scatterpolargl\": [{\"marker\": {\"colorbar\": {\"outlinewidth\": 0, \"ticks\": \"\"}}, \"type\": \"scatterpolargl\"}], \"scatterternary\": [{\"marker\": {\"colorbar\": {\"outlinewidth\": 0, \"ticks\": \"\"}}, \"type\": \"scatterternary\"}], \"surface\": [{\"colorbar\": {\"outlinewidth\": 0, \"ticks\": \"\"}, \"colorscale\": [[0.0, \"#0d0887\"], [0.1111111111111111, \"#46039f\"], [0.2222222222222222, \"#7201a8\"], [0.3333333333333333, \"#9c179e\"], [0.4444444444444444, \"#bd3786\"], [0.5555555555555556, \"#d8576b\"], [0.6666666666666666, \"#ed7953\"], [0.7777777777777778, \"#fb9f3a\"], [0.8888888888888888, \"#fdca26\"], [1.0, \"#f0f921\"]], \"type\": \"surface\"}], \"table\": [{\"cells\": {\"fill\": {\"color\": \"#EBF0F8\"}, \"line\": {\"color\": \"white\"}}, \"header\": {\"fill\": {\"color\": \"#C8D4E3\"}, \"line\": {\"color\": \"white\"}}, \"type\": \"table\"}]}, \"layout\": {\"annotationdefaults\": {\"arrowcolor\": \"#2a3f5f\", \"arrowhead\": 0, \"arrowwidth\": 1}, \"autotypenumbers\": \"strict\", \"coloraxis\": {\"colorbar\": {\"outlinewidth\": 0, \"ticks\": \"\"}}, \"colorscale\": {\"diverging\": [[0, \"#8e0152\"], [0.1, \"#c51b7d\"], [0.2, \"#de77ae\"], [0.3, \"#f1b6da\"], [0.4, \"#fde0ef\"], [0.5, \"#f7f7f7\"], [0.6, \"#e6f5d0\"], [0.7, \"#b8e186\"], [0.8, \"#7fbc41\"], [0.9, \"#4d9221\"], [1, \"#276419\"]], \"sequential\": [[0.0, \"#0d0887\"], [0.1111111111111111, \"#46039f\"], [0.2222222222222222, \"#7201a8\"], [0.3333333333333333, \"#9c179e\"], [0.4444444444444444, \"#bd3786\"], [0.5555555555555556, \"#d8576b\"], [0.6666666666666666, \"#ed7953\"], [0.7777777777777778, \"#fb9f3a\"], [0.8888888888888888, \"#fdca26\"], [1.0, \"#f0f921\"]], \"sequentialminus\": [[0.0, \"#0d0887\"], [0.1111111111111111, \"#46039f\"], [0.2222222222222222, \"#7201a8\"], [0.3333333333333333, \"#9c179e\"], [0.4444444444444444, \"#bd3786\"], [0.5555555555555556, \"#d8576b\"], [0.6666666666666666, \"#ed7953\"], [0.7777777777777778, \"#fb9f3a\"], [0.8888888888888888, \"#fdca26\"], [1.0, \"#f0f921\"]]}, \"colorway\": [\"#636efa\", \"#EF553B\", \"#00cc96\", \"#ab63fa\", \"#FFA15A\", \"#19d3f3\", \"#FF6692\", \"#B6E880\", \"#FF97FF\", \"#FECB52\"], \"font\": {\"color\": \"#2a3f5f\"}, \"geo\": {\"bgcolor\": \"white\", \"lakecolor\": \"white\", \"landcolor\": \"#E5ECF6\", \"showlakes\": true, \"showland\": true, \"subunitcolor\": \"white\"}, \"hoverlabel\": {\"align\": \"left\"}, \"hovermode\": \"closest\", \"mapbox\": {\"style\": \"light\"}, \"paper_bgcolor\": \"white\", \"plot_bgcolor\": \"#E5ECF6\", \"polar\": {\"angularaxis\": {\"gridcolor\": \"white\", \"linecolor\": \"white\", \"ticks\": \"\"}, \"bgcolor\": \"#E5ECF6\", \"radialaxis\": {\"gridcolor\": \"white\", \"linecolor\": \"white\", \"ticks\": \"\"}}, \"scene\": {\"xaxis\": {\"backgroundcolor\": \"#E5ECF6\", \"gridcolor\": \"white\", \"gridwidth\": 2, \"linecolor\": \"white\", \"showbackground\": true, \"ticks\": \"\", \"zerolinecolor\": \"white\"}, \"yaxis\": {\"backgroundcolor\": \"#E5ECF6\", \"gridcolor\": \"white\", \"gridwidth\": 2, \"linecolor\": \"white\", \"showbackground\": true, \"ticks\": \"\", \"zerolinecolor\": \"white\"}, \"zaxis\": {\"backgroundcolor\": \"#E5ECF6\", \"gridcolor\": \"white\", \"gridwidth\": 2, \"linecolor\": \"white\", \"showbackground\": true, \"ticks\": \"\", \"zerolinecolor\": \"white\"}}, \"shapedefaults\": {\"line\": {\"color\": \"#2a3f5f\"}}, \"ternary\": {\"aaxis\": {\"gridcolor\": \"white\", \"linecolor\": \"white\", \"ticks\": \"\"}, \"baxis\": {\"gridcolor\": \"white\", \"linecolor\": \"white\", \"ticks\": \"\"}, \"bgcolor\": \"#E5ECF6\", \"caxis\": {\"gridcolor\": \"white\", \"linecolor\": \"white\", \"ticks\": \"\"}}, \"title\": {\"x\": 0.05}, \"xaxis\": {\"automargin\": true, \"gridcolor\": \"white\", \"linecolor\": \"white\", \"ticks\": \"\", \"title\": {\"standoff\": 15}, \"zerolinecolor\": \"white\", \"zerolinewidth\": 2}, \"yaxis\": {\"automargin\": true, \"gridcolor\": \"white\", \"linecolor\": \"white\", \"ticks\": \"\", \"title\": {\"standoff\": 15}, \"zerolinecolor\": \"white\", \"zerolinewidth\": 2}}}, \"title\": {\"text\": \"Proportion des m\\u00e9faits dans Boston de Juillet \\u00e0 D\\u00e9cembre 2017\"}, \"treemapcolorway\": [\"rgb(230, 240, 240)\", \"rgb(191, 221, 229)\", \"rgb(156, 201, 226)\", \"rgb(129, 180, 227)\", \"rgb(115, 154, 228)\", \"rgb(117, 127, 221)\", \"rgb(120, 100, 202)\", \"rgb(119, 74, 175)\", \"rgb(113, 50, 141)\", \"rgb(100, 31, 104)\", \"rgb(80, 20, 66)\", \"rgb(54, 14, 36)\"]},                        {\"responsive\": true}                    ).then(function(){\n",
       "                            \n",
       "var gd = document.getElementById('210e898f-ea4f-41e8-ac36-c4054ac6eaef');\n",
       "var x = new MutationObserver(function (mutations, observer) {{\n",
       "        var display = window.getComputedStyle(gd).display;\n",
       "        if (!display || display === 'none') {{\n",
       "            console.log([gd, 'removed!']);\n",
       "            Plotly.purge(gd);\n",
       "            observer.disconnect();\n",
       "        }}\n",
       "}});\n",
       "\n",
       "// Listen for the removal of the full notebook cells\n",
       "var notebookContainer = gd.closest('#notebook-container');\n",
       "if (notebookContainer) {{\n",
       "    x.observe(notebookContainer, {childList: true});\n",
       "}}\n",
       "\n",
       "// Listen for the clearing of the current output cell\n",
       "var outputEl = gd.closest('.output');\n",
       "if (outputEl) {{\n",
       "    x.observe(outputEl, {childList: true});\n",
       "}}\n",
       "\n",
       "                        })                };                });            </script>        </div>"
      ]
     },
     "metadata": {},
     "output_type": "display_data"
    }
   ],
   "source": [
    "px.treemap(categories, title='Proportion des méfaits dans Boston de Juillet à Décembre 2017', path=['Description'], values=categories['values'], height=650,\n",
    "          color_discrete_sequence = px.colors.sequential.dense)"
   ]
  },
  {
   "cell_type": "markdown",
   "metadata": {},
   "source": [
    "Afin de mieux visualiser les méfaits majeurs dans Boston, nous les représentons sous forme d'histogramme :"
   ]
  },
  {
   "cell_type": "code",
   "execution_count": 17,
   "metadata": {},
   "outputs": [
    {
     "data": {
      "application/vnd.plotly.v1+json": {
       "config": {
        "plotlyServerURL": "https://plot.ly"
       },
       "data": [
        {
         "alignmentgroup": "True",
         "hovertemplate": "color=INVESTIGATE PERSON<br>x=%{x}<br>y=%{y}<extra></extra>",
         "legendgroup": "INVESTIGATE PERSON",
         "marker": {
          "color": "#440154"
         },
         "name": "INVESTIGATE PERSON",
         "offsetgroup": "INVESTIGATE PERSON",
         "orientation": "v",
         "showlegend": true,
         "textposition": "auto",
         "type": "bar",
         "x": [
          "INVESTIGATE PERSON"
         ],
         "xaxis": "x",
         "y": [
          3545
         ],
         "yaxis": "y"
        },
        {
         "alignmentgroup": "True",
         "hovertemplate": "color=SICK/INJURED/MEDICAL - PERSON<br>x=%{x}<br>y=%{y}<extra></extra>",
         "legendgroup": "SICK/INJURED/MEDICAL - PERSON",
         "marker": {
          "color": "#482878"
         },
         "name": "SICK/INJURED/MEDICAL - PERSON",
         "offsetgroup": "SICK/INJURED/MEDICAL - PERSON",
         "orientation": "v",
         "showlegend": true,
         "textposition": "auto",
         "type": "bar",
         "x": [
          "SICK/INJURED/MEDICAL - PERSON"
         ],
         "xaxis": "x",
         "y": [
          2877
         ],
         "yaxis": "y"
        },
        {
         "alignmentgroup": "True",
         "hovertemplate": "color=M/V - LEAVING SCENE - PROPERTY DAMAGE<br>x=%{x}<br>y=%{y}<extra></extra>",
         "legendgroup": "M/V - LEAVING SCENE - PROPERTY DAMAGE",
         "marker": {
          "color": "#3e4989"
         },
         "name": "M/V - LEAVING SCENE - PROPERTY DAMAGE",
         "offsetgroup": "M/V - LEAVING SCENE - PROPERTY DAMAGE",
         "orientation": "v",
         "showlegend": true,
         "textposition": "auto",
         "type": "bar",
         "x": [
          "M/V - LEAVING SCENE - PROPERTY DAMAGE"
         ],
         "xaxis": "x",
         "y": [
          2240
         ],
         "yaxis": "y"
        },
        {
         "alignmentgroup": "True",
         "hovertemplate": "color=VANDALISM<br>x=%{x}<br>y=%{y}<extra></extra>",
         "legendgroup": "VANDALISM",
         "marker": {
          "color": "#31688e"
         },
         "name": "VANDALISM",
         "offsetgroup": "VANDALISM",
         "orientation": "v",
         "showlegend": true,
         "textposition": "auto",
         "type": "bar",
         "x": [
          "VANDALISM"
         ],
         "xaxis": "x",
         "y": [
          2229
         ],
         "yaxis": "y"
        },
        {
         "alignmentgroup": "True",
         "hovertemplate": "color=ASSAULT SIMPLE - BATTERY<br>x=%{x}<br>y=%{y}<extra></extra>",
         "legendgroup": "ASSAULT SIMPLE - BATTERY",
         "marker": {
          "color": "#26828e"
         },
         "name": "ASSAULT SIMPLE - BATTERY",
         "offsetgroup": "ASSAULT SIMPLE - BATTERY",
         "orientation": "v",
         "showlegend": true,
         "textposition": "auto",
         "type": "bar",
         "x": [
          "ASSAULT SIMPLE - BATTERY"
         ],
         "xaxis": "x",
         "y": [
          2222
         ],
         "yaxis": "y"
        },
        {
         "alignmentgroup": "True",
         "hovertemplate": "color=VERBAL DISPUTE<br>x=%{x}<br>y=%{y}<extra></extra>",
         "legendgroup": "VERBAL DISPUTE",
         "marker": {
          "color": "#1f9e89"
         },
         "name": "VERBAL DISPUTE",
         "offsetgroup": "VERBAL DISPUTE",
         "orientation": "v",
         "showlegend": true,
         "textposition": "auto",
         "type": "bar",
         "x": [
          "VERBAL DISPUTE"
         ],
         "xaxis": "x",
         "y": [
          2194
         ],
         "yaxis": "y"
        },
        {
         "alignmentgroup": "True",
         "hovertemplate": "color=INVESTIGATE PROPERTY<br>x=%{x}<br>y=%{y}<extra></extra>",
         "legendgroup": "INVESTIGATE PROPERTY",
         "marker": {
          "color": "#35b779"
         },
         "name": "INVESTIGATE PROPERTY",
         "offsetgroup": "INVESTIGATE PROPERTY",
         "orientation": "v",
         "showlegend": true,
         "textposition": "auto",
         "type": "bar",
         "x": [
          "INVESTIGATE PROPERTY"
         ],
         "xaxis": "x",
         "y": [
          1954
         ],
         "yaxis": "y"
        },
        {
         "alignmentgroup": "True",
         "hovertemplate": "color=TOWED MOTOR VEHICLE<br>x=%{x}<br>y=%{y}<extra></extra>",
         "legendgroup": "TOWED MOTOR VEHICLE",
         "marker": {
          "color": "#6ece58"
         },
         "name": "TOWED MOTOR VEHICLE",
         "offsetgroup": "TOWED MOTOR VEHICLE",
         "orientation": "v",
         "showlegend": true,
         "textposition": "auto",
         "type": "bar",
         "x": [
          "TOWED MOTOR VEHICLE"
         ],
         "xaxis": "x",
         "y": [
          1878
         ],
         "yaxis": "y"
        },
        {
         "alignmentgroup": "True",
         "hovertemplate": "color=LARCENY THEFT FROM BUILDING<br>x=%{x}<br>y=%{y}<extra></extra>",
         "legendgroup": "LARCENY THEFT FROM BUILDING",
         "marker": {
          "color": "#b5de2b"
         },
         "name": "LARCENY THEFT FROM BUILDING",
         "offsetgroup": "LARCENY THEFT FROM BUILDING",
         "orientation": "v",
         "showlegend": true,
         "textposition": "auto",
         "type": "bar",
         "x": [
          "LARCENY THEFT FROM BUILDING"
         ],
         "xaxis": "x",
         "y": [
          1430
         ],
         "yaxis": "y"
        },
        {
         "alignmentgroup": "True",
         "hovertemplate": "color=PROPERTY - LOST<br>x=%{x}<br>y=%{y}<extra></extra>",
         "legendgroup": "PROPERTY - LOST",
         "marker": {
          "color": "#fde725"
         },
         "name": "PROPERTY - LOST",
         "offsetgroup": "PROPERTY - LOST",
         "orientation": "v",
         "showlegend": true,
         "textposition": "auto",
         "type": "bar",
         "x": [
          "PROPERTY - LOST"
         ],
         "xaxis": "x",
         "y": [
          1380
         ],
         "yaxis": "y"
        }
       ],
       "layout": {
        "bargap": 0.2,
        "bargroupgap": 0.5,
        "barmode": "relative",
        "height": 520,
        "legend": {
         "title": {
          "text": "color"
         },
         "tracegroupgap": 0
        },
        "template": {
         "data": {
          "bar": [
           {
            "error_x": {
             "color": "#2a3f5f"
            },
            "error_y": {
             "color": "#2a3f5f"
            },
            "marker": {
             "line": {
              "color": "#E5ECF6",
              "width": 0.5
             }
            },
            "type": "bar"
           }
          ],
          "barpolar": [
           {
            "marker": {
             "line": {
              "color": "#E5ECF6",
              "width": 0.5
             }
            },
            "type": "barpolar"
           }
          ],
          "carpet": [
           {
            "aaxis": {
             "endlinecolor": "#2a3f5f",
             "gridcolor": "white",
             "linecolor": "white",
             "minorgridcolor": "white",
             "startlinecolor": "#2a3f5f"
            },
            "baxis": {
             "endlinecolor": "#2a3f5f",
             "gridcolor": "white",
             "linecolor": "white",
             "minorgridcolor": "white",
             "startlinecolor": "#2a3f5f"
            },
            "type": "carpet"
           }
          ],
          "choropleth": [
           {
            "colorbar": {
             "outlinewidth": 0,
             "ticks": ""
            },
            "type": "choropleth"
           }
          ],
          "contour": [
           {
            "colorbar": {
             "outlinewidth": 0,
             "ticks": ""
            },
            "colorscale": [
             [
              0,
              "#0d0887"
             ],
             [
              0.1111111111111111,
              "#46039f"
             ],
             [
              0.2222222222222222,
              "#7201a8"
             ],
             [
              0.3333333333333333,
              "#9c179e"
             ],
             [
              0.4444444444444444,
              "#bd3786"
             ],
             [
              0.5555555555555556,
              "#d8576b"
             ],
             [
              0.6666666666666666,
              "#ed7953"
             ],
             [
              0.7777777777777778,
              "#fb9f3a"
             ],
             [
              0.8888888888888888,
              "#fdca26"
             ],
             [
              1,
              "#f0f921"
             ]
            ],
            "type": "contour"
           }
          ],
          "contourcarpet": [
           {
            "colorbar": {
             "outlinewidth": 0,
             "ticks": ""
            },
            "type": "contourcarpet"
           }
          ],
          "heatmap": [
           {
            "colorbar": {
             "outlinewidth": 0,
             "ticks": ""
            },
            "colorscale": [
             [
              0,
              "#0d0887"
             ],
             [
              0.1111111111111111,
              "#46039f"
             ],
             [
              0.2222222222222222,
              "#7201a8"
             ],
             [
              0.3333333333333333,
              "#9c179e"
             ],
             [
              0.4444444444444444,
              "#bd3786"
             ],
             [
              0.5555555555555556,
              "#d8576b"
             ],
             [
              0.6666666666666666,
              "#ed7953"
             ],
             [
              0.7777777777777778,
              "#fb9f3a"
             ],
             [
              0.8888888888888888,
              "#fdca26"
             ],
             [
              1,
              "#f0f921"
             ]
            ],
            "type": "heatmap"
           }
          ],
          "heatmapgl": [
           {
            "colorbar": {
             "outlinewidth": 0,
             "ticks": ""
            },
            "colorscale": [
             [
              0,
              "#0d0887"
             ],
             [
              0.1111111111111111,
              "#46039f"
             ],
             [
              0.2222222222222222,
              "#7201a8"
             ],
             [
              0.3333333333333333,
              "#9c179e"
             ],
             [
              0.4444444444444444,
              "#bd3786"
             ],
             [
              0.5555555555555556,
              "#d8576b"
             ],
             [
              0.6666666666666666,
              "#ed7953"
             ],
             [
              0.7777777777777778,
              "#fb9f3a"
             ],
             [
              0.8888888888888888,
              "#fdca26"
             ],
             [
              1,
              "#f0f921"
             ]
            ],
            "type": "heatmapgl"
           }
          ],
          "histogram": [
           {
            "marker": {
             "colorbar": {
              "outlinewidth": 0,
              "ticks": ""
             }
            },
            "type": "histogram"
           }
          ],
          "histogram2d": [
           {
            "colorbar": {
             "outlinewidth": 0,
             "ticks": ""
            },
            "colorscale": [
             [
              0,
              "#0d0887"
             ],
             [
              0.1111111111111111,
              "#46039f"
             ],
             [
              0.2222222222222222,
              "#7201a8"
             ],
             [
              0.3333333333333333,
              "#9c179e"
             ],
             [
              0.4444444444444444,
              "#bd3786"
             ],
             [
              0.5555555555555556,
              "#d8576b"
             ],
             [
              0.6666666666666666,
              "#ed7953"
             ],
             [
              0.7777777777777778,
              "#fb9f3a"
             ],
             [
              0.8888888888888888,
              "#fdca26"
             ],
             [
              1,
              "#f0f921"
             ]
            ],
            "type": "histogram2d"
           }
          ],
          "histogram2dcontour": [
           {
            "colorbar": {
             "outlinewidth": 0,
             "ticks": ""
            },
            "colorscale": [
             [
              0,
              "#0d0887"
             ],
             [
              0.1111111111111111,
              "#46039f"
             ],
             [
              0.2222222222222222,
              "#7201a8"
             ],
             [
              0.3333333333333333,
              "#9c179e"
             ],
             [
              0.4444444444444444,
              "#bd3786"
             ],
             [
              0.5555555555555556,
              "#d8576b"
             ],
             [
              0.6666666666666666,
              "#ed7953"
             ],
             [
              0.7777777777777778,
              "#fb9f3a"
             ],
             [
              0.8888888888888888,
              "#fdca26"
             ],
             [
              1,
              "#f0f921"
             ]
            ],
            "type": "histogram2dcontour"
           }
          ],
          "mesh3d": [
           {
            "colorbar": {
             "outlinewidth": 0,
             "ticks": ""
            },
            "type": "mesh3d"
           }
          ],
          "parcoords": [
           {
            "line": {
             "colorbar": {
              "outlinewidth": 0,
              "ticks": ""
             }
            },
            "type": "parcoords"
           }
          ],
          "pie": [
           {
            "automargin": true,
            "type": "pie"
           }
          ],
          "scatter": [
           {
            "marker": {
             "colorbar": {
              "outlinewidth": 0,
              "ticks": ""
             }
            },
            "type": "scatter"
           }
          ],
          "scatter3d": [
           {
            "line": {
             "colorbar": {
              "outlinewidth": 0,
              "ticks": ""
             }
            },
            "marker": {
             "colorbar": {
              "outlinewidth": 0,
              "ticks": ""
             }
            },
            "type": "scatter3d"
           }
          ],
          "scattercarpet": [
           {
            "marker": {
             "colorbar": {
              "outlinewidth": 0,
              "ticks": ""
             }
            },
            "type": "scattercarpet"
           }
          ],
          "scattergeo": [
           {
            "marker": {
             "colorbar": {
              "outlinewidth": 0,
              "ticks": ""
             }
            },
            "type": "scattergeo"
           }
          ],
          "scattergl": [
           {
            "marker": {
             "colorbar": {
              "outlinewidth": 0,
              "ticks": ""
             }
            },
            "type": "scattergl"
           }
          ],
          "scattermapbox": [
           {
            "marker": {
             "colorbar": {
              "outlinewidth": 0,
              "ticks": ""
             }
            },
            "type": "scattermapbox"
           }
          ],
          "scatterpolar": [
           {
            "marker": {
             "colorbar": {
              "outlinewidth": 0,
              "ticks": ""
             }
            },
            "type": "scatterpolar"
           }
          ],
          "scatterpolargl": [
           {
            "marker": {
             "colorbar": {
              "outlinewidth": 0,
              "ticks": ""
             }
            },
            "type": "scatterpolargl"
           }
          ],
          "scatterternary": [
           {
            "marker": {
             "colorbar": {
              "outlinewidth": 0,
              "ticks": ""
             }
            },
            "type": "scatterternary"
           }
          ],
          "surface": [
           {
            "colorbar": {
             "outlinewidth": 0,
             "ticks": ""
            },
            "colorscale": [
             [
              0,
              "#0d0887"
             ],
             [
              0.1111111111111111,
              "#46039f"
             ],
             [
              0.2222222222222222,
              "#7201a8"
             ],
             [
              0.3333333333333333,
              "#9c179e"
             ],
             [
              0.4444444444444444,
              "#bd3786"
             ],
             [
              0.5555555555555556,
              "#d8576b"
             ],
             [
              0.6666666666666666,
              "#ed7953"
             ],
             [
              0.7777777777777778,
              "#fb9f3a"
             ],
             [
              0.8888888888888888,
              "#fdca26"
             ],
             [
              1,
              "#f0f921"
             ]
            ],
            "type": "surface"
           }
          ],
          "table": [
           {
            "cells": {
             "fill": {
              "color": "#EBF0F8"
             },
             "line": {
              "color": "white"
             }
            },
            "header": {
             "fill": {
              "color": "#C8D4E3"
             },
             "line": {
              "color": "white"
             }
            },
            "type": "table"
           }
          ]
         },
         "layout": {
          "annotationdefaults": {
           "arrowcolor": "#2a3f5f",
           "arrowhead": 0,
           "arrowwidth": 1
          },
          "autotypenumbers": "strict",
          "coloraxis": {
           "colorbar": {
            "outlinewidth": 0,
            "ticks": ""
           }
          },
          "colorscale": {
           "diverging": [
            [
             0,
             "#8e0152"
            ],
            [
             0.1,
             "#c51b7d"
            ],
            [
             0.2,
             "#de77ae"
            ],
            [
             0.3,
             "#f1b6da"
            ],
            [
             0.4,
             "#fde0ef"
            ],
            [
             0.5,
             "#f7f7f7"
            ],
            [
             0.6,
             "#e6f5d0"
            ],
            [
             0.7,
             "#b8e186"
            ],
            [
             0.8,
             "#7fbc41"
            ],
            [
             0.9,
             "#4d9221"
            ],
            [
             1,
             "#276419"
            ]
           ],
           "sequential": [
            [
             0,
             "#0d0887"
            ],
            [
             0.1111111111111111,
             "#46039f"
            ],
            [
             0.2222222222222222,
             "#7201a8"
            ],
            [
             0.3333333333333333,
             "#9c179e"
            ],
            [
             0.4444444444444444,
             "#bd3786"
            ],
            [
             0.5555555555555556,
             "#d8576b"
            ],
            [
             0.6666666666666666,
             "#ed7953"
            ],
            [
             0.7777777777777778,
             "#fb9f3a"
            ],
            [
             0.8888888888888888,
             "#fdca26"
            ],
            [
             1,
             "#f0f921"
            ]
           ],
           "sequentialminus": [
            [
             0,
             "#0d0887"
            ],
            [
             0.1111111111111111,
             "#46039f"
            ],
            [
             0.2222222222222222,
             "#7201a8"
            ],
            [
             0.3333333333333333,
             "#9c179e"
            ],
            [
             0.4444444444444444,
             "#bd3786"
            ],
            [
             0.5555555555555556,
             "#d8576b"
            ],
            [
             0.6666666666666666,
             "#ed7953"
            ],
            [
             0.7777777777777778,
             "#fb9f3a"
            ],
            [
             0.8888888888888888,
             "#fdca26"
            ],
            [
             1,
             "#f0f921"
            ]
           ]
          },
          "colorway": [
           "#636efa",
           "#EF553B",
           "#00cc96",
           "#ab63fa",
           "#FFA15A",
           "#19d3f3",
           "#FF6692",
           "#B6E880",
           "#FF97FF",
           "#FECB52"
          ],
          "font": {
           "color": "#2a3f5f"
          },
          "geo": {
           "bgcolor": "white",
           "lakecolor": "white",
           "landcolor": "#E5ECF6",
           "showlakes": true,
           "showland": true,
           "subunitcolor": "white"
          },
          "hoverlabel": {
           "align": "left"
          },
          "hovermode": "closest",
          "mapbox": {
           "style": "light"
          },
          "paper_bgcolor": "white",
          "plot_bgcolor": "#E5ECF6",
          "polar": {
           "angularaxis": {
            "gridcolor": "white",
            "linecolor": "white",
            "ticks": ""
           },
           "bgcolor": "#E5ECF6",
           "radialaxis": {
            "gridcolor": "white",
            "linecolor": "white",
            "ticks": ""
           }
          },
          "scene": {
           "xaxis": {
            "backgroundcolor": "#E5ECF6",
            "gridcolor": "white",
            "gridwidth": 2,
            "linecolor": "white",
            "showbackground": true,
            "ticks": "",
            "zerolinecolor": "white"
           },
           "yaxis": {
            "backgroundcolor": "#E5ECF6",
            "gridcolor": "white",
            "gridwidth": 2,
            "linecolor": "white",
            "showbackground": true,
            "ticks": "",
            "zerolinecolor": "white"
           },
           "zaxis": {
            "backgroundcolor": "#E5ECF6",
            "gridcolor": "white",
            "gridwidth": 2,
            "linecolor": "white",
            "showbackground": true,
            "ticks": "",
            "zerolinecolor": "white"
           }
          },
          "shapedefaults": {
           "line": {
            "color": "#2a3f5f"
           }
          },
          "ternary": {
           "aaxis": {
            "gridcolor": "white",
            "linecolor": "white",
            "ticks": ""
           },
           "baxis": {
            "gridcolor": "white",
            "linecolor": "white",
            "ticks": ""
           },
           "bgcolor": "#E5ECF6",
           "caxis": {
            "gridcolor": "white",
            "linecolor": "white",
            "ticks": ""
           }
          },
          "title": {
           "x": 0.05
          },
          "xaxis": {
           "automargin": true,
           "gridcolor": "white",
           "linecolor": "white",
           "ticks": "",
           "title": {
            "standoff": 15
           },
           "zerolinecolor": "white",
           "zerolinewidth": 2
          },
          "yaxis": {
           "automargin": true,
           "gridcolor": "white",
           "linecolor": "white",
           "ticks": "",
           "title": {
            "standoff": 15
           },
           "zerolinecolor": "white",
           "zerolinewidth": 2
          }
         }
        },
        "title": {
         "text": "Top 10 des incidents dans Boston en deuxième partie de 2017"
        },
        "xaxis": {
         "anchor": "y",
         "domain": [
          0,
          1
         ],
         "title": {
          "text": "Interventions"
         }
        },
        "yaxis": {
         "anchor": "x",
         "domain": [
          0,
          1
         ],
         "title": {
          "text": "Nombre de cas"
         }
        }
       }
      },
      "text/html": [
       "<div>                            <div id=\"28068a8f-4f9e-4a62-a1a3-fab16a74697d\" class=\"plotly-graph-div\" style=\"height:520px; width:100%;\"></div>            <script type=\"text/javascript\">                require([\"plotly\"], function(Plotly) {                    window.PLOTLYENV=window.PLOTLYENV || {};                                    if (document.getElementById(\"28068a8f-4f9e-4a62-a1a3-fab16a74697d\")) {                    Plotly.newPlot(                        \"28068a8f-4f9e-4a62-a1a3-fab16a74697d\",                        [{\"alignmentgroup\": \"True\", \"hovertemplate\": \"color=INVESTIGATE PERSON<br>x=%{x}<br>y=%{y}<extra></extra>\", \"legendgroup\": \"INVESTIGATE PERSON\", \"marker\": {\"color\": \"#440154\"}, \"name\": \"INVESTIGATE PERSON\", \"offsetgroup\": \"INVESTIGATE PERSON\", \"orientation\": \"v\", \"showlegend\": true, \"textposition\": \"auto\", \"type\": \"bar\", \"x\": [\"INVESTIGATE PERSON\"], \"xaxis\": \"x\", \"y\": [3545], \"yaxis\": \"y\"}, {\"alignmentgroup\": \"True\", \"hovertemplate\": \"color=SICK/INJURED/MEDICAL - PERSON<br>x=%{x}<br>y=%{y}<extra></extra>\", \"legendgroup\": \"SICK/INJURED/MEDICAL - PERSON\", \"marker\": {\"color\": \"#482878\"}, \"name\": \"SICK/INJURED/MEDICAL - PERSON\", \"offsetgroup\": \"SICK/INJURED/MEDICAL - PERSON\", \"orientation\": \"v\", \"showlegend\": true, \"textposition\": \"auto\", \"type\": \"bar\", \"x\": [\"SICK/INJURED/MEDICAL - PERSON\"], \"xaxis\": \"x\", \"y\": [2877], \"yaxis\": \"y\"}, {\"alignmentgroup\": \"True\", \"hovertemplate\": \"color=M/V - LEAVING SCENE - PROPERTY DAMAGE<br>x=%{x}<br>y=%{y}<extra></extra>\", \"legendgroup\": \"M/V - LEAVING SCENE - PROPERTY DAMAGE\", \"marker\": {\"color\": \"#3e4989\"}, \"name\": \"M/V - LEAVING SCENE - PROPERTY DAMAGE\", \"offsetgroup\": \"M/V - LEAVING SCENE - PROPERTY DAMAGE\", \"orientation\": \"v\", \"showlegend\": true, \"textposition\": \"auto\", \"type\": \"bar\", \"x\": [\"M/V - LEAVING SCENE - PROPERTY DAMAGE\"], \"xaxis\": \"x\", \"y\": [2240], \"yaxis\": \"y\"}, {\"alignmentgroup\": \"True\", \"hovertemplate\": \"color=VANDALISM<br>x=%{x}<br>y=%{y}<extra></extra>\", \"legendgroup\": \"VANDALISM\", \"marker\": {\"color\": \"#31688e\"}, \"name\": \"VANDALISM\", \"offsetgroup\": \"VANDALISM\", \"orientation\": \"v\", \"showlegend\": true, \"textposition\": \"auto\", \"type\": \"bar\", \"x\": [\"VANDALISM\"], \"xaxis\": \"x\", \"y\": [2229], \"yaxis\": \"y\"}, {\"alignmentgroup\": \"True\", \"hovertemplate\": \"color=ASSAULT SIMPLE - BATTERY<br>x=%{x}<br>y=%{y}<extra></extra>\", \"legendgroup\": \"ASSAULT SIMPLE - BATTERY\", \"marker\": {\"color\": \"#26828e\"}, \"name\": \"ASSAULT SIMPLE - BATTERY\", \"offsetgroup\": \"ASSAULT SIMPLE - BATTERY\", \"orientation\": \"v\", \"showlegend\": true, \"textposition\": \"auto\", \"type\": \"bar\", \"x\": [\"ASSAULT SIMPLE - BATTERY\"], \"xaxis\": \"x\", \"y\": [2222], \"yaxis\": \"y\"}, {\"alignmentgroup\": \"True\", \"hovertemplate\": \"color=VERBAL DISPUTE<br>x=%{x}<br>y=%{y}<extra></extra>\", \"legendgroup\": \"VERBAL DISPUTE\", \"marker\": {\"color\": \"#1f9e89\"}, \"name\": \"VERBAL DISPUTE\", \"offsetgroup\": \"VERBAL DISPUTE\", \"orientation\": \"v\", \"showlegend\": true, \"textposition\": \"auto\", \"type\": \"bar\", \"x\": [\"VERBAL DISPUTE\"], \"xaxis\": \"x\", \"y\": [2194], \"yaxis\": \"y\"}, {\"alignmentgroup\": \"True\", \"hovertemplate\": \"color=INVESTIGATE PROPERTY<br>x=%{x}<br>y=%{y}<extra></extra>\", \"legendgroup\": \"INVESTIGATE PROPERTY\", \"marker\": {\"color\": \"#35b779\"}, \"name\": \"INVESTIGATE PROPERTY\", \"offsetgroup\": \"INVESTIGATE PROPERTY\", \"orientation\": \"v\", \"showlegend\": true, \"textposition\": \"auto\", \"type\": \"bar\", \"x\": [\"INVESTIGATE PROPERTY\"], \"xaxis\": \"x\", \"y\": [1954], \"yaxis\": \"y\"}, {\"alignmentgroup\": \"True\", \"hovertemplate\": \"color=TOWED MOTOR VEHICLE<br>x=%{x}<br>y=%{y}<extra></extra>\", \"legendgroup\": \"TOWED MOTOR VEHICLE\", \"marker\": {\"color\": \"#6ece58\"}, \"name\": \"TOWED MOTOR VEHICLE\", \"offsetgroup\": \"TOWED MOTOR VEHICLE\", \"orientation\": \"v\", \"showlegend\": true, \"textposition\": \"auto\", \"type\": \"bar\", \"x\": [\"TOWED MOTOR VEHICLE\"], \"xaxis\": \"x\", \"y\": [1878], \"yaxis\": \"y\"}, {\"alignmentgroup\": \"True\", \"hovertemplate\": \"color=LARCENY THEFT FROM BUILDING<br>x=%{x}<br>y=%{y}<extra></extra>\", \"legendgroup\": \"LARCENY THEFT FROM BUILDING\", \"marker\": {\"color\": \"#b5de2b\"}, \"name\": \"LARCENY THEFT FROM BUILDING\", \"offsetgroup\": \"LARCENY THEFT FROM BUILDING\", \"orientation\": \"v\", \"showlegend\": true, \"textposition\": \"auto\", \"type\": \"bar\", \"x\": [\"LARCENY THEFT FROM BUILDING\"], \"xaxis\": \"x\", \"y\": [1430], \"yaxis\": \"y\"}, {\"alignmentgroup\": \"True\", \"hovertemplate\": \"color=PROPERTY - LOST<br>x=%{x}<br>y=%{y}<extra></extra>\", \"legendgroup\": \"PROPERTY - LOST\", \"marker\": {\"color\": \"#fde725\"}, \"name\": \"PROPERTY - LOST\", \"offsetgroup\": \"PROPERTY - LOST\", \"orientation\": \"v\", \"showlegend\": true, \"textposition\": \"auto\", \"type\": \"bar\", \"x\": [\"PROPERTY - LOST\"], \"xaxis\": \"x\", \"y\": [1380], \"yaxis\": \"y\"}],                        {\"bargap\": 0.2, \"bargroupgap\": 0.5, \"barmode\": \"relative\", \"height\": 520, \"legend\": {\"title\": {\"text\": \"color\"}, \"tracegroupgap\": 0}, \"template\": {\"data\": {\"bar\": [{\"error_x\": {\"color\": \"#2a3f5f\"}, \"error_y\": {\"color\": \"#2a3f5f\"}, \"marker\": {\"line\": {\"color\": \"#E5ECF6\", \"width\": 0.5}}, \"type\": \"bar\"}], \"barpolar\": [{\"marker\": {\"line\": {\"color\": \"#E5ECF6\", \"width\": 0.5}}, \"type\": \"barpolar\"}], \"carpet\": [{\"aaxis\": {\"endlinecolor\": \"#2a3f5f\", \"gridcolor\": \"white\", \"linecolor\": \"white\", \"minorgridcolor\": \"white\", \"startlinecolor\": \"#2a3f5f\"}, \"baxis\": {\"endlinecolor\": \"#2a3f5f\", \"gridcolor\": \"white\", \"linecolor\": \"white\", \"minorgridcolor\": \"white\", \"startlinecolor\": \"#2a3f5f\"}, \"type\": \"carpet\"}], \"choropleth\": [{\"colorbar\": {\"outlinewidth\": 0, \"ticks\": \"\"}, \"type\": \"choropleth\"}], \"contour\": [{\"colorbar\": {\"outlinewidth\": 0, \"ticks\": \"\"}, \"colorscale\": [[0.0, \"#0d0887\"], [0.1111111111111111, \"#46039f\"], [0.2222222222222222, \"#7201a8\"], [0.3333333333333333, \"#9c179e\"], [0.4444444444444444, \"#bd3786\"], [0.5555555555555556, \"#d8576b\"], [0.6666666666666666, \"#ed7953\"], [0.7777777777777778, \"#fb9f3a\"], [0.8888888888888888, \"#fdca26\"], [1.0, \"#f0f921\"]], \"type\": \"contour\"}], \"contourcarpet\": [{\"colorbar\": {\"outlinewidth\": 0, \"ticks\": \"\"}, \"type\": \"contourcarpet\"}], \"heatmap\": [{\"colorbar\": {\"outlinewidth\": 0, \"ticks\": \"\"}, \"colorscale\": [[0.0, \"#0d0887\"], [0.1111111111111111, \"#46039f\"], [0.2222222222222222, \"#7201a8\"], [0.3333333333333333, \"#9c179e\"], [0.4444444444444444, \"#bd3786\"], [0.5555555555555556, \"#d8576b\"], [0.6666666666666666, \"#ed7953\"], [0.7777777777777778, \"#fb9f3a\"], [0.8888888888888888, \"#fdca26\"], [1.0, \"#f0f921\"]], \"type\": \"heatmap\"}], \"heatmapgl\": [{\"colorbar\": {\"outlinewidth\": 0, \"ticks\": \"\"}, \"colorscale\": [[0.0, \"#0d0887\"], [0.1111111111111111, \"#46039f\"], [0.2222222222222222, \"#7201a8\"], [0.3333333333333333, \"#9c179e\"], [0.4444444444444444, \"#bd3786\"], [0.5555555555555556, \"#d8576b\"], [0.6666666666666666, \"#ed7953\"], [0.7777777777777778, \"#fb9f3a\"], [0.8888888888888888, \"#fdca26\"], [1.0, \"#f0f921\"]], \"type\": \"heatmapgl\"}], \"histogram\": [{\"marker\": {\"colorbar\": {\"outlinewidth\": 0, \"ticks\": \"\"}}, \"type\": \"histogram\"}], \"histogram2d\": [{\"colorbar\": {\"outlinewidth\": 0, \"ticks\": \"\"}, \"colorscale\": [[0.0, \"#0d0887\"], [0.1111111111111111, \"#46039f\"], [0.2222222222222222, \"#7201a8\"], [0.3333333333333333, \"#9c179e\"], [0.4444444444444444, \"#bd3786\"], [0.5555555555555556, \"#d8576b\"], [0.6666666666666666, \"#ed7953\"], [0.7777777777777778, \"#fb9f3a\"], [0.8888888888888888, \"#fdca26\"], [1.0, \"#f0f921\"]], \"type\": \"histogram2d\"}], \"histogram2dcontour\": [{\"colorbar\": {\"outlinewidth\": 0, \"ticks\": \"\"}, \"colorscale\": [[0.0, \"#0d0887\"], [0.1111111111111111, \"#46039f\"], [0.2222222222222222, \"#7201a8\"], [0.3333333333333333, \"#9c179e\"], [0.4444444444444444, \"#bd3786\"], [0.5555555555555556, \"#d8576b\"], [0.6666666666666666, \"#ed7953\"], [0.7777777777777778, \"#fb9f3a\"], [0.8888888888888888, \"#fdca26\"], [1.0, \"#f0f921\"]], \"type\": \"histogram2dcontour\"}], \"mesh3d\": [{\"colorbar\": {\"outlinewidth\": 0, \"ticks\": \"\"}, \"type\": \"mesh3d\"}], \"parcoords\": [{\"line\": {\"colorbar\": {\"outlinewidth\": 0, \"ticks\": \"\"}}, \"type\": \"parcoords\"}], \"pie\": [{\"automargin\": true, \"type\": \"pie\"}], \"scatter\": [{\"marker\": {\"colorbar\": {\"outlinewidth\": 0, \"ticks\": \"\"}}, \"type\": \"scatter\"}], \"scatter3d\": [{\"line\": {\"colorbar\": {\"outlinewidth\": 0, \"ticks\": \"\"}}, \"marker\": {\"colorbar\": {\"outlinewidth\": 0, \"ticks\": \"\"}}, \"type\": \"scatter3d\"}], \"scattercarpet\": [{\"marker\": {\"colorbar\": {\"outlinewidth\": 0, \"ticks\": \"\"}}, \"type\": \"scattercarpet\"}], \"scattergeo\": [{\"marker\": {\"colorbar\": {\"outlinewidth\": 0, \"ticks\": \"\"}}, \"type\": \"scattergeo\"}], \"scattergl\": [{\"marker\": {\"colorbar\": {\"outlinewidth\": 0, \"ticks\": \"\"}}, \"type\": \"scattergl\"}], \"scattermapbox\": [{\"marker\": {\"colorbar\": {\"outlinewidth\": 0, \"ticks\": \"\"}}, \"type\": \"scattermapbox\"}], \"scatterpolar\": [{\"marker\": {\"colorbar\": {\"outlinewidth\": 0, \"ticks\": \"\"}}, \"type\": \"scatterpolar\"}], \"scatterpolargl\": [{\"marker\": {\"colorbar\": {\"outlinewidth\": 0, \"ticks\": \"\"}}, \"type\": \"scatterpolargl\"}], \"scatterternary\": [{\"marker\": {\"colorbar\": {\"outlinewidth\": 0, \"ticks\": \"\"}}, \"type\": \"scatterternary\"}], \"surface\": [{\"colorbar\": {\"outlinewidth\": 0, \"ticks\": \"\"}, \"colorscale\": [[0.0, \"#0d0887\"], [0.1111111111111111, \"#46039f\"], [0.2222222222222222, \"#7201a8\"], [0.3333333333333333, \"#9c179e\"], [0.4444444444444444, \"#bd3786\"], [0.5555555555555556, \"#d8576b\"], [0.6666666666666666, \"#ed7953\"], [0.7777777777777778, \"#fb9f3a\"], [0.8888888888888888, \"#fdca26\"], [1.0, \"#f0f921\"]], \"type\": \"surface\"}], \"table\": [{\"cells\": {\"fill\": {\"color\": \"#EBF0F8\"}, \"line\": {\"color\": \"white\"}}, \"header\": {\"fill\": {\"color\": \"#C8D4E3\"}, \"line\": {\"color\": \"white\"}}, \"type\": \"table\"}]}, \"layout\": {\"annotationdefaults\": {\"arrowcolor\": \"#2a3f5f\", \"arrowhead\": 0, \"arrowwidth\": 1}, \"autotypenumbers\": \"strict\", \"coloraxis\": {\"colorbar\": {\"outlinewidth\": 0, \"ticks\": \"\"}}, \"colorscale\": {\"diverging\": [[0, \"#8e0152\"], [0.1, \"#c51b7d\"], [0.2, \"#de77ae\"], [0.3, \"#f1b6da\"], [0.4, \"#fde0ef\"], [0.5, \"#f7f7f7\"], [0.6, \"#e6f5d0\"], [0.7, \"#b8e186\"], [0.8, \"#7fbc41\"], [0.9, \"#4d9221\"], [1, \"#276419\"]], \"sequential\": [[0.0, \"#0d0887\"], [0.1111111111111111, \"#46039f\"], [0.2222222222222222, \"#7201a8\"], [0.3333333333333333, \"#9c179e\"], [0.4444444444444444, \"#bd3786\"], [0.5555555555555556, \"#d8576b\"], [0.6666666666666666, \"#ed7953\"], [0.7777777777777778, \"#fb9f3a\"], [0.8888888888888888, \"#fdca26\"], [1.0, \"#f0f921\"]], \"sequentialminus\": [[0.0, \"#0d0887\"], [0.1111111111111111, \"#46039f\"], [0.2222222222222222, \"#7201a8\"], [0.3333333333333333, \"#9c179e\"], [0.4444444444444444, \"#bd3786\"], [0.5555555555555556, \"#d8576b\"], [0.6666666666666666, \"#ed7953\"], [0.7777777777777778, \"#fb9f3a\"], [0.8888888888888888, \"#fdca26\"], [1.0, \"#f0f921\"]]}, \"colorway\": [\"#636efa\", \"#EF553B\", \"#00cc96\", \"#ab63fa\", \"#FFA15A\", \"#19d3f3\", \"#FF6692\", \"#B6E880\", \"#FF97FF\", \"#FECB52\"], \"font\": {\"color\": \"#2a3f5f\"}, \"geo\": {\"bgcolor\": \"white\", \"lakecolor\": \"white\", \"landcolor\": \"#E5ECF6\", \"showlakes\": true, \"showland\": true, \"subunitcolor\": \"white\"}, \"hoverlabel\": {\"align\": \"left\"}, \"hovermode\": \"closest\", \"mapbox\": {\"style\": \"light\"}, \"paper_bgcolor\": \"white\", \"plot_bgcolor\": \"#E5ECF6\", \"polar\": {\"angularaxis\": {\"gridcolor\": \"white\", \"linecolor\": \"white\", \"ticks\": \"\"}, \"bgcolor\": \"#E5ECF6\", \"radialaxis\": {\"gridcolor\": \"white\", \"linecolor\": \"white\", \"ticks\": \"\"}}, \"scene\": {\"xaxis\": {\"backgroundcolor\": \"#E5ECF6\", \"gridcolor\": \"white\", \"gridwidth\": 2, \"linecolor\": \"white\", \"showbackground\": true, \"ticks\": \"\", \"zerolinecolor\": \"white\"}, \"yaxis\": {\"backgroundcolor\": \"#E5ECF6\", \"gridcolor\": \"white\", \"gridwidth\": 2, \"linecolor\": \"white\", \"showbackground\": true, \"ticks\": \"\", \"zerolinecolor\": \"white\"}, \"zaxis\": {\"backgroundcolor\": \"#E5ECF6\", \"gridcolor\": \"white\", \"gridwidth\": 2, \"linecolor\": \"white\", \"showbackground\": true, \"ticks\": \"\", \"zerolinecolor\": \"white\"}}, \"shapedefaults\": {\"line\": {\"color\": \"#2a3f5f\"}}, \"ternary\": {\"aaxis\": {\"gridcolor\": \"white\", \"linecolor\": \"white\", \"ticks\": \"\"}, \"baxis\": {\"gridcolor\": \"white\", \"linecolor\": \"white\", \"ticks\": \"\"}, \"bgcolor\": \"#E5ECF6\", \"caxis\": {\"gridcolor\": \"white\", \"linecolor\": \"white\", \"ticks\": \"\"}}, \"title\": {\"x\": 0.05}, \"xaxis\": {\"automargin\": true, \"gridcolor\": \"white\", \"linecolor\": \"white\", \"ticks\": \"\", \"title\": {\"standoff\": 15}, \"zerolinecolor\": \"white\", \"zerolinewidth\": 2}, \"yaxis\": {\"automargin\": true, \"gridcolor\": \"white\", \"linecolor\": \"white\", \"ticks\": \"\", \"title\": {\"standoff\": 15}, \"zerolinecolor\": \"white\", \"zerolinewidth\": 2}}}, \"title\": {\"text\": \"Top 10 des incidents dans Boston en deuxi\\u00e8me partie de 2017\"}, \"xaxis\": {\"anchor\": \"y\", \"domain\": [0.0, 1.0], \"title\": {\"text\": \"Interventions\"}}, \"yaxis\": {\"anchor\": \"x\", \"domain\": [0.0, 1.0], \"title\": {\"text\": \"Nombre de cas\"}}},                        {\"responsive\": true}                    ).then(function(){\n",
       "                            \n",
       "var gd = document.getElementById('28068a8f-4f9e-4a62-a1a3-fab16a74697d');\n",
       "var x = new MutationObserver(function (mutations, observer) {{\n",
       "        var display = window.getComputedStyle(gd).display;\n",
       "        if (!display || display === 'none') {{\n",
       "            console.log([gd, 'removed!']);\n",
       "            Plotly.purge(gd);\n",
       "            observer.disconnect();\n",
       "        }}\n",
       "}});\n",
       "\n",
       "// Listen for the removal of the full notebook cells\n",
       "var notebookContainer = gd.closest('#notebook-container');\n",
       "if (notebookContainer) {{\n",
       "    x.observe(notebookContainer, {childList: true});\n",
       "}}\n",
       "\n",
       "// Listen for the clearing of the current output cell\n",
       "var outputEl = gd.closest('.output');\n",
       "if (outputEl) {{\n",
       "    x.observe(outputEl, {childList: true});\n",
       "}}\n",
       "\n",
       "                        })                };                });            </script>        </div>"
      ]
     },
     "metadata": {},
     "output_type": "display_data"
    }
   ],
   "source": [
    "Description=categories['Description'][0:10]\n",
    "Values=categories['values'][0:10]\n",
    "\n",
    "fig=px.bar(categories, x=Description,\n",
    "           y=Values, \n",
    "           title= 'Top 10 des incidents dans Boston en deuxième partie de 2017',\n",
    "           color=categories['Description'][0:10],\n",
    "           color_discrete_sequence = px.colors.sequential.Viridis,\n",
    "           height=520)\n",
    "\n",
    "fig.update_layout(\n",
    "    xaxis_title_text='Interventions', \n",
    "    yaxis_title_text='Nombre de cas', \n",
    "    bargap=0.2, \n",
    "    bargroupgap=0.5)\n",
    "    \n",
    "fig.show()"
   ]
  },
  {
   "cell_type": "markdown",
   "metadata": {},
   "source": [
    "Les enquêtes *a persona* sont en tête de classement suivit par des interventions d'aide à la personne."
   ]
  },
  {
   "cell_type": "markdown",
   "metadata": {},
   "source": [
    "### Répartition géographique"
   ]
  },
  {
   "cell_type": "markdown",
   "metadata": {},
   "source": [
    "Nous souhaitons maintenant savoir où ses interventions sont les plus fréquentes. Nous avons donc fait une requête des données mentionnant le nom des rues de la table streets par l'intermédiaire de la table crimes qui permet de faire une analyse de leur occurence :"
   ]
  },
  {
   "cell_type": "code",
   "execution_count": 18,
   "metadata": {},
   "outputs": [],
   "source": [
    "cursor.execute(\"SELECT street_name FROM streets JOIN crimes ON streets.id_street = crimes.crime_street\")\n",
    "rows = cursor.fetchall()\n",
    "\n",
    "crime = []\n",
    "for street_name in rows :\n",
    "    crime.append(street_name)\n",
    "\n",
    "crime = pd.DataFrame(crime, columns=['Street'])   "
   ]
  },
  {
   "cell_type": "code",
   "execution_count": 19,
   "metadata": {},
   "outputs": [],
   "source": [
    "crime_count = crime['Street'].value_counts()\n",
    "values =crime_count.values\n",
    "categories = pd.DataFrame(data=crime_count.index, columns=[\"Street\"])\n",
    "categories['values'] = values"
   ]
  },
  {
   "cell_type": "code",
   "execution_count": 20,
   "metadata": {},
   "outputs": [
    {
     "data": {
      "application/vnd.plotly.v1+json": {
       "config": {
        "plotlyServerURL": "https://plot.ly"
       },
       "data": [
        {
         "alignmentgroup": "True",
         "hovertemplate": "color=WASHINGTON ST<br>x=%{x}<br>y=%{y}<extra></extra>",
         "legendgroup": "WASHINGTON ST",
         "marker": {
          "color": "#440154"
         },
         "name": "WASHINGTON ST",
         "offsetgroup": "WASHINGTON ST",
         "orientation": "v",
         "showlegend": true,
         "textposition": "auto",
         "type": "bar",
         "x": [
          "WASHINGTON ST"
         ],
         "xaxis": "x",
         "y": [
          2131
         ],
         "yaxis": "y"
        },
        {
         "alignmentgroup": "True",
         "hovertemplate": "color=BOYLSTON ST<br>x=%{x}<br>y=%{y}<extra></extra>",
         "legendgroup": "BOYLSTON ST",
         "marker": {
          "color": "#482878"
         },
         "name": "BOYLSTON ST",
         "offsetgroup": "BOYLSTON ST",
         "orientation": "v",
         "showlegend": true,
         "textposition": "auto",
         "type": "bar",
         "x": [
          "BOYLSTON ST"
         ],
         "xaxis": "x",
         "y": [
          1042
         ],
         "yaxis": "y"
        },
        {
         "alignmentgroup": "True",
         "hovertemplate": "color=BLUE HILL AVE<br>x=%{x}<br>y=%{y}<extra></extra>",
         "legendgroup": "BLUE HILL AVE",
         "marker": {
          "color": "#3e4989"
         },
         "name": "BLUE HILL AVE",
         "offsetgroup": "BLUE HILL AVE",
         "orientation": "v",
         "showlegend": true,
         "textposition": "auto",
         "type": "bar",
         "x": [
          "BLUE HILL AVE"
         ],
         "xaxis": "x",
         "y": [
          1011
         ],
         "yaxis": "y"
        },
        {
         "alignmentgroup": "True",
         "hovertemplate": "color=DORCHESTER AVE<br>x=%{x}<br>y=%{y}<extra></extra>",
         "legendgroup": "DORCHESTER AVE",
         "marker": {
          "color": "#31688e"
         },
         "name": "DORCHESTER AVE",
         "offsetgroup": "DORCHESTER AVE",
         "orientation": "v",
         "showlegend": true,
         "textposition": "auto",
         "type": "bar",
         "x": [
          "DORCHESTER AVE"
         ],
         "xaxis": "x",
         "y": [
          828
         ],
         "yaxis": "y"
        },
        {
         "alignmentgroup": "True",
         "hovertemplate": "color=HARRISON AVE<br>x=%{x}<br>y=%{y}<extra></extra>",
         "legendgroup": "HARRISON AVE",
         "marker": {
          "color": "#26828e"
         },
         "name": "HARRISON AVE",
         "offsetgroup": "HARRISON AVE",
         "orientation": "v",
         "showlegend": true,
         "textposition": "auto",
         "type": "bar",
         "x": [
          "HARRISON AVE"
         ],
         "xaxis": "x",
         "y": [
          705
         ],
         "yaxis": "y"
        },
        {
         "alignmentgroup": "True",
         "hovertemplate": "color=TREMONT ST<br>x=%{x}<br>y=%{y}<extra></extra>",
         "legendgroup": "TREMONT ST",
         "marker": {
          "color": "#1f9e89"
         },
         "name": "TREMONT ST",
         "offsetgroup": "TREMONT ST",
         "orientation": "v",
         "showlegend": true,
         "textposition": "auto",
         "type": "bar",
         "x": [
          "TREMONT ST"
         ],
         "xaxis": "x",
         "y": [
          684
         ],
         "yaxis": "y"
        },
        {
         "alignmentgroup": "True",
         "hovertemplate": "color=CENTRE ST<br>x=%{x}<br>y=%{y}<extra></extra>",
         "legendgroup": "CENTRE ST",
         "marker": {
          "color": "#35b779"
         },
         "name": "CENTRE ST",
         "offsetgroup": "CENTRE ST",
         "orientation": "v",
         "showlegend": true,
         "textposition": "auto",
         "type": "bar",
         "x": [
          "CENTRE ST"
         ],
         "xaxis": "x",
         "y": [
          640
         ],
         "yaxis": "y"
        },
        {
         "alignmentgroup": "True",
         "hovertemplate": "color=MASSACHUSETTS AVE<br>x=%{x}<br>y=%{y}<extra></extra>",
         "legendgroup": "MASSACHUSETTS AVE",
         "marker": {
          "color": "#6ece58"
         },
         "name": "MASSACHUSETTS AVE",
         "offsetgroup": "MASSACHUSETTS AVE",
         "orientation": "v",
         "showlegend": true,
         "textposition": "auto",
         "type": "bar",
         "x": [
          "MASSACHUSETTS AVE"
         ],
         "xaxis": "x",
         "y": [
          639
         ],
         "yaxis": "y"
        },
        {
         "alignmentgroup": "True",
         "hovertemplate": "color=COMMONWEALTH AVE<br>x=%{x}<br>y=%{y}<extra></extra>",
         "legendgroup": "COMMONWEALTH AVE",
         "marker": {
          "color": "#b5de2b"
         },
         "name": "COMMONWEALTH AVE",
         "offsetgroup": "COMMONWEALTH AVE",
         "orientation": "v",
         "showlegend": true,
         "textposition": "auto",
         "type": "bar",
         "x": [
          "COMMONWEALTH AVE"
         ],
         "xaxis": "x",
         "y": [
          585
         ],
         "yaxis": "y"
        },
        {
         "alignmentgroup": "True",
         "hovertemplate": "color=HYDE PARK AVE<br>x=%{x}<br>y=%{y}<extra></extra>",
         "legendgroup": "HYDE PARK AVE",
         "marker": {
          "color": "#fde725"
         },
         "name": "HYDE PARK AVE",
         "offsetgroup": "HYDE PARK AVE",
         "orientation": "v",
         "showlegend": true,
         "textposition": "auto",
         "type": "bar",
         "x": [
          "HYDE PARK AVE"
         ],
         "xaxis": "x",
         "y": [
          535
         ],
         "yaxis": "y"
        }
       ],
       "layout": {
        "bargap": 0.2,
        "bargroupgap": 0.5,
        "barmode": "relative",
        "height": 520,
        "legend": {
         "title": {
          "text": "color"
         },
         "tracegroupgap": 0
        },
        "template": {
         "data": {
          "bar": [
           {
            "error_x": {
             "color": "#2a3f5f"
            },
            "error_y": {
             "color": "#2a3f5f"
            },
            "marker": {
             "line": {
              "color": "#E5ECF6",
              "width": 0.5
             }
            },
            "type": "bar"
           }
          ],
          "barpolar": [
           {
            "marker": {
             "line": {
              "color": "#E5ECF6",
              "width": 0.5
             }
            },
            "type": "barpolar"
           }
          ],
          "carpet": [
           {
            "aaxis": {
             "endlinecolor": "#2a3f5f",
             "gridcolor": "white",
             "linecolor": "white",
             "minorgridcolor": "white",
             "startlinecolor": "#2a3f5f"
            },
            "baxis": {
             "endlinecolor": "#2a3f5f",
             "gridcolor": "white",
             "linecolor": "white",
             "minorgridcolor": "white",
             "startlinecolor": "#2a3f5f"
            },
            "type": "carpet"
           }
          ],
          "choropleth": [
           {
            "colorbar": {
             "outlinewidth": 0,
             "ticks": ""
            },
            "type": "choropleth"
           }
          ],
          "contour": [
           {
            "colorbar": {
             "outlinewidth": 0,
             "ticks": ""
            },
            "colorscale": [
             [
              0,
              "#0d0887"
             ],
             [
              0.1111111111111111,
              "#46039f"
             ],
             [
              0.2222222222222222,
              "#7201a8"
             ],
             [
              0.3333333333333333,
              "#9c179e"
             ],
             [
              0.4444444444444444,
              "#bd3786"
             ],
             [
              0.5555555555555556,
              "#d8576b"
             ],
             [
              0.6666666666666666,
              "#ed7953"
             ],
             [
              0.7777777777777778,
              "#fb9f3a"
             ],
             [
              0.8888888888888888,
              "#fdca26"
             ],
             [
              1,
              "#f0f921"
             ]
            ],
            "type": "contour"
           }
          ],
          "contourcarpet": [
           {
            "colorbar": {
             "outlinewidth": 0,
             "ticks": ""
            },
            "type": "contourcarpet"
           }
          ],
          "heatmap": [
           {
            "colorbar": {
             "outlinewidth": 0,
             "ticks": ""
            },
            "colorscale": [
             [
              0,
              "#0d0887"
             ],
             [
              0.1111111111111111,
              "#46039f"
             ],
             [
              0.2222222222222222,
              "#7201a8"
             ],
             [
              0.3333333333333333,
              "#9c179e"
             ],
             [
              0.4444444444444444,
              "#bd3786"
             ],
             [
              0.5555555555555556,
              "#d8576b"
             ],
             [
              0.6666666666666666,
              "#ed7953"
             ],
             [
              0.7777777777777778,
              "#fb9f3a"
             ],
             [
              0.8888888888888888,
              "#fdca26"
             ],
             [
              1,
              "#f0f921"
             ]
            ],
            "type": "heatmap"
           }
          ],
          "heatmapgl": [
           {
            "colorbar": {
             "outlinewidth": 0,
             "ticks": ""
            },
            "colorscale": [
             [
              0,
              "#0d0887"
             ],
             [
              0.1111111111111111,
              "#46039f"
             ],
             [
              0.2222222222222222,
              "#7201a8"
             ],
             [
              0.3333333333333333,
              "#9c179e"
             ],
             [
              0.4444444444444444,
              "#bd3786"
             ],
             [
              0.5555555555555556,
              "#d8576b"
             ],
             [
              0.6666666666666666,
              "#ed7953"
             ],
             [
              0.7777777777777778,
              "#fb9f3a"
             ],
             [
              0.8888888888888888,
              "#fdca26"
             ],
             [
              1,
              "#f0f921"
             ]
            ],
            "type": "heatmapgl"
           }
          ],
          "histogram": [
           {
            "marker": {
             "colorbar": {
              "outlinewidth": 0,
              "ticks": ""
             }
            },
            "type": "histogram"
           }
          ],
          "histogram2d": [
           {
            "colorbar": {
             "outlinewidth": 0,
             "ticks": ""
            },
            "colorscale": [
             [
              0,
              "#0d0887"
             ],
             [
              0.1111111111111111,
              "#46039f"
             ],
             [
              0.2222222222222222,
              "#7201a8"
             ],
             [
              0.3333333333333333,
              "#9c179e"
             ],
             [
              0.4444444444444444,
              "#bd3786"
             ],
             [
              0.5555555555555556,
              "#d8576b"
             ],
             [
              0.6666666666666666,
              "#ed7953"
             ],
             [
              0.7777777777777778,
              "#fb9f3a"
             ],
             [
              0.8888888888888888,
              "#fdca26"
             ],
             [
              1,
              "#f0f921"
             ]
            ],
            "type": "histogram2d"
           }
          ],
          "histogram2dcontour": [
           {
            "colorbar": {
             "outlinewidth": 0,
             "ticks": ""
            },
            "colorscale": [
             [
              0,
              "#0d0887"
             ],
             [
              0.1111111111111111,
              "#46039f"
             ],
             [
              0.2222222222222222,
              "#7201a8"
             ],
             [
              0.3333333333333333,
              "#9c179e"
             ],
             [
              0.4444444444444444,
              "#bd3786"
             ],
             [
              0.5555555555555556,
              "#d8576b"
             ],
             [
              0.6666666666666666,
              "#ed7953"
             ],
             [
              0.7777777777777778,
              "#fb9f3a"
             ],
             [
              0.8888888888888888,
              "#fdca26"
             ],
             [
              1,
              "#f0f921"
             ]
            ],
            "type": "histogram2dcontour"
           }
          ],
          "mesh3d": [
           {
            "colorbar": {
             "outlinewidth": 0,
             "ticks": ""
            },
            "type": "mesh3d"
           }
          ],
          "parcoords": [
           {
            "line": {
             "colorbar": {
              "outlinewidth": 0,
              "ticks": ""
             }
            },
            "type": "parcoords"
           }
          ],
          "pie": [
           {
            "automargin": true,
            "type": "pie"
           }
          ],
          "scatter": [
           {
            "marker": {
             "colorbar": {
              "outlinewidth": 0,
              "ticks": ""
             }
            },
            "type": "scatter"
           }
          ],
          "scatter3d": [
           {
            "line": {
             "colorbar": {
              "outlinewidth": 0,
              "ticks": ""
             }
            },
            "marker": {
             "colorbar": {
              "outlinewidth": 0,
              "ticks": ""
             }
            },
            "type": "scatter3d"
           }
          ],
          "scattercarpet": [
           {
            "marker": {
             "colorbar": {
              "outlinewidth": 0,
              "ticks": ""
             }
            },
            "type": "scattercarpet"
           }
          ],
          "scattergeo": [
           {
            "marker": {
             "colorbar": {
              "outlinewidth": 0,
              "ticks": ""
             }
            },
            "type": "scattergeo"
           }
          ],
          "scattergl": [
           {
            "marker": {
             "colorbar": {
              "outlinewidth": 0,
              "ticks": ""
             }
            },
            "type": "scattergl"
           }
          ],
          "scattermapbox": [
           {
            "marker": {
             "colorbar": {
              "outlinewidth": 0,
              "ticks": ""
             }
            },
            "type": "scattermapbox"
           }
          ],
          "scatterpolar": [
           {
            "marker": {
             "colorbar": {
              "outlinewidth": 0,
              "ticks": ""
             }
            },
            "type": "scatterpolar"
           }
          ],
          "scatterpolargl": [
           {
            "marker": {
             "colorbar": {
              "outlinewidth": 0,
              "ticks": ""
             }
            },
            "type": "scatterpolargl"
           }
          ],
          "scatterternary": [
           {
            "marker": {
             "colorbar": {
              "outlinewidth": 0,
              "ticks": ""
             }
            },
            "type": "scatterternary"
           }
          ],
          "surface": [
           {
            "colorbar": {
             "outlinewidth": 0,
             "ticks": ""
            },
            "colorscale": [
             [
              0,
              "#0d0887"
             ],
             [
              0.1111111111111111,
              "#46039f"
             ],
             [
              0.2222222222222222,
              "#7201a8"
             ],
             [
              0.3333333333333333,
              "#9c179e"
             ],
             [
              0.4444444444444444,
              "#bd3786"
             ],
             [
              0.5555555555555556,
              "#d8576b"
             ],
             [
              0.6666666666666666,
              "#ed7953"
             ],
             [
              0.7777777777777778,
              "#fb9f3a"
             ],
             [
              0.8888888888888888,
              "#fdca26"
             ],
             [
              1,
              "#f0f921"
             ]
            ],
            "type": "surface"
           }
          ],
          "table": [
           {
            "cells": {
             "fill": {
              "color": "#EBF0F8"
             },
             "line": {
              "color": "white"
             }
            },
            "header": {
             "fill": {
              "color": "#C8D4E3"
             },
             "line": {
              "color": "white"
             }
            },
            "type": "table"
           }
          ]
         },
         "layout": {
          "annotationdefaults": {
           "arrowcolor": "#2a3f5f",
           "arrowhead": 0,
           "arrowwidth": 1
          },
          "autotypenumbers": "strict",
          "coloraxis": {
           "colorbar": {
            "outlinewidth": 0,
            "ticks": ""
           }
          },
          "colorscale": {
           "diverging": [
            [
             0,
             "#8e0152"
            ],
            [
             0.1,
             "#c51b7d"
            ],
            [
             0.2,
             "#de77ae"
            ],
            [
             0.3,
             "#f1b6da"
            ],
            [
             0.4,
             "#fde0ef"
            ],
            [
             0.5,
             "#f7f7f7"
            ],
            [
             0.6,
             "#e6f5d0"
            ],
            [
             0.7,
             "#b8e186"
            ],
            [
             0.8,
             "#7fbc41"
            ],
            [
             0.9,
             "#4d9221"
            ],
            [
             1,
             "#276419"
            ]
           ],
           "sequential": [
            [
             0,
             "#0d0887"
            ],
            [
             0.1111111111111111,
             "#46039f"
            ],
            [
             0.2222222222222222,
             "#7201a8"
            ],
            [
             0.3333333333333333,
             "#9c179e"
            ],
            [
             0.4444444444444444,
             "#bd3786"
            ],
            [
             0.5555555555555556,
             "#d8576b"
            ],
            [
             0.6666666666666666,
             "#ed7953"
            ],
            [
             0.7777777777777778,
             "#fb9f3a"
            ],
            [
             0.8888888888888888,
             "#fdca26"
            ],
            [
             1,
             "#f0f921"
            ]
           ],
           "sequentialminus": [
            [
             0,
             "#0d0887"
            ],
            [
             0.1111111111111111,
             "#46039f"
            ],
            [
             0.2222222222222222,
             "#7201a8"
            ],
            [
             0.3333333333333333,
             "#9c179e"
            ],
            [
             0.4444444444444444,
             "#bd3786"
            ],
            [
             0.5555555555555556,
             "#d8576b"
            ],
            [
             0.6666666666666666,
             "#ed7953"
            ],
            [
             0.7777777777777778,
             "#fb9f3a"
            ],
            [
             0.8888888888888888,
             "#fdca26"
            ],
            [
             1,
             "#f0f921"
            ]
           ]
          },
          "colorway": [
           "#636efa",
           "#EF553B",
           "#00cc96",
           "#ab63fa",
           "#FFA15A",
           "#19d3f3",
           "#FF6692",
           "#B6E880",
           "#FF97FF",
           "#FECB52"
          ],
          "font": {
           "color": "#2a3f5f"
          },
          "geo": {
           "bgcolor": "white",
           "lakecolor": "white",
           "landcolor": "#E5ECF6",
           "showlakes": true,
           "showland": true,
           "subunitcolor": "white"
          },
          "hoverlabel": {
           "align": "left"
          },
          "hovermode": "closest",
          "mapbox": {
           "style": "light"
          },
          "paper_bgcolor": "white",
          "plot_bgcolor": "#E5ECF6",
          "polar": {
           "angularaxis": {
            "gridcolor": "white",
            "linecolor": "white",
            "ticks": ""
           },
           "bgcolor": "#E5ECF6",
           "radialaxis": {
            "gridcolor": "white",
            "linecolor": "white",
            "ticks": ""
           }
          },
          "scene": {
           "xaxis": {
            "backgroundcolor": "#E5ECF6",
            "gridcolor": "white",
            "gridwidth": 2,
            "linecolor": "white",
            "showbackground": true,
            "ticks": "",
            "zerolinecolor": "white"
           },
           "yaxis": {
            "backgroundcolor": "#E5ECF6",
            "gridcolor": "white",
            "gridwidth": 2,
            "linecolor": "white",
            "showbackground": true,
            "ticks": "",
            "zerolinecolor": "white"
           },
           "zaxis": {
            "backgroundcolor": "#E5ECF6",
            "gridcolor": "white",
            "gridwidth": 2,
            "linecolor": "white",
            "showbackground": true,
            "ticks": "",
            "zerolinecolor": "white"
           }
          },
          "shapedefaults": {
           "line": {
            "color": "#2a3f5f"
           }
          },
          "ternary": {
           "aaxis": {
            "gridcolor": "white",
            "linecolor": "white",
            "ticks": ""
           },
           "baxis": {
            "gridcolor": "white",
            "linecolor": "white",
            "ticks": ""
           },
           "bgcolor": "#E5ECF6",
           "caxis": {
            "gridcolor": "white",
            "linecolor": "white",
            "ticks": ""
           }
          },
          "title": {
           "x": 0.05
          },
          "xaxis": {
           "automargin": true,
           "gridcolor": "white",
           "linecolor": "white",
           "ticks": "",
           "title": {
            "standoff": 15
           },
           "zerolinecolor": "white",
           "zerolinewidth": 2
          },
          "yaxis": {
           "automargin": true,
           "gridcolor": "white",
           "linecolor": "white",
           "ticks": "",
           "title": {
            "standoff": 15
           },
           "zerolinecolor": "white",
           "zerolinewidth": 2
          }
         }
        },
        "title": {
         "text": "Les zones de Boston les plus répertoriées"
        },
        "xaxis": {
         "anchor": "y",
         "domain": [
          0,
          1
         ],
         "title": {
          "text": "Zones"
         }
        },
        "yaxis": {
         "anchor": "x",
         "domain": [
          0,
          1
         ],
         "title": {
          "text": "Nombre d'incidents"
         }
        }
       }
      },
      "text/html": [
       "<div>                            <div id=\"cc79b39d-6ff0-4884-a177-e14aa1d80089\" class=\"plotly-graph-div\" style=\"height:520px; width:100%;\"></div>            <script type=\"text/javascript\">                require([\"plotly\"], function(Plotly) {                    window.PLOTLYENV=window.PLOTLYENV || {};                                    if (document.getElementById(\"cc79b39d-6ff0-4884-a177-e14aa1d80089\")) {                    Plotly.newPlot(                        \"cc79b39d-6ff0-4884-a177-e14aa1d80089\",                        [{\"alignmentgroup\": \"True\", \"hovertemplate\": \"color=WASHINGTON ST<br>x=%{x}<br>y=%{y}<extra></extra>\", \"legendgroup\": \"WASHINGTON ST\", \"marker\": {\"color\": \"#440154\"}, \"name\": \"WASHINGTON ST\", \"offsetgroup\": \"WASHINGTON ST\", \"orientation\": \"v\", \"showlegend\": true, \"textposition\": \"auto\", \"type\": \"bar\", \"x\": [\"WASHINGTON ST\"], \"xaxis\": \"x\", \"y\": [2131], \"yaxis\": \"y\"}, {\"alignmentgroup\": \"True\", \"hovertemplate\": \"color=BOYLSTON ST<br>x=%{x}<br>y=%{y}<extra></extra>\", \"legendgroup\": \"BOYLSTON ST\", \"marker\": {\"color\": \"#482878\"}, \"name\": \"BOYLSTON ST\", \"offsetgroup\": \"BOYLSTON ST\", \"orientation\": \"v\", \"showlegend\": true, \"textposition\": \"auto\", \"type\": \"bar\", \"x\": [\"BOYLSTON ST\"], \"xaxis\": \"x\", \"y\": [1042], \"yaxis\": \"y\"}, {\"alignmentgroup\": \"True\", \"hovertemplate\": \"color=BLUE HILL AVE<br>x=%{x}<br>y=%{y}<extra></extra>\", \"legendgroup\": \"BLUE HILL AVE\", \"marker\": {\"color\": \"#3e4989\"}, \"name\": \"BLUE HILL AVE\", \"offsetgroup\": \"BLUE HILL AVE\", \"orientation\": \"v\", \"showlegend\": true, \"textposition\": \"auto\", \"type\": \"bar\", \"x\": [\"BLUE HILL AVE\"], \"xaxis\": \"x\", \"y\": [1011], \"yaxis\": \"y\"}, {\"alignmentgroup\": \"True\", \"hovertemplate\": \"color=DORCHESTER AVE<br>x=%{x}<br>y=%{y}<extra></extra>\", \"legendgroup\": \"DORCHESTER AVE\", \"marker\": {\"color\": \"#31688e\"}, \"name\": \"DORCHESTER AVE\", \"offsetgroup\": \"DORCHESTER AVE\", \"orientation\": \"v\", \"showlegend\": true, \"textposition\": \"auto\", \"type\": \"bar\", \"x\": [\"DORCHESTER AVE\"], \"xaxis\": \"x\", \"y\": [828], \"yaxis\": \"y\"}, {\"alignmentgroup\": \"True\", \"hovertemplate\": \"color=HARRISON AVE<br>x=%{x}<br>y=%{y}<extra></extra>\", \"legendgroup\": \"HARRISON AVE\", \"marker\": {\"color\": \"#26828e\"}, \"name\": \"HARRISON AVE\", \"offsetgroup\": \"HARRISON AVE\", \"orientation\": \"v\", \"showlegend\": true, \"textposition\": \"auto\", \"type\": \"bar\", \"x\": [\"HARRISON AVE\"], \"xaxis\": \"x\", \"y\": [705], \"yaxis\": \"y\"}, {\"alignmentgroup\": \"True\", \"hovertemplate\": \"color=TREMONT ST<br>x=%{x}<br>y=%{y}<extra></extra>\", \"legendgroup\": \"TREMONT ST\", \"marker\": {\"color\": \"#1f9e89\"}, \"name\": \"TREMONT ST\", \"offsetgroup\": \"TREMONT ST\", \"orientation\": \"v\", \"showlegend\": true, \"textposition\": \"auto\", \"type\": \"bar\", \"x\": [\"TREMONT ST\"], \"xaxis\": \"x\", \"y\": [684], \"yaxis\": \"y\"}, {\"alignmentgroup\": \"True\", \"hovertemplate\": \"color=CENTRE ST<br>x=%{x}<br>y=%{y}<extra></extra>\", \"legendgroup\": \"CENTRE ST\", \"marker\": {\"color\": \"#35b779\"}, \"name\": \"CENTRE ST\", \"offsetgroup\": \"CENTRE ST\", \"orientation\": \"v\", \"showlegend\": true, \"textposition\": \"auto\", \"type\": \"bar\", \"x\": [\"CENTRE ST\"], \"xaxis\": \"x\", \"y\": [640], \"yaxis\": \"y\"}, {\"alignmentgroup\": \"True\", \"hovertemplate\": \"color=MASSACHUSETTS AVE<br>x=%{x}<br>y=%{y}<extra></extra>\", \"legendgroup\": \"MASSACHUSETTS AVE\", \"marker\": {\"color\": \"#6ece58\"}, \"name\": \"MASSACHUSETTS AVE\", \"offsetgroup\": \"MASSACHUSETTS AVE\", \"orientation\": \"v\", \"showlegend\": true, \"textposition\": \"auto\", \"type\": \"bar\", \"x\": [\"MASSACHUSETTS AVE\"], \"xaxis\": \"x\", \"y\": [639], \"yaxis\": \"y\"}, {\"alignmentgroup\": \"True\", \"hovertemplate\": \"color=COMMONWEALTH AVE<br>x=%{x}<br>y=%{y}<extra></extra>\", \"legendgroup\": \"COMMONWEALTH AVE\", \"marker\": {\"color\": \"#b5de2b\"}, \"name\": \"COMMONWEALTH AVE\", \"offsetgroup\": \"COMMONWEALTH AVE\", \"orientation\": \"v\", \"showlegend\": true, \"textposition\": \"auto\", \"type\": \"bar\", \"x\": [\"COMMONWEALTH AVE\"], \"xaxis\": \"x\", \"y\": [585], \"yaxis\": \"y\"}, {\"alignmentgroup\": \"True\", \"hovertemplate\": \"color=HYDE PARK AVE<br>x=%{x}<br>y=%{y}<extra></extra>\", \"legendgroup\": \"HYDE PARK AVE\", \"marker\": {\"color\": \"#fde725\"}, \"name\": \"HYDE PARK AVE\", \"offsetgroup\": \"HYDE PARK AVE\", \"orientation\": \"v\", \"showlegend\": true, \"textposition\": \"auto\", \"type\": \"bar\", \"x\": [\"HYDE PARK AVE\"], \"xaxis\": \"x\", \"y\": [535], \"yaxis\": \"y\"}],                        {\"bargap\": 0.2, \"bargroupgap\": 0.5, \"barmode\": \"relative\", \"height\": 520, \"legend\": {\"title\": {\"text\": \"color\"}, \"tracegroupgap\": 0}, \"template\": {\"data\": {\"bar\": [{\"error_x\": {\"color\": \"#2a3f5f\"}, \"error_y\": {\"color\": \"#2a3f5f\"}, \"marker\": {\"line\": {\"color\": \"#E5ECF6\", \"width\": 0.5}}, \"type\": \"bar\"}], \"barpolar\": [{\"marker\": {\"line\": {\"color\": \"#E5ECF6\", \"width\": 0.5}}, \"type\": \"barpolar\"}], \"carpet\": [{\"aaxis\": {\"endlinecolor\": \"#2a3f5f\", \"gridcolor\": \"white\", \"linecolor\": \"white\", \"minorgridcolor\": \"white\", \"startlinecolor\": \"#2a3f5f\"}, \"baxis\": {\"endlinecolor\": \"#2a3f5f\", \"gridcolor\": \"white\", \"linecolor\": \"white\", \"minorgridcolor\": \"white\", \"startlinecolor\": \"#2a3f5f\"}, \"type\": \"carpet\"}], \"choropleth\": [{\"colorbar\": {\"outlinewidth\": 0, \"ticks\": \"\"}, \"type\": \"choropleth\"}], \"contour\": [{\"colorbar\": {\"outlinewidth\": 0, \"ticks\": \"\"}, \"colorscale\": [[0.0, \"#0d0887\"], [0.1111111111111111, \"#46039f\"], [0.2222222222222222, \"#7201a8\"], [0.3333333333333333, \"#9c179e\"], [0.4444444444444444, \"#bd3786\"], [0.5555555555555556, \"#d8576b\"], [0.6666666666666666, \"#ed7953\"], [0.7777777777777778, \"#fb9f3a\"], [0.8888888888888888, \"#fdca26\"], [1.0, \"#f0f921\"]], \"type\": \"contour\"}], \"contourcarpet\": [{\"colorbar\": {\"outlinewidth\": 0, \"ticks\": \"\"}, \"type\": \"contourcarpet\"}], \"heatmap\": [{\"colorbar\": {\"outlinewidth\": 0, \"ticks\": \"\"}, \"colorscale\": [[0.0, \"#0d0887\"], [0.1111111111111111, \"#46039f\"], [0.2222222222222222, \"#7201a8\"], [0.3333333333333333, \"#9c179e\"], [0.4444444444444444, \"#bd3786\"], [0.5555555555555556, \"#d8576b\"], [0.6666666666666666, \"#ed7953\"], [0.7777777777777778, \"#fb9f3a\"], [0.8888888888888888, \"#fdca26\"], [1.0, \"#f0f921\"]], \"type\": \"heatmap\"}], \"heatmapgl\": [{\"colorbar\": {\"outlinewidth\": 0, \"ticks\": \"\"}, \"colorscale\": [[0.0, \"#0d0887\"], [0.1111111111111111, \"#46039f\"], [0.2222222222222222, \"#7201a8\"], [0.3333333333333333, \"#9c179e\"], [0.4444444444444444, \"#bd3786\"], [0.5555555555555556, \"#d8576b\"], [0.6666666666666666, \"#ed7953\"], [0.7777777777777778, \"#fb9f3a\"], [0.8888888888888888, \"#fdca26\"], [1.0, \"#f0f921\"]], \"type\": \"heatmapgl\"}], \"histogram\": [{\"marker\": {\"colorbar\": {\"outlinewidth\": 0, \"ticks\": \"\"}}, \"type\": \"histogram\"}], \"histogram2d\": [{\"colorbar\": {\"outlinewidth\": 0, \"ticks\": \"\"}, \"colorscale\": [[0.0, \"#0d0887\"], [0.1111111111111111, \"#46039f\"], [0.2222222222222222, \"#7201a8\"], [0.3333333333333333, \"#9c179e\"], [0.4444444444444444, \"#bd3786\"], [0.5555555555555556, \"#d8576b\"], [0.6666666666666666, \"#ed7953\"], [0.7777777777777778, \"#fb9f3a\"], [0.8888888888888888, \"#fdca26\"], [1.0, \"#f0f921\"]], \"type\": \"histogram2d\"}], \"histogram2dcontour\": [{\"colorbar\": {\"outlinewidth\": 0, \"ticks\": \"\"}, \"colorscale\": [[0.0, \"#0d0887\"], [0.1111111111111111, \"#46039f\"], [0.2222222222222222, \"#7201a8\"], [0.3333333333333333, \"#9c179e\"], [0.4444444444444444, \"#bd3786\"], [0.5555555555555556, \"#d8576b\"], [0.6666666666666666, \"#ed7953\"], [0.7777777777777778, \"#fb9f3a\"], [0.8888888888888888, \"#fdca26\"], [1.0, \"#f0f921\"]], \"type\": \"histogram2dcontour\"}], \"mesh3d\": [{\"colorbar\": {\"outlinewidth\": 0, \"ticks\": \"\"}, \"type\": \"mesh3d\"}], \"parcoords\": [{\"line\": {\"colorbar\": {\"outlinewidth\": 0, \"ticks\": \"\"}}, \"type\": \"parcoords\"}], \"pie\": [{\"automargin\": true, \"type\": \"pie\"}], \"scatter\": [{\"marker\": {\"colorbar\": {\"outlinewidth\": 0, \"ticks\": \"\"}}, \"type\": \"scatter\"}], \"scatter3d\": [{\"line\": {\"colorbar\": {\"outlinewidth\": 0, \"ticks\": \"\"}}, \"marker\": {\"colorbar\": {\"outlinewidth\": 0, \"ticks\": \"\"}}, \"type\": \"scatter3d\"}], \"scattercarpet\": [{\"marker\": {\"colorbar\": {\"outlinewidth\": 0, \"ticks\": \"\"}}, \"type\": \"scattercarpet\"}], \"scattergeo\": [{\"marker\": {\"colorbar\": {\"outlinewidth\": 0, \"ticks\": \"\"}}, \"type\": \"scattergeo\"}], \"scattergl\": [{\"marker\": {\"colorbar\": {\"outlinewidth\": 0, \"ticks\": \"\"}}, \"type\": \"scattergl\"}], \"scattermapbox\": [{\"marker\": {\"colorbar\": {\"outlinewidth\": 0, \"ticks\": \"\"}}, \"type\": \"scattermapbox\"}], \"scatterpolar\": [{\"marker\": {\"colorbar\": {\"outlinewidth\": 0, \"ticks\": \"\"}}, \"type\": \"scatterpolar\"}], \"scatterpolargl\": [{\"marker\": {\"colorbar\": {\"outlinewidth\": 0, \"ticks\": \"\"}}, \"type\": \"scatterpolargl\"}], \"scatterternary\": [{\"marker\": {\"colorbar\": {\"outlinewidth\": 0, \"ticks\": \"\"}}, \"type\": \"scatterternary\"}], \"surface\": [{\"colorbar\": {\"outlinewidth\": 0, \"ticks\": \"\"}, \"colorscale\": [[0.0, \"#0d0887\"], [0.1111111111111111, \"#46039f\"], [0.2222222222222222, \"#7201a8\"], [0.3333333333333333, \"#9c179e\"], [0.4444444444444444, \"#bd3786\"], [0.5555555555555556, \"#d8576b\"], [0.6666666666666666, \"#ed7953\"], [0.7777777777777778, \"#fb9f3a\"], [0.8888888888888888, \"#fdca26\"], [1.0, \"#f0f921\"]], \"type\": \"surface\"}], \"table\": [{\"cells\": {\"fill\": {\"color\": \"#EBF0F8\"}, \"line\": {\"color\": \"white\"}}, \"header\": {\"fill\": {\"color\": \"#C8D4E3\"}, \"line\": {\"color\": \"white\"}}, \"type\": \"table\"}]}, \"layout\": {\"annotationdefaults\": {\"arrowcolor\": \"#2a3f5f\", \"arrowhead\": 0, \"arrowwidth\": 1}, \"autotypenumbers\": \"strict\", \"coloraxis\": {\"colorbar\": {\"outlinewidth\": 0, \"ticks\": \"\"}}, \"colorscale\": {\"diverging\": [[0, \"#8e0152\"], [0.1, \"#c51b7d\"], [0.2, \"#de77ae\"], [0.3, \"#f1b6da\"], [0.4, \"#fde0ef\"], [0.5, \"#f7f7f7\"], [0.6, \"#e6f5d0\"], [0.7, \"#b8e186\"], [0.8, \"#7fbc41\"], [0.9, \"#4d9221\"], [1, \"#276419\"]], \"sequential\": [[0.0, \"#0d0887\"], [0.1111111111111111, \"#46039f\"], [0.2222222222222222, \"#7201a8\"], [0.3333333333333333, \"#9c179e\"], [0.4444444444444444, \"#bd3786\"], [0.5555555555555556, \"#d8576b\"], [0.6666666666666666, \"#ed7953\"], [0.7777777777777778, \"#fb9f3a\"], [0.8888888888888888, \"#fdca26\"], [1.0, \"#f0f921\"]], \"sequentialminus\": [[0.0, \"#0d0887\"], [0.1111111111111111, \"#46039f\"], [0.2222222222222222, \"#7201a8\"], [0.3333333333333333, \"#9c179e\"], [0.4444444444444444, \"#bd3786\"], [0.5555555555555556, \"#d8576b\"], [0.6666666666666666, \"#ed7953\"], [0.7777777777777778, \"#fb9f3a\"], [0.8888888888888888, \"#fdca26\"], [1.0, \"#f0f921\"]]}, \"colorway\": [\"#636efa\", \"#EF553B\", \"#00cc96\", \"#ab63fa\", \"#FFA15A\", \"#19d3f3\", \"#FF6692\", \"#B6E880\", \"#FF97FF\", \"#FECB52\"], \"font\": {\"color\": \"#2a3f5f\"}, \"geo\": {\"bgcolor\": \"white\", \"lakecolor\": \"white\", \"landcolor\": \"#E5ECF6\", \"showlakes\": true, \"showland\": true, \"subunitcolor\": \"white\"}, \"hoverlabel\": {\"align\": \"left\"}, \"hovermode\": \"closest\", \"mapbox\": {\"style\": \"light\"}, \"paper_bgcolor\": \"white\", \"plot_bgcolor\": \"#E5ECF6\", \"polar\": {\"angularaxis\": {\"gridcolor\": \"white\", \"linecolor\": \"white\", \"ticks\": \"\"}, \"bgcolor\": \"#E5ECF6\", \"radialaxis\": {\"gridcolor\": \"white\", \"linecolor\": \"white\", \"ticks\": \"\"}}, \"scene\": {\"xaxis\": {\"backgroundcolor\": \"#E5ECF6\", \"gridcolor\": \"white\", \"gridwidth\": 2, \"linecolor\": \"white\", \"showbackground\": true, \"ticks\": \"\", \"zerolinecolor\": \"white\"}, \"yaxis\": {\"backgroundcolor\": \"#E5ECF6\", \"gridcolor\": \"white\", \"gridwidth\": 2, \"linecolor\": \"white\", \"showbackground\": true, \"ticks\": \"\", \"zerolinecolor\": \"white\"}, \"zaxis\": {\"backgroundcolor\": \"#E5ECF6\", \"gridcolor\": \"white\", \"gridwidth\": 2, \"linecolor\": \"white\", \"showbackground\": true, \"ticks\": \"\", \"zerolinecolor\": \"white\"}}, \"shapedefaults\": {\"line\": {\"color\": \"#2a3f5f\"}}, \"ternary\": {\"aaxis\": {\"gridcolor\": \"white\", \"linecolor\": \"white\", \"ticks\": \"\"}, \"baxis\": {\"gridcolor\": \"white\", \"linecolor\": \"white\", \"ticks\": \"\"}, \"bgcolor\": \"#E5ECF6\", \"caxis\": {\"gridcolor\": \"white\", \"linecolor\": \"white\", \"ticks\": \"\"}}, \"title\": {\"x\": 0.05}, \"xaxis\": {\"automargin\": true, \"gridcolor\": \"white\", \"linecolor\": \"white\", \"ticks\": \"\", \"title\": {\"standoff\": 15}, \"zerolinecolor\": \"white\", \"zerolinewidth\": 2}, \"yaxis\": {\"automargin\": true, \"gridcolor\": \"white\", \"linecolor\": \"white\", \"ticks\": \"\", \"title\": {\"standoff\": 15}, \"zerolinecolor\": \"white\", \"zerolinewidth\": 2}}}, \"title\": {\"text\": \"Les zones de Boston les plus r\\u00e9pertori\\u00e9es\"}, \"xaxis\": {\"anchor\": \"y\", \"domain\": [0.0, 1.0], \"title\": {\"text\": \"Zones\"}}, \"yaxis\": {\"anchor\": \"x\", \"domain\": [0.0, 1.0], \"title\": {\"text\": \"Nombre d'incidents\"}}},                        {\"responsive\": true}                    ).then(function(){\n",
       "                            \n",
       "var gd = document.getElementById('cc79b39d-6ff0-4884-a177-e14aa1d80089');\n",
       "var x = new MutationObserver(function (mutations, observer) {{\n",
       "        var display = window.getComputedStyle(gd).display;\n",
       "        if (!display || display === 'none') {{\n",
       "            console.log([gd, 'removed!']);\n",
       "            Plotly.purge(gd);\n",
       "            observer.disconnect();\n",
       "        }}\n",
       "}});\n",
       "\n",
       "// Listen for the removal of the full notebook cells\n",
       "var notebookContainer = gd.closest('#notebook-container');\n",
       "if (notebookContainer) {{\n",
       "    x.observe(notebookContainer, {childList: true});\n",
       "}}\n",
       "\n",
       "// Listen for the clearing of the current output cell\n",
       "var outputEl = gd.closest('.output');\n",
       "if (outputEl) {{\n",
       "    x.observe(outputEl, {childList: true});\n",
       "}}\n",
       "\n",
       "                        })                };                });            </script>        </div>"
      ]
     },
     "metadata": {},
     "output_type": "display_data"
    }
   ],
   "source": [
    "Street=categories['Street'][0:10]\n",
    "Values=categories['values'][0:10]\n",
    "\n",
    "fig=px.bar(categories, x=Street,\n",
    "           y=Values, \n",
    "           title= 'Les zones de Boston les plus répertoriées',\n",
    "           color=categories['Street'][0:10],\n",
    "           color_discrete_sequence = px.colors.sequential.Viridis,\n",
    "           height=520)\n",
    "\n",
    "fig.update_layout(\n",
    "    xaxis_title_text='Zones', \n",
    "    yaxis_title_text='Nombre d\\'incidents', \n",
    "    bargap=0.2, \n",
    "    bargroupgap=0.5)\n",
    "    \n",
    "fig.show()"
   ]
  },
  {
   "cell_type": "markdown",
   "metadata": {},
   "source": [
    "Washington ST compte le plus grand nombre d'interventions, suivit par Boylston ST."
   ]
  },
  {
   "cell_type": "markdown",
   "metadata": {},
   "source": [
    "On se propose maintenant d'analyser la proportion générale d'intervention dans ce lapse de temps, en mesurant simplement la densité des points de localisation enregistrés."
   ]
  },
  {
   "cell_type": "code",
   "execution_count": 114,
   "metadata": {},
   "outputs": [],
   "source": [
    "cursor.execute(\"SELECT crime_lat, crime_long FROM crimes\")\n",
    "rows = cursor.fetchall()\n",
    "\n",
    "crime = []\n",
    "for localisation in rows :\n",
    "    crime.append(localisation)\n",
    "\n",
    "crime = pd.DataFrame(crime, columns=['Latitude', 'Longitude'])"
   ]
  },
  {
   "cell_type": "code",
   "execution_count": 118,
   "metadata": {},
   "outputs": [
    {
     "data": {
      "image/png": "[encoded data removed]",
      "text/plain": [
       "<Figure size 864x720 with 2 Axes>"
      ]
     },
     "metadata": {
      "needs_background": "light"
     },
     "output_type": "display_data"
    }
   ],
   "source": [
    "import numpy as np\n",
    "import matplotlib.pyplot as plt\n",
    "from scipy.stats import gaussian_kde\n",
    "\n",
    "x = crime['Longitude']\n",
    "x = np.array(x, dtype = float)\n",
    "y = crime['Latitude']\n",
    "y = np.array(y, dtype = float)\n",
    "\n",
    "xy = np.vstack([x,y])\n",
    "z = gaussian_kde(xy)(xy)\n",
    "\n",
    "fig, ax = plt.subplots()\n",
    "density = ax.scatter(x, y, c=z, s=15, edgecolor='')\n",
    "fig.colorbar(density, label='Proportion d\\'intervention')\n",
    "\n",
    "plt.xlabel(\"Longitude\")\n",
    "plt.ylabel(\"Latitude\")\n",
    "plt.gcf().set_size_inches(12,10)\n",
    "plt.show()"
   ]
  },
  {
   "cell_type": "markdown",
   "metadata": {},
   "source": [
    "Sur ce graphique, le nombre d'intervention est conséquent dans le District A1 de Boston. Toutefois, ce n'est pas celui qui en compte le plus. Il peut exister un biais du fait de la taille plus restreint de ce district par rapport à d'autre comme le District B2."
   ]
  },
  {
   "cell_type": "code",
   "execution_count": 79,
   "metadata": {},
   "outputs": [
    {
     "data": {
      "text/plain": [
       "B2     7008\n",
       "C11    6150\n",
       "D4     5844\n",
       "B3     5245\n",
       "A1     5114\n",
       "C6     3148\n",
       "D14    3101\n",
       "E18    2630\n",
       "E13    2533\n",
       "E5     2040\n",
       "A7     1978\n",
       "A15     983\n",
       "Name: District, dtype: int64"
      ]
     },
     "execution_count": 79,
     "metadata": {},
     "output_type": "execute_result"
    }
   ],
   "source": [
    "cursor.execute(\"SELECT crime_district FROM crimes\")\n",
    "rows = cursor.fetchall()\n",
    "\n",
    "district_report = []\n",
    "for district in rows :\n",
    "    district_report.append(district)\n",
    "\n",
    "data = pd.DataFrame(district_report, columns=['District'])\n",
    "data['District'].value_counts()"
   ]
  },
  {
   "cell_type": "markdown",
   "metadata": {},
   "source": [
    "### Temporalité"
   ]
  },
  {
   "cell_type": "markdown",
   "metadata": {},
   "source": [
    "Nous souhaitons maintenant connaitre le nombre d'intervention par mois :"
   ]
  },
  {
   "cell_type": "code",
   "execution_count": 33,
   "metadata": {},
   "outputs": [],
   "source": [
    "cursor.execute(\"SELECT crime_month FROM crimes\")\n",
    "rows = cursor.fetchall()\n",
    "\n",
    "crime = []\n",
    "for month in rows :\n",
    "    crime.append(month)\n",
    "\n",
    "crime = pd.DataFrame(crime, columns=['Month']) "
   ]
  },
  {
   "cell_type": "code",
   "execution_count": 34,
   "metadata": {},
   "outputs": [],
   "source": [
    "dico = {7 : 'Juillet', 8 : 'Aout', 9 : 'Septembre', 10 : 'Octobre', 11 : 'Novembre', 12 : 'Décembre'}\n",
    "\n",
    "crime['Month'] = crime['Month'].map(dico)"
   ]
  },
  {
   "cell_type": "code",
   "execution_count": 23,
   "metadata": {},
   "outputs": [],
   "source": [
    "crime_count = crime['Month'].value_counts()\n",
    "values =crime_count.values\n",
    "categories = pd.DataFrame(data=crime_count.index, columns=[\"Month\"])\n",
    "categories['values'] = values"
   ]
  },
  {
   "cell_type": "code",
   "execution_count": 24,
   "metadata": {},
   "outputs": [
    {
     "data": {
      "application/vnd.plotly.v1+json": {
       "config": {
        "plotlyServerURL": "https://plot.ly"
       },
       "data": [
        {
         "alignmentgroup": "True",
         "hovertemplate": "Month=%{x}<br>values=%{y}<extra></extra>",
         "legendgroup": "Aout",
         "marker": {
          "color": "#440154"
         },
         "name": "Aout",
         "offsetgroup": "Aout",
         "orientation": "v",
         "showlegend": true,
         "textposition": "auto",
         "type": "bar",
         "x": [
          "Aout"
         ],
         "xaxis": "x",
         "y": [
          8104
         ],
         "yaxis": "y"
        },
        {
         "alignmentgroup": "True",
         "hovertemplate": "Month=%{x}<br>values=%{y}<extra></extra>",
         "legendgroup": "Juillet",
         "marker": {
          "color": "#482878"
         },
         "name": "Juillet",
         "offsetgroup": "Juillet",
         "orientation": "v",
         "showlegend": true,
         "textposition": "auto",
         "type": "bar",
         "x": [
          "Juillet"
         ],
         "xaxis": "x",
         "y": [
          8007
         ],
         "yaxis": "y"
        },
        {
         "alignmentgroup": "True",
         "hovertemplate": "Month=%{x}<br>values=%{y}<extra></extra>",
         "legendgroup": "Septembre",
         "marker": {
          "color": "#3e4989"
         },
         "name": "Septembre",
         "offsetgroup": "Septembre",
         "orientation": "v",
         "showlegend": true,
         "textposition": "auto",
         "type": "bar",
         "x": [
          "Septembre"
         ],
         "xaxis": "x",
         "y": [
          7976
         ],
         "yaxis": "y"
        },
        {
         "alignmentgroup": "True",
         "hovertemplate": "Month=%{x}<br>values=%{y}<extra></extra>",
         "legendgroup": "Octobre",
         "marker": {
          "color": "#31688e"
         },
         "name": "Octobre",
         "offsetgroup": "Octobre",
         "orientation": "v",
         "showlegend": true,
         "textposition": "auto",
         "type": "bar",
         "x": [
          "Octobre"
         ],
         "xaxis": "x",
         "y": [
          7842
         ],
         "yaxis": "y"
        },
        {
         "alignmentgroup": "True",
         "hovertemplate": "Month=%{x}<br>values=%{y}<extra></extra>",
         "legendgroup": "Novembre",
         "marker": {
          "color": "#26828e"
         },
         "name": "Novembre",
         "offsetgroup": "Novembre",
         "orientation": "v",
         "showlegend": true,
         "textposition": "auto",
         "type": "bar",
         "x": [
          "Novembre"
         ],
         "xaxis": "x",
         "y": [
          7053
         ],
         "yaxis": "y"
        },
        {
         "alignmentgroup": "True",
         "hovertemplate": "Month=%{x}<br>values=%{y}<extra></extra>",
         "legendgroup": "Décembre",
         "marker": {
          "color": "#1f9e89"
         },
         "name": "Décembre",
         "offsetgroup": "Décembre",
         "orientation": "v",
         "showlegend": true,
         "textposition": "auto",
         "type": "bar",
         "x": [
          "Décembre"
         ],
         "xaxis": "x",
         "y": [
          6792
         ],
         "yaxis": "y"
        }
       ],
       "layout": {
        "bargap": 0.2,
        "bargroupgap": 0.3,
        "barmode": "relative",
        "height": 520,
        "legend": {
         "title": {
          "text": "Month"
         },
         "tracegroupgap": 0
        },
        "template": {
         "data": {
          "bar": [
           {
            "error_x": {
             "color": "#2a3f5f"
            },
            "error_y": {
             "color": "#2a3f5f"
            },
            "marker": {
             "line": {
              "color": "#E5ECF6",
              "width": 0.5
             }
            },
            "type": "bar"
           }
          ],
          "barpolar": [
           {
            "marker": {
             "line": {
              "color": "#E5ECF6",
              "width": 0.5
             }
            },
            "type": "barpolar"
           }
          ],
          "carpet": [
           {
            "aaxis": {
             "endlinecolor": "#2a3f5f",
             "gridcolor": "white",
             "linecolor": "white",
             "minorgridcolor": "white",
             "startlinecolor": "#2a3f5f"
            },
            "baxis": {
             "endlinecolor": "#2a3f5f",
             "gridcolor": "white",
             "linecolor": "white",
             "minorgridcolor": "white",
             "startlinecolor": "#2a3f5f"
            },
            "type": "carpet"
           }
          ],
          "choropleth": [
           {
            "colorbar": {
             "outlinewidth": 0,
             "ticks": ""
            },
            "type": "choropleth"
           }
          ],
          "contour": [
           {
            "colorbar": {
             "outlinewidth": 0,
             "ticks": ""
            },
            "colorscale": [
             [
              0,
              "#0d0887"
             ],
             [
              0.1111111111111111,
              "#46039f"
             ],
             [
              0.2222222222222222,
              "#7201a8"
             ],
             [
              0.3333333333333333,
              "#9c179e"
             ],
             [
              0.4444444444444444,
              "#bd3786"
             ],
             [
              0.5555555555555556,
              "#d8576b"
             ],
             [
              0.6666666666666666,
              "#ed7953"
             ],
             [
              0.7777777777777778,
              "#fb9f3a"
             ],
             [
              0.8888888888888888,
              "#fdca26"
             ],
             [
              1,
              "#f0f921"
             ]
            ],
            "type": "contour"
           }
          ],
          "contourcarpet": [
           {
            "colorbar": {
             "outlinewidth": 0,
             "ticks": ""
            },
            "type": "contourcarpet"
           }
          ],
          "heatmap": [
           {
            "colorbar": {
             "outlinewidth": 0,
             "ticks": ""
            },
            "colorscale": [
             [
              0,
              "#0d0887"
             ],
             [
              0.1111111111111111,
              "#46039f"
             ],
             [
              0.2222222222222222,
              "#7201a8"
             ],
             [
              0.3333333333333333,
              "#9c179e"
             ],
             [
              0.4444444444444444,
              "#bd3786"
             ],
             [
              0.5555555555555556,
              "#d8576b"
             ],
             [
              0.6666666666666666,
              "#ed7953"
             ],
             [
              0.7777777777777778,
              "#fb9f3a"
             ],
             [
              0.8888888888888888,
              "#fdca26"
             ],
             [
              1,
              "#f0f921"
             ]
            ],
            "type": "heatmap"
           }
          ],
          "heatmapgl": [
           {
            "colorbar": {
             "outlinewidth": 0,
             "ticks": ""
            },
            "colorscale": [
             [
              0,
              "#0d0887"
             ],
             [
              0.1111111111111111,
              "#46039f"
             ],
             [
              0.2222222222222222,
              "#7201a8"
             ],
             [
              0.3333333333333333,
              "#9c179e"
             ],
             [
              0.4444444444444444,
              "#bd3786"
             ],
             [
              0.5555555555555556,
              "#d8576b"
             ],
             [
              0.6666666666666666,
              "#ed7953"
             ],
             [
              0.7777777777777778,
              "#fb9f3a"
             ],
             [
              0.8888888888888888,
              "#fdca26"
             ],
             [
              1,
              "#f0f921"
             ]
            ],
            "type": "heatmapgl"
           }
          ],
          "histogram": [
           {
            "marker": {
             "colorbar": {
              "outlinewidth": 0,
              "ticks": ""
             }
            },
            "type": "histogram"
           }
          ],
          "histogram2d": [
           {
            "colorbar": {
             "outlinewidth": 0,
             "ticks": ""
            },
            "colorscale": [
             [
              0,
              "#0d0887"
             ],
             [
              0.1111111111111111,
              "#46039f"
             ],
             [
              0.2222222222222222,
              "#7201a8"
             ],
             [
              0.3333333333333333,
              "#9c179e"
             ],
             [
              0.4444444444444444,
              "#bd3786"
             ],
             [
              0.5555555555555556,
              "#d8576b"
             ],
             [
              0.6666666666666666,
              "#ed7953"
             ],
             [
              0.7777777777777778,
              "#fb9f3a"
             ],
             [
              0.8888888888888888,
              "#fdca26"
             ],
             [
              1,
              "#f0f921"
             ]
            ],
            "type": "histogram2d"
           }
          ],
          "histogram2dcontour": [
           {
            "colorbar": {
             "outlinewidth": 0,
             "ticks": ""
            },
            "colorscale": [
             [
              0,
              "#0d0887"
             ],
             [
              0.1111111111111111,
              "#46039f"
             ],
             [
              0.2222222222222222,
              "#7201a8"
             ],
             [
              0.3333333333333333,
              "#9c179e"
             ],
             [
              0.4444444444444444,
              "#bd3786"
             ],
             [
              0.5555555555555556,
              "#d8576b"
             ],
             [
              0.6666666666666666,
              "#ed7953"
             ],
             [
              0.7777777777777778,
              "#fb9f3a"
             ],
             [
              0.8888888888888888,
              "#fdca26"
             ],
             [
              1,
              "#f0f921"
             ]
            ],
            "type": "histogram2dcontour"
           }
          ],
          "mesh3d": [
           {
            "colorbar": {
             "outlinewidth": 0,
             "ticks": ""
            },
            "type": "mesh3d"
           }
          ],
          "parcoords": [
           {
            "line": {
             "colorbar": {
              "outlinewidth": 0,
              "ticks": ""
             }
            },
            "type": "parcoords"
           }
          ],
          "pie": [
           {
            "automargin": true,
            "type": "pie"
           }
          ],
          "scatter": [
           {
            "marker": {
             "colorbar": {
              "outlinewidth": 0,
              "ticks": ""
             }
            },
            "type": "scatter"
           }
          ],
          "scatter3d": [
           {
            "line": {
             "colorbar": {
              "outlinewidth": 0,
              "ticks": ""
             }
            },
            "marker": {
             "colorbar": {
              "outlinewidth": 0,
              "ticks": ""
             }
            },
            "type": "scatter3d"
           }
          ],
          "scattercarpet": [
           {
            "marker": {
             "colorbar": {
              "outlinewidth": 0,
              "ticks": ""
             }
            },
            "type": "scattercarpet"
           }
          ],
          "scattergeo": [
           {
            "marker": {
             "colorbar": {
              "outlinewidth": 0,
              "ticks": ""
             }
            },
            "type": "scattergeo"
           }
          ],
          "scattergl": [
           {
            "marker": {
             "colorbar": {
              "outlinewidth": 0,
              "ticks": ""
             }
            },
            "type": "scattergl"
           }
          ],
          "scattermapbox": [
           {
            "marker": {
             "colorbar": {
              "outlinewidth": 0,
              "ticks": ""
             }
            },
            "type": "scattermapbox"
           }
          ],
          "scatterpolar": [
           {
            "marker": {
             "colorbar": {
              "outlinewidth": 0,
              "ticks": ""
             }
            },
            "type": "scatterpolar"
           }
          ],
          "scatterpolargl": [
           {
            "marker": {
             "colorbar": {
              "outlinewidth": 0,
              "ticks": ""
             }
            },
            "type": "scatterpolargl"
           }
          ],
          "scatterternary": [
           {
            "marker": {
             "colorbar": {
              "outlinewidth": 0,
              "ticks": ""
             }
            },
            "type": "scatterternary"
           }
          ],
          "surface": [
           {
            "colorbar": {
             "outlinewidth": 0,
             "ticks": ""
            },
            "colorscale": [
             [
              0,
              "#0d0887"
             ],
             [
              0.1111111111111111,
              "#46039f"
             ],
             [
              0.2222222222222222,
              "#7201a8"
             ],
             [
              0.3333333333333333,
              "#9c179e"
             ],
             [
              0.4444444444444444,
              "#bd3786"
             ],
             [
              0.5555555555555556,
              "#d8576b"
             ],
             [
              0.6666666666666666,
              "#ed7953"
             ],
             [
              0.7777777777777778,
              "#fb9f3a"
             ],
             [
              0.8888888888888888,
              "#fdca26"
             ],
             [
              1,
              "#f0f921"
             ]
            ],
            "type": "surface"
           }
          ],
          "table": [
           {
            "cells": {
             "fill": {
              "color": "#EBF0F8"
             },
             "line": {
              "color": "white"
             }
            },
            "header": {
             "fill": {
              "color": "#C8D4E3"
             },
             "line": {
              "color": "white"
             }
            },
            "type": "table"
           }
          ]
         },
         "layout": {
          "annotationdefaults": {
           "arrowcolor": "#2a3f5f",
           "arrowhead": 0,
           "arrowwidth": 1
          },
          "autotypenumbers": "strict",
          "coloraxis": {
           "colorbar": {
            "outlinewidth": 0,
            "ticks": ""
           }
          },
          "colorscale": {
           "diverging": [
            [
             0,
             "#8e0152"
            ],
            [
             0.1,
             "#c51b7d"
            ],
            [
             0.2,
             "#de77ae"
            ],
            [
             0.3,
             "#f1b6da"
            ],
            [
             0.4,
             "#fde0ef"
            ],
            [
             0.5,
             "#f7f7f7"
            ],
            [
             0.6,
             "#e6f5d0"
            ],
            [
             0.7,
             "#b8e186"
            ],
            [
             0.8,
             "#7fbc41"
            ],
            [
             0.9,
             "#4d9221"
            ],
            [
             1,
             "#276419"
            ]
           ],
           "sequential": [
            [
             0,
             "#0d0887"
            ],
            [
             0.1111111111111111,
             "#46039f"
            ],
            [
             0.2222222222222222,
             "#7201a8"
            ],
            [
             0.3333333333333333,
             "#9c179e"
            ],
            [
             0.4444444444444444,
             "#bd3786"
            ],
            [
             0.5555555555555556,
             "#d8576b"
            ],
            [
             0.6666666666666666,
             "#ed7953"
            ],
            [
             0.7777777777777778,
             "#fb9f3a"
            ],
            [
             0.8888888888888888,
             "#fdca26"
            ],
            [
             1,
             "#f0f921"
            ]
           ],
           "sequentialminus": [
            [
             0,
             "#0d0887"
            ],
            [
             0.1111111111111111,
             "#46039f"
            ],
            [
             0.2222222222222222,
             "#7201a8"
            ],
            [
             0.3333333333333333,
             "#9c179e"
            ],
            [
             0.4444444444444444,
             "#bd3786"
            ],
            [
             0.5555555555555556,
             "#d8576b"
            ],
            [
             0.6666666666666666,
             "#ed7953"
            ],
            [
             0.7777777777777778,
             "#fb9f3a"
            ],
            [
             0.8888888888888888,
             "#fdca26"
            ],
            [
             1,
             "#f0f921"
            ]
           ]
          },
          "colorway": [
           "#636efa",
           "#EF553B",
           "#00cc96",
           "#ab63fa",
           "#FFA15A",
           "#19d3f3",
           "#FF6692",
           "#B6E880",
           "#FF97FF",
           "#FECB52"
          ],
          "font": {
           "color": "#2a3f5f"
          },
          "geo": {
           "bgcolor": "white",
           "lakecolor": "white",
           "landcolor": "#E5ECF6",
           "showlakes": true,
           "showland": true,
           "subunitcolor": "white"
          },
          "hoverlabel": {
           "align": "left"
          },
          "hovermode": "closest",
          "mapbox": {
           "style": "light"
          },
          "paper_bgcolor": "white",
          "plot_bgcolor": "#E5ECF6",
          "polar": {
           "angularaxis": {
            "gridcolor": "white",
            "linecolor": "white",
            "ticks": ""
           },
           "bgcolor": "#E5ECF6",
           "radialaxis": {
            "gridcolor": "white",
            "linecolor": "white",
            "ticks": ""
           }
          },
          "scene": {
           "xaxis": {
            "backgroundcolor": "#E5ECF6",
            "gridcolor": "white",
            "gridwidth": 2,
            "linecolor": "white",
            "showbackground": true,
            "ticks": "",
            "zerolinecolor": "white"
           },
           "yaxis": {
            "backgroundcolor": "#E5ECF6",
            "gridcolor": "white",
            "gridwidth": 2,
            "linecolor": "white",
            "showbackground": true,
            "ticks": "",
            "zerolinecolor": "white"
           },
           "zaxis": {
            "backgroundcolor": "#E5ECF6",
            "gridcolor": "white",
            "gridwidth": 2,
            "linecolor": "white",
            "showbackground": true,
            "ticks": "",
            "zerolinecolor": "white"
           }
          },
          "shapedefaults": {
           "line": {
            "color": "#2a3f5f"
           }
          },
          "ternary": {
           "aaxis": {
            "gridcolor": "white",
            "linecolor": "white",
            "ticks": ""
           },
           "baxis": {
            "gridcolor": "white",
            "linecolor": "white",
            "ticks": ""
           },
           "bgcolor": "#E5ECF6",
           "caxis": {
            "gridcolor": "white",
            "linecolor": "white",
            "ticks": ""
           }
          },
          "title": {
           "x": 0.05
          },
          "xaxis": {
           "automargin": true,
           "gridcolor": "white",
           "linecolor": "white",
           "ticks": "",
           "title": {
            "standoff": 15
           },
           "zerolinecolor": "white",
           "zerolinewidth": 2
          },
          "yaxis": {
           "automargin": true,
           "gridcolor": "white",
           "linecolor": "white",
           "ticks": "",
           "title": {
            "standoff": 15
           },
           "zerolinecolor": "white",
           "zerolinewidth": 2
          }
         }
        },
        "title": {
         "text": "Incident entre Juillet et Décembre 2017"
        },
        "xaxis": {
         "anchor": "y",
         "categoryarray": [
          "Aout",
          "Juillet",
          "Septembre",
          "Octobre",
          "Novembre",
          "Décembre"
         ],
         "categoryorder": "array",
         "domain": [
          0,
          1
         ],
         "title": {
          "text": "Mois"
         }
        },
        "yaxis": {
         "anchor": "x",
         "domain": [
          0,
          1
         ],
         "title": {
          "text": "Nombre d'incidents"
         }
        }
       }
      },
      "text/html": [
       "<div>                            <div id=\"38cb5a7d-8aab-45ab-aa65-1fbfdddf90da\" class=\"plotly-graph-div\" style=\"height:520px; width:100%;\"></div>            <script type=\"text/javascript\">                require([\"plotly\"], function(Plotly) {                    window.PLOTLYENV=window.PLOTLYENV || {};                                    if (document.getElementById(\"38cb5a7d-8aab-45ab-aa65-1fbfdddf90da\")) {                    Plotly.newPlot(                        \"38cb5a7d-8aab-45ab-aa65-1fbfdddf90da\",                        [{\"alignmentgroup\": \"True\", \"hovertemplate\": \"Month=%{x}<br>values=%{y}<extra></extra>\", \"legendgroup\": \"Aout\", \"marker\": {\"color\": \"#440154\"}, \"name\": \"Aout\", \"offsetgroup\": \"Aout\", \"orientation\": \"v\", \"showlegend\": true, \"textposition\": \"auto\", \"type\": \"bar\", \"x\": [\"Aout\"], \"xaxis\": \"x\", \"y\": [8104], \"yaxis\": \"y\"}, {\"alignmentgroup\": \"True\", \"hovertemplate\": \"Month=%{x}<br>values=%{y}<extra></extra>\", \"legendgroup\": \"Juillet\", \"marker\": {\"color\": \"#482878\"}, \"name\": \"Juillet\", \"offsetgroup\": \"Juillet\", \"orientation\": \"v\", \"showlegend\": true, \"textposition\": \"auto\", \"type\": \"bar\", \"x\": [\"Juillet\"], \"xaxis\": \"x\", \"y\": [8007], \"yaxis\": \"y\"}, {\"alignmentgroup\": \"True\", \"hovertemplate\": \"Month=%{x}<br>values=%{y}<extra></extra>\", \"legendgroup\": \"Septembre\", \"marker\": {\"color\": \"#3e4989\"}, \"name\": \"Septembre\", \"offsetgroup\": \"Septembre\", \"orientation\": \"v\", \"showlegend\": true, \"textposition\": \"auto\", \"type\": \"bar\", \"x\": [\"Septembre\"], \"xaxis\": \"x\", \"y\": [7976], \"yaxis\": \"y\"}, {\"alignmentgroup\": \"True\", \"hovertemplate\": \"Month=%{x}<br>values=%{y}<extra></extra>\", \"legendgroup\": \"Octobre\", \"marker\": {\"color\": \"#31688e\"}, \"name\": \"Octobre\", \"offsetgroup\": \"Octobre\", \"orientation\": \"v\", \"showlegend\": true, \"textposition\": \"auto\", \"type\": \"bar\", \"x\": [\"Octobre\"], \"xaxis\": \"x\", \"y\": [7842], \"yaxis\": \"y\"}, {\"alignmentgroup\": \"True\", \"hovertemplate\": \"Month=%{x}<br>values=%{y}<extra></extra>\", \"legendgroup\": \"Novembre\", \"marker\": {\"color\": \"#26828e\"}, \"name\": \"Novembre\", \"offsetgroup\": \"Novembre\", \"orientation\": \"v\", \"showlegend\": true, \"textposition\": \"auto\", \"type\": \"bar\", \"x\": [\"Novembre\"], \"xaxis\": \"x\", \"y\": [7053], \"yaxis\": \"y\"}, {\"alignmentgroup\": \"True\", \"hovertemplate\": \"Month=%{x}<br>values=%{y}<extra></extra>\", \"legendgroup\": \"D\\u00e9cembre\", \"marker\": {\"color\": \"#1f9e89\"}, \"name\": \"D\\u00e9cembre\", \"offsetgroup\": \"D\\u00e9cembre\", \"orientation\": \"v\", \"showlegend\": true, \"textposition\": \"auto\", \"type\": \"bar\", \"x\": [\"D\\u00e9cembre\"], \"xaxis\": \"x\", \"y\": [6792], \"yaxis\": \"y\"}],                        {\"bargap\": 0.2, \"bargroupgap\": 0.3, \"barmode\": \"relative\", \"height\": 520, \"legend\": {\"title\": {\"text\": \"Month\"}, \"tracegroupgap\": 0}, \"template\": {\"data\": {\"bar\": [{\"error_x\": {\"color\": \"#2a3f5f\"}, \"error_y\": {\"color\": \"#2a3f5f\"}, \"marker\": {\"line\": {\"color\": \"#E5ECF6\", \"width\": 0.5}}, \"type\": \"bar\"}], \"barpolar\": [{\"marker\": {\"line\": {\"color\": \"#E5ECF6\", \"width\": 0.5}}, \"type\": \"barpolar\"}], \"carpet\": [{\"aaxis\": {\"endlinecolor\": \"#2a3f5f\", \"gridcolor\": \"white\", \"linecolor\": \"white\", \"minorgridcolor\": \"white\", \"startlinecolor\": \"#2a3f5f\"}, \"baxis\": {\"endlinecolor\": \"#2a3f5f\", \"gridcolor\": \"white\", \"linecolor\": \"white\", \"minorgridcolor\": \"white\", \"startlinecolor\": \"#2a3f5f\"}, \"type\": \"carpet\"}], \"choropleth\": [{\"colorbar\": {\"outlinewidth\": 0, \"ticks\": \"\"}, \"type\": \"choropleth\"}], \"contour\": [{\"colorbar\": {\"outlinewidth\": 0, \"ticks\": \"\"}, \"colorscale\": [[0.0, \"#0d0887\"], [0.1111111111111111, \"#46039f\"], [0.2222222222222222, \"#7201a8\"], [0.3333333333333333, \"#9c179e\"], [0.4444444444444444, \"#bd3786\"], [0.5555555555555556, \"#d8576b\"], [0.6666666666666666, \"#ed7953\"], [0.7777777777777778, \"#fb9f3a\"], [0.8888888888888888, \"#fdca26\"], [1.0, \"#f0f921\"]], \"type\": \"contour\"}], \"contourcarpet\": [{\"colorbar\": {\"outlinewidth\": 0, \"ticks\": \"\"}, \"type\": \"contourcarpet\"}], \"heatmap\": [{\"colorbar\": {\"outlinewidth\": 0, \"ticks\": \"\"}, \"colorscale\": [[0.0, \"#0d0887\"], [0.1111111111111111, \"#46039f\"], [0.2222222222222222, \"#7201a8\"], [0.3333333333333333, \"#9c179e\"], [0.4444444444444444, \"#bd3786\"], [0.5555555555555556, \"#d8576b\"], [0.6666666666666666, \"#ed7953\"], [0.7777777777777778, \"#fb9f3a\"], [0.8888888888888888, \"#fdca26\"], [1.0, \"#f0f921\"]], \"type\": \"heatmap\"}], \"heatmapgl\": [{\"colorbar\": {\"outlinewidth\": 0, \"ticks\": \"\"}, \"colorscale\": [[0.0, \"#0d0887\"], [0.1111111111111111, \"#46039f\"], [0.2222222222222222, \"#7201a8\"], [0.3333333333333333, \"#9c179e\"], [0.4444444444444444, \"#bd3786\"], [0.5555555555555556, \"#d8576b\"], [0.6666666666666666, \"#ed7953\"], [0.7777777777777778, \"#fb9f3a\"], [0.8888888888888888, \"#fdca26\"], [1.0, \"#f0f921\"]], \"type\": \"heatmapgl\"}], \"histogram\": [{\"marker\": {\"colorbar\": {\"outlinewidth\": 0, \"ticks\": \"\"}}, \"type\": \"histogram\"}], \"histogram2d\": [{\"colorbar\": {\"outlinewidth\": 0, \"ticks\": \"\"}, \"colorscale\": [[0.0, \"#0d0887\"], [0.1111111111111111, \"#46039f\"], [0.2222222222222222, \"#7201a8\"], [0.3333333333333333, \"#9c179e\"], [0.4444444444444444, \"#bd3786\"], [0.5555555555555556, \"#d8576b\"], [0.6666666666666666, \"#ed7953\"], [0.7777777777777778, \"#fb9f3a\"], [0.8888888888888888, \"#fdca26\"], [1.0, \"#f0f921\"]], \"type\": \"histogram2d\"}], \"histogram2dcontour\": [{\"colorbar\": {\"outlinewidth\": 0, \"ticks\": \"\"}, \"colorscale\": [[0.0, \"#0d0887\"], [0.1111111111111111, \"#46039f\"], [0.2222222222222222, \"#7201a8\"], [0.3333333333333333, \"#9c179e\"], [0.4444444444444444, \"#bd3786\"], [0.5555555555555556, \"#d8576b\"], [0.6666666666666666, \"#ed7953\"], [0.7777777777777778, \"#fb9f3a\"], [0.8888888888888888, \"#fdca26\"], [1.0, \"#f0f921\"]], \"type\": \"histogram2dcontour\"}], \"mesh3d\": [{\"colorbar\": {\"outlinewidth\": 0, \"ticks\": \"\"}, \"type\": \"mesh3d\"}], \"parcoords\": [{\"line\": {\"colorbar\": {\"outlinewidth\": 0, \"ticks\": \"\"}}, \"type\": \"parcoords\"}], \"pie\": [{\"automargin\": true, \"type\": \"pie\"}], \"scatter\": [{\"marker\": {\"colorbar\": {\"outlinewidth\": 0, \"ticks\": \"\"}}, \"type\": \"scatter\"}], \"scatter3d\": [{\"line\": {\"colorbar\": {\"outlinewidth\": 0, \"ticks\": \"\"}}, \"marker\": {\"colorbar\": {\"outlinewidth\": 0, \"ticks\": \"\"}}, \"type\": \"scatter3d\"}], \"scattercarpet\": [{\"marker\": {\"colorbar\": {\"outlinewidth\": 0, \"ticks\": \"\"}}, \"type\": \"scattercarpet\"}], \"scattergeo\": [{\"marker\": {\"colorbar\": {\"outlinewidth\": 0, \"ticks\": \"\"}}, \"type\": \"scattergeo\"}], \"scattergl\": [{\"marker\": {\"colorbar\": {\"outlinewidth\": 0, \"ticks\": \"\"}}, \"type\": \"scattergl\"}], \"scattermapbox\": [{\"marker\": {\"colorbar\": {\"outlinewidth\": 0, \"ticks\": \"\"}}, \"type\": \"scattermapbox\"}], \"scatterpolar\": [{\"marker\": {\"colorbar\": {\"outlinewidth\": 0, \"ticks\": \"\"}}, \"type\": \"scatterpolar\"}], \"scatterpolargl\": [{\"marker\": {\"colorbar\": {\"outlinewidth\": 0, \"ticks\": \"\"}}, \"type\": \"scatterpolargl\"}], \"scatterternary\": [{\"marker\": {\"colorbar\": {\"outlinewidth\": 0, \"ticks\": \"\"}}, \"type\": \"scatterternary\"}], \"surface\": [{\"colorbar\": {\"outlinewidth\": 0, \"ticks\": \"\"}, \"colorscale\": [[0.0, \"#0d0887\"], [0.1111111111111111, \"#46039f\"], [0.2222222222222222, \"#7201a8\"], [0.3333333333333333, \"#9c179e\"], [0.4444444444444444, \"#bd3786\"], [0.5555555555555556, \"#d8576b\"], [0.6666666666666666, \"#ed7953\"], [0.7777777777777778, \"#fb9f3a\"], [0.8888888888888888, \"#fdca26\"], [1.0, \"#f0f921\"]], \"type\": \"surface\"}], \"table\": [{\"cells\": {\"fill\": {\"color\": \"#EBF0F8\"}, \"line\": {\"color\": \"white\"}}, \"header\": {\"fill\": {\"color\": \"#C8D4E3\"}, \"line\": {\"color\": \"white\"}}, \"type\": \"table\"}]}, \"layout\": {\"annotationdefaults\": {\"arrowcolor\": \"#2a3f5f\", \"arrowhead\": 0, \"arrowwidth\": 1}, \"autotypenumbers\": \"strict\", \"coloraxis\": {\"colorbar\": {\"outlinewidth\": 0, \"ticks\": \"\"}}, \"colorscale\": {\"diverging\": [[0, \"#8e0152\"], [0.1, \"#c51b7d\"], [0.2, \"#de77ae\"], [0.3, \"#f1b6da\"], [0.4, \"#fde0ef\"], [0.5, \"#f7f7f7\"], [0.6, \"#e6f5d0\"], [0.7, \"#b8e186\"], [0.8, \"#7fbc41\"], [0.9, \"#4d9221\"], [1, \"#276419\"]], \"sequential\": [[0.0, \"#0d0887\"], [0.1111111111111111, \"#46039f\"], [0.2222222222222222, \"#7201a8\"], [0.3333333333333333, \"#9c179e\"], [0.4444444444444444, \"#bd3786\"], [0.5555555555555556, \"#d8576b\"], [0.6666666666666666, \"#ed7953\"], [0.7777777777777778, \"#fb9f3a\"], [0.8888888888888888, \"#fdca26\"], [1.0, \"#f0f921\"]], \"sequentialminus\": [[0.0, \"#0d0887\"], [0.1111111111111111, \"#46039f\"], [0.2222222222222222, \"#7201a8\"], [0.3333333333333333, \"#9c179e\"], [0.4444444444444444, \"#bd3786\"], [0.5555555555555556, \"#d8576b\"], [0.6666666666666666, \"#ed7953\"], [0.7777777777777778, \"#fb9f3a\"], [0.8888888888888888, \"#fdca26\"], [1.0, \"#f0f921\"]]}, \"colorway\": [\"#636efa\", \"#EF553B\", \"#00cc96\", \"#ab63fa\", \"#FFA15A\", \"#19d3f3\", \"#FF6692\", \"#B6E880\", \"#FF97FF\", \"#FECB52\"], \"font\": {\"color\": \"#2a3f5f\"}, \"geo\": {\"bgcolor\": \"white\", \"lakecolor\": \"white\", \"landcolor\": \"#E5ECF6\", \"showlakes\": true, \"showland\": true, \"subunitcolor\": \"white\"}, \"hoverlabel\": {\"align\": \"left\"}, \"hovermode\": \"closest\", \"mapbox\": {\"style\": \"light\"}, \"paper_bgcolor\": \"white\", \"plot_bgcolor\": \"#E5ECF6\", \"polar\": {\"angularaxis\": {\"gridcolor\": \"white\", \"linecolor\": \"white\", \"ticks\": \"\"}, \"bgcolor\": \"#E5ECF6\", \"radialaxis\": {\"gridcolor\": \"white\", \"linecolor\": \"white\", \"ticks\": \"\"}}, \"scene\": {\"xaxis\": {\"backgroundcolor\": \"#E5ECF6\", \"gridcolor\": \"white\", \"gridwidth\": 2, \"linecolor\": \"white\", \"showbackground\": true, \"ticks\": \"\", \"zerolinecolor\": \"white\"}, \"yaxis\": {\"backgroundcolor\": \"#E5ECF6\", \"gridcolor\": \"white\", \"gridwidth\": 2, \"linecolor\": \"white\", \"showbackground\": true, \"ticks\": \"\", \"zerolinecolor\": \"white\"}, \"zaxis\": {\"backgroundcolor\": \"#E5ECF6\", \"gridcolor\": \"white\", \"gridwidth\": 2, \"linecolor\": \"white\", \"showbackground\": true, \"ticks\": \"\", \"zerolinecolor\": \"white\"}}, \"shapedefaults\": {\"line\": {\"color\": \"#2a3f5f\"}}, \"ternary\": {\"aaxis\": {\"gridcolor\": \"white\", \"linecolor\": \"white\", \"ticks\": \"\"}, \"baxis\": {\"gridcolor\": \"white\", \"linecolor\": \"white\", \"ticks\": \"\"}, \"bgcolor\": \"#E5ECF6\", \"caxis\": {\"gridcolor\": \"white\", \"linecolor\": \"white\", \"ticks\": \"\"}}, \"title\": {\"x\": 0.05}, \"xaxis\": {\"automargin\": true, \"gridcolor\": \"white\", \"linecolor\": \"white\", \"ticks\": \"\", \"title\": {\"standoff\": 15}, \"zerolinecolor\": \"white\", \"zerolinewidth\": 2}, \"yaxis\": {\"automargin\": true, \"gridcolor\": \"white\", \"linecolor\": \"white\", \"ticks\": \"\", \"title\": {\"standoff\": 15}, \"zerolinecolor\": \"white\", \"zerolinewidth\": 2}}}, \"title\": {\"text\": \"Incident entre Juillet et D\\u00e9cembre 2017\"}, \"xaxis\": {\"anchor\": \"y\", \"categoryarray\": [\"Aout\", \"Juillet\", \"Septembre\", \"Octobre\", \"Novembre\", \"D\\u00e9cembre\"], \"categoryorder\": \"array\", \"domain\": [0.0, 1.0], \"title\": {\"text\": \"Mois\"}}, \"yaxis\": {\"anchor\": \"x\", \"domain\": [0.0, 1.0], \"title\": {\"text\": \"Nombre d'incidents\"}}},                        {\"responsive\": true}                    ).then(function(){\n",
       "                            \n",
       "var gd = document.getElementById('38cb5a7d-8aab-45ab-aa65-1fbfdddf90da');\n",
       "var x = new MutationObserver(function (mutations, observer) {{\n",
       "        var display = window.getComputedStyle(gd).display;\n",
       "        if (!display || display === 'none') {{\n",
       "            console.log([gd, 'removed!']);\n",
       "            Plotly.purge(gd);\n",
       "            observer.disconnect();\n",
       "        }}\n",
       "}});\n",
       "\n",
       "// Listen for the removal of the full notebook cells\n",
       "var notebookContainer = gd.closest('#notebook-container');\n",
       "if (notebookContainer) {{\n",
       "    x.observe(notebookContainer, {childList: true});\n",
       "}}\n",
       "\n",
       "// Listen for the clearing of the current output cell\n",
       "var outputEl = gd.closest('.output');\n",
       "if (outputEl) {{\n",
       "    x.observe(outputEl, {childList: true});\n",
       "}}\n",
       "\n",
       "                        })                };                });            </script>        </div>"
      ]
     },
     "metadata": {},
     "output_type": "display_data"
    }
   ],
   "source": [
    "Month=categories['Month']\n",
    "Values=categories['values']\n",
    "\n",
    "fig=px.bar(categories, x=Month,\n",
    "           y=Values, \n",
    "           title= 'Incident entre Juillet et Décembre 2017',\n",
    "           color=categories['Month'],\n",
    "           color_discrete_sequence = px.colors.sequential.Viridis,\n",
    "           height=520)\n",
    "\n",
    "fig.update_layout(\n",
    "    xaxis_title_text='Mois', \n",
    "    yaxis_title_text='Nombre d\\'incidents', \n",
    "    bargap=0.2, \n",
    "    bargroupgap=0.3)\n",
    "    \n",
    "fig.show()"
   ]
  },
  {
   "cell_type": "markdown",
   "metadata": {},
   "source": [
    "D'après ces résultats, il y a plus d'intervention dans Boston durant les mois d'été de 2017. Elles diminuent en Novembre et Décembre."
   ]
  },
  {
   "cell_type": "markdown",
   "metadata": {},
   "source": [
    "Nous voulons voir qu'elle est la proportion des interventions liées aux Vandalismes déclarés en fonction des jours de la semaine. Nous effectuons une requête pour récupérer les jours de la semaine en fonction des actes de vandalisme répertoriés. Nous avons ainsi récupéré la fréquence de ces actes en fonction des jours de la semaine, et ainsi voir s'ils avaient lieu à des jours précis."
   ]
  },
  {
   "cell_type": "code",
   "execution_count": 25,
   "metadata": {},
   "outputs": [],
   "source": [
    "cursor.execute(\"SELECT crime_day_week FROM crimes JOIN offense_codes ON offense_codes.id_code = crimes.crime_offense_code WHERE code_name = 'VANDALISM'\")\n",
    "rows = cursor.fetchall()\n",
    "\n",
    "crime = []\n",
    "for crime_day_week in rows :\n",
    "    crime.append(crime_day_week)\n",
    "\n",
    "crime = pd.DataFrame(crime, columns=['Méfait'])   "
   ]
  },
  {
   "cell_type": "code",
   "execution_count": 26,
   "metadata": {},
   "outputs": [],
   "source": [
    "dico = {1 : 'Lundi', 2 : 'Mardi', 3 : 'Mercredi', 4 : 'Jeudi', 5 : 'Vendredi', 6 : 'Samedi', 7 : 'Dimanche'}\n",
    "\n",
    "crime['Méfait'] = crime['Méfait'].map(dico)"
   ]
  },
  {
   "cell_type": "code",
   "execution_count": 27,
   "metadata": {},
   "outputs": [],
   "source": [
    "crime_count = crime['Méfait'].value_counts()\n",
    "values =crime_count.values\n",
    "categories = pd.DataFrame(data=crime_count.index, columns=[\"Méfait\"])\n",
    "categories['values'] = values"
   ]
  },
  {
   "cell_type": "code",
   "execution_count": 28,
   "metadata": {},
   "outputs": [
    {
     "data": {
      "application/vnd.plotly.v1+json": {
       "config": {
        "plotlyServerURL": "https://plot.ly"
       },
       "data": [
        {
         "domain": {
          "x": [
           0,
           1
          ],
          "y": [
           0,
           1
          ]
         },
         "hovertemplate": "Méfait=%{label}<br>value=%{value}<extra></extra>",
         "labels": [
          "Dimanche",
          "Samedi",
          "Mardi",
          "Mercredi",
          "Vendredi",
          "Lundi",
          "Jeudi"
         ],
         "legendgroup": "",
         "name": "",
         "showlegend": true,
         "type": "pie",
         "values": [
          361,
          358,
          327,
          305,
          303,
          302,
          273
         ]
        }
       ],
       "layout": {
        "legend": {
         "tracegroupgap": 0
        },
        "margin": {
         "t": 60
        },
        "piecolorway": [
         "#440154",
         "#482878",
         "#3e4989",
         "#31688e",
         "#26828e",
         "#1f9e89",
         "#35b779",
         "#6ece58",
         "#b5de2b",
         "#fde725"
        ],
        "template": {
         "data": {
          "bar": [
           {
            "error_x": {
             "color": "#2a3f5f"
            },
            "error_y": {
             "color": "#2a3f5f"
            },
            "marker": {
             "line": {
              "color": "#E5ECF6",
              "width": 0.5
             }
            },
            "type": "bar"
           }
          ],
          "barpolar": [
           {
            "marker": {
             "line": {
              "color": "#E5ECF6",
              "width": 0.5
             }
            },
            "type": "barpolar"
           }
          ],
          "carpet": [
           {
            "aaxis": {
             "endlinecolor": "#2a3f5f",
             "gridcolor": "white",
             "linecolor": "white",
             "minorgridcolor": "white",
             "startlinecolor": "#2a3f5f"
            },
            "baxis": {
             "endlinecolor": "#2a3f5f",
             "gridcolor": "white",
             "linecolor": "white",
             "minorgridcolor": "white",
             "startlinecolor": "#2a3f5f"
            },
            "type": "carpet"
           }
          ],
          "choropleth": [
           {
            "colorbar": {
             "outlinewidth": 0,
             "ticks": ""
            },
            "type": "choropleth"
           }
          ],
          "contour": [
           {
            "colorbar": {
             "outlinewidth": 0,
             "ticks": ""
            },
            "colorscale": [
             [
              0,
              "#0d0887"
             ],
             [
              0.1111111111111111,
              "#46039f"
             ],
             [
              0.2222222222222222,
              "#7201a8"
             ],
             [
              0.3333333333333333,
              "#9c179e"
             ],
             [
              0.4444444444444444,
              "#bd3786"
             ],
             [
              0.5555555555555556,
              "#d8576b"
             ],
             [
              0.6666666666666666,
              "#ed7953"
             ],
             [
              0.7777777777777778,
              "#fb9f3a"
             ],
             [
              0.8888888888888888,
              "#fdca26"
             ],
             [
              1,
              "#f0f921"
             ]
            ],
            "type": "contour"
           }
          ],
          "contourcarpet": [
           {
            "colorbar": {
             "outlinewidth": 0,
             "ticks": ""
            },
            "type": "contourcarpet"
           }
          ],
          "heatmap": [
           {
            "colorbar": {
             "outlinewidth": 0,
             "ticks": ""
            },
            "colorscale": [
             [
              0,
              "#0d0887"
             ],
             [
              0.1111111111111111,
              "#46039f"
             ],
             [
              0.2222222222222222,
              "#7201a8"
             ],
             [
              0.3333333333333333,
              "#9c179e"
             ],
             [
              0.4444444444444444,
              "#bd3786"
             ],
             [
              0.5555555555555556,
              "#d8576b"
             ],
             [
              0.6666666666666666,
              "#ed7953"
             ],
             [
              0.7777777777777778,
              "#fb9f3a"
             ],
             [
              0.8888888888888888,
              "#fdca26"
             ],
             [
              1,
              "#f0f921"
             ]
            ],
            "type": "heatmap"
           }
          ],
          "heatmapgl": [
           {
            "colorbar": {
             "outlinewidth": 0,
             "ticks": ""
            },
            "colorscale": [
             [
              0,
              "#0d0887"
             ],
             [
              0.1111111111111111,
              "#46039f"
             ],
             [
              0.2222222222222222,
              "#7201a8"
             ],
             [
              0.3333333333333333,
              "#9c179e"
             ],
             [
              0.4444444444444444,
              "#bd3786"
             ],
             [
              0.5555555555555556,
              "#d8576b"
             ],
             [
              0.6666666666666666,
              "#ed7953"
             ],
             [
              0.7777777777777778,
              "#fb9f3a"
             ],
             [
              0.8888888888888888,
              "#fdca26"
             ],
             [
              1,
              "#f0f921"
             ]
            ],
            "type": "heatmapgl"
           }
          ],
          "histogram": [
           {
            "marker": {
             "colorbar": {
              "outlinewidth": 0,
              "ticks": ""
             }
            },
            "type": "histogram"
           }
          ],
          "histogram2d": [
           {
            "colorbar": {
             "outlinewidth": 0,
             "ticks": ""
            },
            "colorscale": [
             [
              0,
              "#0d0887"
             ],
             [
              0.1111111111111111,
              "#46039f"
             ],
             [
              0.2222222222222222,
              "#7201a8"
             ],
             [
              0.3333333333333333,
              "#9c179e"
             ],
             [
              0.4444444444444444,
              "#bd3786"
             ],
             [
              0.5555555555555556,
              "#d8576b"
             ],
             [
              0.6666666666666666,
              "#ed7953"
             ],
             [
              0.7777777777777778,
              "#fb9f3a"
             ],
             [
              0.8888888888888888,
              "#fdca26"
             ],
             [
              1,
              "#f0f921"
             ]
            ],
            "type": "histogram2d"
           }
          ],
          "histogram2dcontour": [
           {
            "colorbar": {
             "outlinewidth": 0,
             "ticks": ""
            },
            "colorscale": [
             [
              0,
              "#0d0887"
             ],
             [
              0.1111111111111111,
              "#46039f"
             ],
             [
              0.2222222222222222,
              "#7201a8"
             ],
             [
              0.3333333333333333,
              "#9c179e"
             ],
             [
              0.4444444444444444,
              "#bd3786"
             ],
             [
              0.5555555555555556,
              "#d8576b"
             ],
             [
              0.6666666666666666,
              "#ed7953"
             ],
             [
              0.7777777777777778,
              "#fb9f3a"
             ],
             [
              0.8888888888888888,
              "#fdca26"
             ],
             [
              1,
              "#f0f921"
             ]
            ],
            "type": "histogram2dcontour"
           }
          ],
          "mesh3d": [
           {
            "colorbar": {
             "outlinewidth": 0,
             "ticks": ""
            },
            "type": "mesh3d"
           }
          ],
          "parcoords": [
           {
            "line": {
             "colorbar": {
              "outlinewidth": 0,
              "ticks": ""
             }
            },
            "type": "parcoords"
           }
          ],
          "pie": [
           {
            "automargin": true,
            "type": "pie"
           }
          ],
          "scatter": [
           {
            "marker": {
             "colorbar": {
              "outlinewidth": 0,
              "ticks": ""
             }
            },
            "type": "scatter"
           }
          ],
          "scatter3d": [
           {
            "line": {
             "colorbar": {
              "outlinewidth": 0,
              "ticks": ""
             }
            },
            "marker": {
             "colorbar": {
              "outlinewidth": 0,
              "ticks": ""
             }
            },
            "type": "scatter3d"
           }
          ],
          "scattercarpet": [
           {
            "marker": {
             "colorbar": {
              "outlinewidth": 0,
              "ticks": ""
             }
            },
            "type": "scattercarpet"
           }
          ],
          "scattergeo": [
           {
            "marker": {
             "colorbar": {
              "outlinewidth": 0,
              "ticks": ""
             }
            },
            "type": "scattergeo"
           }
          ],
          "scattergl": [
           {
            "marker": {
             "colorbar": {
              "outlinewidth": 0,
              "ticks": ""
             }
            },
            "type": "scattergl"
           }
          ],
          "scattermapbox": [
           {
            "marker": {
             "colorbar": {
              "outlinewidth": 0,
              "ticks": ""
             }
            },
            "type": "scattermapbox"
           }
          ],
          "scatterpolar": [
           {
            "marker": {
             "colorbar": {
              "outlinewidth": 0,
              "ticks": ""
             }
            },
            "type": "scatterpolar"
           }
          ],
          "scatterpolargl": [
           {
            "marker": {
             "colorbar": {
              "outlinewidth": 0,
              "ticks": ""
             }
            },
            "type": "scatterpolargl"
           }
          ],
          "scatterternary": [
           {
            "marker": {
             "colorbar": {
              "outlinewidth": 0,
              "ticks": ""
             }
            },
            "type": "scatterternary"
           }
          ],
          "surface": [
           {
            "colorbar": {
             "outlinewidth": 0,
             "ticks": ""
            },
            "colorscale": [
             [
              0,
              "#0d0887"
             ],
             [
              0.1111111111111111,
              "#46039f"
             ],
             [
              0.2222222222222222,
              "#7201a8"
             ],
             [
              0.3333333333333333,
              "#9c179e"
             ],
             [
              0.4444444444444444,
              "#bd3786"
             ],
             [
              0.5555555555555556,
              "#d8576b"
             ],
             [
              0.6666666666666666,
              "#ed7953"
             ],
             [
              0.7777777777777778,
              "#fb9f3a"
             ],
             [
              0.8888888888888888,
              "#fdca26"
             ],
             [
              1,
              "#f0f921"
             ]
            ],
            "type": "surface"
           }
          ],
          "table": [
           {
            "cells": {
             "fill": {
              "color": "#EBF0F8"
             },
             "line": {
              "color": "white"
             }
            },
            "header": {
             "fill": {
              "color": "#C8D4E3"
             },
             "line": {
              "color": "white"
             }
            },
            "type": "table"
           }
          ]
         },
         "layout": {
          "annotationdefaults": {
           "arrowcolor": "#2a3f5f",
           "arrowhead": 0,
           "arrowwidth": 1
          },
          "autotypenumbers": "strict",
          "coloraxis": {
           "colorbar": {
            "outlinewidth": 0,
            "ticks": ""
           }
          },
          "colorscale": {
           "diverging": [
            [
             0,
             "#8e0152"
            ],
            [
             0.1,
             "#c51b7d"
            ],
            [
             0.2,
             "#de77ae"
            ],
            [
             0.3,
             "#f1b6da"
            ],
            [
             0.4,
             "#fde0ef"
            ],
            [
             0.5,
             "#f7f7f7"
            ],
            [
             0.6,
             "#e6f5d0"
            ],
            [
             0.7,
             "#b8e186"
            ],
            [
             0.8,
             "#7fbc41"
            ],
            [
             0.9,
             "#4d9221"
            ],
            [
             1,
             "#276419"
            ]
           ],
           "sequential": [
            [
             0,
             "#0d0887"
            ],
            [
             0.1111111111111111,
             "#46039f"
            ],
            [
             0.2222222222222222,
             "#7201a8"
            ],
            [
             0.3333333333333333,
             "#9c179e"
            ],
            [
             0.4444444444444444,
             "#bd3786"
            ],
            [
             0.5555555555555556,
             "#d8576b"
            ],
            [
             0.6666666666666666,
             "#ed7953"
            ],
            [
             0.7777777777777778,
             "#fb9f3a"
            ],
            [
             0.8888888888888888,
             "#fdca26"
            ],
            [
             1,
             "#f0f921"
            ]
           ],
           "sequentialminus": [
            [
             0,
             "#0d0887"
            ],
            [
             0.1111111111111111,
             "#46039f"
            ],
            [
             0.2222222222222222,
             "#7201a8"
            ],
            [
             0.3333333333333333,
             "#9c179e"
            ],
            [
             0.4444444444444444,
             "#bd3786"
            ],
            [
             0.5555555555555556,
             "#d8576b"
            ],
            [
             0.6666666666666666,
             "#ed7953"
            ],
            [
             0.7777777777777778,
             "#fb9f3a"
            ],
            [
             0.8888888888888888,
             "#fdca26"
            ],
            [
             1,
             "#f0f921"
            ]
           ]
          },
          "colorway": [
           "#636efa",
           "#EF553B",
           "#00cc96",
           "#ab63fa",
           "#FFA15A",
           "#19d3f3",
           "#FF6692",
           "#B6E880",
           "#FF97FF",
           "#FECB52"
          ],
          "font": {
           "color": "#2a3f5f"
          },
          "geo": {
           "bgcolor": "white",
           "lakecolor": "white",
           "landcolor": "#E5ECF6",
           "showlakes": true,
           "showland": true,
           "subunitcolor": "white"
          },
          "hoverlabel": {
           "align": "left"
          },
          "hovermode": "closest",
          "mapbox": {
           "style": "light"
          },
          "paper_bgcolor": "white",
          "plot_bgcolor": "#E5ECF6",
          "polar": {
           "angularaxis": {
            "gridcolor": "white",
            "linecolor": "white",
            "ticks": ""
           },
           "bgcolor": "#E5ECF6",
           "radialaxis": {
            "gridcolor": "white",
            "linecolor": "white",
            "ticks": ""
           }
          },
          "scene": {
           "xaxis": {
            "backgroundcolor": "#E5ECF6",
            "gridcolor": "white",
            "gridwidth": 2,
            "linecolor": "white",
            "showbackground": true,
            "ticks": "",
            "zerolinecolor": "white"
           },
           "yaxis": {
            "backgroundcolor": "#E5ECF6",
            "gridcolor": "white",
            "gridwidth": 2,
            "linecolor": "white",
            "showbackground": true,
            "ticks": "",
            "zerolinecolor": "white"
           },
           "zaxis": {
            "backgroundcolor": "#E5ECF6",
            "gridcolor": "white",
            "gridwidth": 2,
            "linecolor": "white",
            "showbackground": true,
            "ticks": "",
            "zerolinecolor": "white"
           }
          },
          "shapedefaults": {
           "line": {
            "color": "#2a3f5f"
           }
          },
          "ternary": {
           "aaxis": {
            "gridcolor": "white",
            "linecolor": "white",
            "ticks": ""
           },
           "baxis": {
            "gridcolor": "white",
            "linecolor": "white",
            "ticks": ""
           },
           "bgcolor": "#E5ECF6",
           "caxis": {
            "gridcolor": "white",
            "linecolor": "white",
            "ticks": ""
           }
          },
          "title": {
           "x": 0.05
          },
          "xaxis": {
           "automargin": true,
           "gridcolor": "white",
           "linecolor": "white",
           "ticks": "",
           "title": {
            "standoff": 15
           },
           "zerolinecolor": "white",
           "zerolinewidth": 2
          },
          "yaxis": {
           "automargin": true,
           "gridcolor": "white",
           "linecolor": "white",
           "ticks": "",
           "title": {
            "standoff": 15
           },
           "zerolinecolor": "white",
           "zerolinewidth": 2
          }
         }
        }
       }
      },
      "text/html": [
       "<div>                            <div id=\"85447bf7-c3f2-4d6b-8c54-635094a6828e\" class=\"plotly-graph-div\" style=\"height:525px; width:100%;\"></div>            <script type=\"text/javascript\">                require([\"plotly\"], function(Plotly) {                    window.PLOTLYENV=window.PLOTLYENV || {};                                    if (document.getElementById(\"85447bf7-c3f2-4d6b-8c54-635094a6828e\")) {                    Plotly.newPlot(                        \"85447bf7-c3f2-4d6b-8c54-635094a6828e\",                        [{\"domain\": {\"x\": [0.0, 1.0], \"y\": [0.0, 1.0]}, \"hovertemplate\": \"M\\u00e9fait=%{label}<br>value=%{value}<extra></extra>\", \"labels\": [\"Dimanche\", \"Samedi\", \"Mardi\", \"Mercredi\", \"Vendredi\", \"Lundi\", \"Jeudi\"], \"legendgroup\": \"\", \"name\": \"\", \"showlegend\": true, \"type\": \"pie\", \"values\": [361, 358, 327, 305, 303, 302, 273]}],                        {\"legend\": {\"tracegroupgap\": 0}, \"margin\": {\"t\": 60}, \"piecolorway\": [\"#440154\", \"#482878\", \"#3e4989\", \"#31688e\", \"#26828e\", \"#1f9e89\", \"#35b779\", \"#6ece58\", \"#b5de2b\", \"#fde725\"], \"template\": {\"data\": {\"bar\": [{\"error_x\": {\"color\": \"#2a3f5f\"}, \"error_y\": {\"color\": \"#2a3f5f\"}, \"marker\": {\"line\": {\"color\": \"#E5ECF6\", \"width\": 0.5}}, \"type\": \"bar\"}], \"barpolar\": [{\"marker\": {\"line\": {\"color\": \"#E5ECF6\", \"width\": 0.5}}, \"type\": \"barpolar\"}], \"carpet\": [{\"aaxis\": {\"endlinecolor\": \"#2a3f5f\", \"gridcolor\": \"white\", \"linecolor\": \"white\", \"minorgridcolor\": \"white\", \"startlinecolor\": \"#2a3f5f\"}, \"baxis\": {\"endlinecolor\": \"#2a3f5f\", \"gridcolor\": \"white\", \"linecolor\": \"white\", \"minorgridcolor\": \"white\", \"startlinecolor\": \"#2a3f5f\"}, \"type\": \"carpet\"}], \"choropleth\": [{\"colorbar\": {\"outlinewidth\": 0, \"ticks\": \"\"}, \"type\": \"choropleth\"}], \"contour\": [{\"colorbar\": {\"outlinewidth\": 0, \"ticks\": \"\"}, \"colorscale\": [[0.0, \"#0d0887\"], [0.1111111111111111, \"#46039f\"], [0.2222222222222222, \"#7201a8\"], [0.3333333333333333, \"#9c179e\"], [0.4444444444444444, \"#bd3786\"], [0.5555555555555556, \"#d8576b\"], [0.6666666666666666, \"#ed7953\"], [0.7777777777777778, \"#fb9f3a\"], [0.8888888888888888, \"#fdca26\"], [1.0, \"#f0f921\"]], \"type\": \"contour\"}], \"contourcarpet\": [{\"colorbar\": {\"outlinewidth\": 0, \"ticks\": \"\"}, \"type\": \"contourcarpet\"}], \"heatmap\": [{\"colorbar\": {\"outlinewidth\": 0, \"ticks\": \"\"}, \"colorscale\": [[0.0, \"#0d0887\"], [0.1111111111111111, \"#46039f\"], [0.2222222222222222, \"#7201a8\"], [0.3333333333333333, \"#9c179e\"], [0.4444444444444444, \"#bd3786\"], [0.5555555555555556, \"#d8576b\"], [0.6666666666666666, \"#ed7953\"], [0.7777777777777778, \"#fb9f3a\"], [0.8888888888888888, \"#fdca26\"], [1.0, \"#f0f921\"]], \"type\": \"heatmap\"}], \"heatmapgl\": [{\"colorbar\": {\"outlinewidth\": 0, \"ticks\": \"\"}, \"colorscale\": [[0.0, \"#0d0887\"], [0.1111111111111111, \"#46039f\"], [0.2222222222222222, \"#7201a8\"], [0.3333333333333333, \"#9c179e\"], [0.4444444444444444, \"#bd3786\"], [0.5555555555555556, \"#d8576b\"], [0.6666666666666666, \"#ed7953\"], [0.7777777777777778, \"#fb9f3a\"], [0.8888888888888888, \"#fdca26\"], [1.0, \"#f0f921\"]], \"type\": \"heatmapgl\"}], \"histogram\": [{\"marker\": {\"colorbar\": {\"outlinewidth\": 0, \"ticks\": \"\"}}, \"type\": \"histogram\"}], \"histogram2d\": [{\"colorbar\": {\"outlinewidth\": 0, \"ticks\": \"\"}, \"colorscale\": [[0.0, \"#0d0887\"], [0.1111111111111111, \"#46039f\"], [0.2222222222222222, \"#7201a8\"], [0.3333333333333333, \"#9c179e\"], [0.4444444444444444, \"#bd3786\"], [0.5555555555555556, \"#d8576b\"], [0.6666666666666666, \"#ed7953\"], [0.7777777777777778, \"#fb9f3a\"], [0.8888888888888888, \"#fdca26\"], [1.0, \"#f0f921\"]], \"type\": \"histogram2d\"}], \"histogram2dcontour\": [{\"colorbar\": {\"outlinewidth\": 0, \"ticks\": \"\"}, \"colorscale\": [[0.0, \"#0d0887\"], [0.1111111111111111, \"#46039f\"], [0.2222222222222222, \"#7201a8\"], [0.3333333333333333, \"#9c179e\"], [0.4444444444444444, \"#bd3786\"], [0.5555555555555556, \"#d8576b\"], [0.6666666666666666, \"#ed7953\"], [0.7777777777777778, \"#fb9f3a\"], [0.8888888888888888, \"#fdca26\"], [1.0, \"#f0f921\"]], \"type\": \"histogram2dcontour\"}], \"mesh3d\": [{\"colorbar\": {\"outlinewidth\": 0, \"ticks\": \"\"}, \"type\": \"mesh3d\"}], \"parcoords\": [{\"line\": {\"colorbar\": {\"outlinewidth\": 0, \"ticks\": \"\"}}, \"type\": \"parcoords\"}], \"pie\": [{\"automargin\": true, \"type\": \"pie\"}], \"scatter\": [{\"marker\": {\"colorbar\": {\"outlinewidth\": 0, \"ticks\": \"\"}}, \"type\": \"scatter\"}], \"scatter3d\": [{\"line\": {\"colorbar\": {\"outlinewidth\": 0, \"ticks\": \"\"}}, \"marker\": {\"colorbar\": {\"outlinewidth\": 0, \"ticks\": \"\"}}, \"type\": \"scatter3d\"}], \"scattercarpet\": [{\"marker\": {\"colorbar\": {\"outlinewidth\": 0, \"ticks\": \"\"}}, \"type\": \"scattercarpet\"}], \"scattergeo\": [{\"marker\": {\"colorbar\": {\"outlinewidth\": 0, \"ticks\": \"\"}}, \"type\": \"scattergeo\"}], \"scattergl\": [{\"marker\": {\"colorbar\": {\"outlinewidth\": 0, \"ticks\": \"\"}}, \"type\": \"scattergl\"}], \"scattermapbox\": [{\"marker\": {\"colorbar\": {\"outlinewidth\": 0, \"ticks\": \"\"}}, \"type\": \"scattermapbox\"}], \"scatterpolar\": [{\"marker\": {\"colorbar\": {\"outlinewidth\": 0, \"ticks\": \"\"}}, \"type\": \"scatterpolar\"}], \"scatterpolargl\": [{\"marker\": {\"colorbar\": {\"outlinewidth\": 0, \"ticks\": \"\"}}, \"type\": \"scatterpolargl\"}], \"scatterternary\": [{\"marker\": {\"colorbar\": {\"outlinewidth\": 0, \"ticks\": \"\"}}, \"type\": \"scatterternary\"}], \"surface\": [{\"colorbar\": {\"outlinewidth\": 0, \"ticks\": \"\"}, \"colorscale\": [[0.0, \"#0d0887\"], [0.1111111111111111, \"#46039f\"], [0.2222222222222222, \"#7201a8\"], [0.3333333333333333, \"#9c179e\"], [0.4444444444444444, \"#bd3786\"], [0.5555555555555556, \"#d8576b\"], [0.6666666666666666, \"#ed7953\"], [0.7777777777777778, \"#fb9f3a\"], [0.8888888888888888, \"#fdca26\"], [1.0, \"#f0f921\"]], \"type\": \"surface\"}], \"table\": [{\"cells\": {\"fill\": {\"color\": \"#EBF0F8\"}, \"line\": {\"color\": \"white\"}}, \"header\": {\"fill\": {\"color\": \"#C8D4E3\"}, \"line\": {\"color\": \"white\"}}, \"type\": \"table\"}]}, \"layout\": {\"annotationdefaults\": {\"arrowcolor\": \"#2a3f5f\", \"arrowhead\": 0, \"arrowwidth\": 1}, \"autotypenumbers\": \"strict\", \"coloraxis\": {\"colorbar\": {\"outlinewidth\": 0, \"ticks\": \"\"}}, \"colorscale\": {\"diverging\": [[0, \"#8e0152\"], [0.1, \"#c51b7d\"], [0.2, \"#de77ae\"], [0.3, \"#f1b6da\"], [0.4, \"#fde0ef\"], [0.5, \"#f7f7f7\"], [0.6, \"#e6f5d0\"], [0.7, \"#b8e186\"], [0.8, \"#7fbc41\"], [0.9, \"#4d9221\"], [1, \"#276419\"]], \"sequential\": [[0.0, \"#0d0887\"], [0.1111111111111111, \"#46039f\"], [0.2222222222222222, \"#7201a8\"], [0.3333333333333333, \"#9c179e\"], [0.4444444444444444, \"#bd3786\"], [0.5555555555555556, \"#d8576b\"], [0.6666666666666666, \"#ed7953\"], [0.7777777777777778, \"#fb9f3a\"], [0.8888888888888888, \"#fdca26\"], [1.0, \"#f0f921\"]], \"sequentialminus\": [[0.0, \"#0d0887\"], [0.1111111111111111, \"#46039f\"], [0.2222222222222222, \"#7201a8\"], [0.3333333333333333, \"#9c179e\"], [0.4444444444444444, \"#bd3786\"], [0.5555555555555556, \"#d8576b\"], [0.6666666666666666, \"#ed7953\"], [0.7777777777777778, \"#fb9f3a\"], [0.8888888888888888, \"#fdca26\"], [1.0, \"#f0f921\"]]}, \"colorway\": [\"#636efa\", \"#EF553B\", \"#00cc96\", \"#ab63fa\", \"#FFA15A\", \"#19d3f3\", \"#FF6692\", \"#B6E880\", \"#FF97FF\", \"#FECB52\"], \"font\": {\"color\": \"#2a3f5f\"}, \"geo\": {\"bgcolor\": \"white\", \"lakecolor\": \"white\", \"landcolor\": \"#E5ECF6\", \"showlakes\": true, \"showland\": true, \"subunitcolor\": \"white\"}, \"hoverlabel\": {\"align\": \"left\"}, \"hovermode\": \"closest\", \"mapbox\": {\"style\": \"light\"}, \"paper_bgcolor\": \"white\", \"plot_bgcolor\": \"#E5ECF6\", \"polar\": {\"angularaxis\": {\"gridcolor\": \"white\", \"linecolor\": \"white\", \"ticks\": \"\"}, \"bgcolor\": \"#E5ECF6\", \"radialaxis\": {\"gridcolor\": \"white\", \"linecolor\": \"white\", \"ticks\": \"\"}}, \"scene\": {\"xaxis\": {\"backgroundcolor\": \"#E5ECF6\", \"gridcolor\": \"white\", \"gridwidth\": 2, \"linecolor\": \"white\", \"showbackground\": true, \"ticks\": \"\", \"zerolinecolor\": \"white\"}, \"yaxis\": {\"backgroundcolor\": \"#E5ECF6\", \"gridcolor\": \"white\", \"gridwidth\": 2, \"linecolor\": \"white\", \"showbackground\": true, \"ticks\": \"\", \"zerolinecolor\": \"white\"}, \"zaxis\": {\"backgroundcolor\": \"#E5ECF6\", \"gridcolor\": \"white\", \"gridwidth\": 2, \"linecolor\": \"white\", \"showbackground\": true, \"ticks\": \"\", \"zerolinecolor\": \"white\"}}, \"shapedefaults\": {\"line\": {\"color\": \"#2a3f5f\"}}, \"ternary\": {\"aaxis\": {\"gridcolor\": \"white\", \"linecolor\": \"white\", \"ticks\": \"\"}, \"baxis\": {\"gridcolor\": \"white\", \"linecolor\": \"white\", \"ticks\": \"\"}, \"bgcolor\": \"#E5ECF6\", \"caxis\": {\"gridcolor\": \"white\", \"linecolor\": \"white\", \"ticks\": \"\"}}, \"title\": {\"x\": 0.05}, \"xaxis\": {\"automargin\": true, \"gridcolor\": \"white\", \"linecolor\": \"white\", \"ticks\": \"\", \"title\": {\"standoff\": 15}, \"zerolinecolor\": \"white\", \"zerolinewidth\": 2}, \"yaxis\": {\"automargin\": true, \"gridcolor\": \"white\", \"linecolor\": \"white\", \"ticks\": \"\", \"title\": {\"standoff\": 15}, \"zerolinecolor\": \"white\", \"zerolinewidth\": 2}}}},                        {\"responsive\": true}                    ).then(function(){\n",
       "                            \n",
       "var gd = document.getElementById('85447bf7-c3f2-4d6b-8c54-635094a6828e');\n",
       "var x = new MutationObserver(function (mutations, observer) {{\n",
       "        var display = window.getComputedStyle(gd).display;\n",
       "        if (!display || display === 'none') {{\n",
       "            console.log([gd, 'removed!']);\n",
       "            Plotly.purge(gd);\n",
       "            observer.disconnect();\n",
       "        }}\n",
       "}});\n",
       "\n",
       "// Listen for the removal of the full notebook cells\n",
       "var notebookContainer = gd.closest('#notebook-container');\n",
       "if (notebookContainer) {{\n",
       "    x.observe(notebookContainer, {childList: true});\n",
       "}}\n",
       "\n",
       "// Listen for the clearing of the current output cell\n",
       "var outputEl = gd.closest('.output');\n",
       "if (outputEl) {{\n",
       "    x.observe(outputEl, {childList: true});\n",
       "}}\n",
       "\n",
       "                        })                };                });            </script>        </div>"
      ]
     },
     "metadata": {},
     "output_type": "display_data"
    }
   ],
   "source": [
    "crimes_year = crime['Méfait'].value_counts()\n",
    "yearly = pd.DataFrame(data=crimes_year.index, columns = ['Méfait'])\n",
    "yearly['values']=crimes_year.values\n",
    "\n",
    "fig = px.pie(yearly, values='values', names='Méfait', color_discrete_sequence=px.colors.sequential.Viridis)\n",
    "fig.show()"
   ]
  },
  {
   "cell_type": "markdown",
   "metadata": {},
   "source": [
    "Les actes de Vandalismes sont plus fréquents le week-end d'après nos données de Boston en deuxième partie de l'année 2017. A voir, si ces différences sont significatives par un test statistique."
   ]
  },
  {
   "cell_type": "markdown",
   "metadata": {},
   "source": [
    "Nous pouvons réitérer l'analyse cette fois-ci en fonction de l'heure dans une journée type :"
   ]
  },
  {
   "cell_type": "code",
   "execution_count": 130,
   "metadata": {},
   "outputs": [],
   "source": [
    "cursor.execute(\"SELECT crime_hour FROM crimes JOIN offense_codes ON offense_codes.id_code = crimes.crime_offense_code WHERE code_name = 'VANDALISM'\")\n",
    "rows = cursor.fetchall()\n",
    "\n",
    "crime = []\n",
    "for crime_day_week in rows :\n",
    "    crime.append(crime_day_week)\n",
    "\n",
    "crime = pd.DataFrame(crime, columns=['Méfait'])"
   ]
  },
  {
   "cell_type": "code",
   "execution_count": 131,
   "metadata": {},
   "outputs": [],
   "source": [
    "crime_count = crime['Méfait'].value_counts()\n",
    "values =crime_count.values\n",
    "categories = pd.DataFrame(data=crime_count.index, columns=[\"Méfait\"])\n",
    "categories['values'] = values"
   ]
  },
  {
   "cell_type": "code",
   "execution_count": 129,
   "metadata": {},
   "outputs": [
    {
     "data": {
      "application/vnd.plotly.v1+json": {
       "config": {
        "plotlyServerURL": "https://plot.ly"
       },
       "data": [
        {
         "alignmentgroup": "True",
         "hovertemplate": "Méfait=%{x}<br>values=%{y}<extra></extra>",
         "legendgroup": "",
         "marker": {
          "color": "#636efa"
         },
         "name": "",
         "offsetgroup": "",
         "orientation": "v",
         "showlegend": false,
         "textposition": "auto",
         "type": "bar",
         "x": [
          18,
          19,
          20,
          0,
          16,
          23,
          17,
          21,
          22,
          11,
          9,
          10,
          13,
          12,
          8,
          14,
          15,
          1,
          7,
          2,
          6,
          5,
          3,
          4
         ],
         "xaxis": "x",
         "y": [
          144,
          141,
          132,
          128,
          117,
          114,
          114,
          113,
          110,
          108,
          105,
          102,
          96,
          96,
          91,
          85,
          82,
          75,
          67,
          56,
          50,
          39,
          35,
          29
         ],
         "yaxis": "y"
        }
       ],
       "layout": {
        "bargap": 0.2,
        "bargroupgap": 0.3,
        "barmode": "relative",
        "height": 520,
        "legend": {
         "tracegroupgap": 0
        },
        "template": {
         "data": {
          "bar": [
           {
            "error_x": {
             "color": "#2a3f5f"
            },
            "error_y": {
             "color": "#2a3f5f"
            },
            "marker": {
             "line": {
              "color": "#E5ECF6",
              "width": 0.5
             }
            },
            "type": "bar"
           }
          ],
          "barpolar": [
           {
            "marker": {
             "line": {
              "color": "#E5ECF6",
              "width": 0.5
             }
            },
            "type": "barpolar"
           }
          ],
          "carpet": [
           {
            "aaxis": {
             "endlinecolor": "#2a3f5f",
             "gridcolor": "white",
             "linecolor": "white",
             "minorgridcolor": "white",
             "startlinecolor": "#2a3f5f"
            },
            "baxis": {
             "endlinecolor": "#2a3f5f",
             "gridcolor": "white",
             "linecolor": "white",
             "minorgridcolor": "white",
             "startlinecolor": "#2a3f5f"
            },
            "type": "carpet"
           }
          ],
          "choropleth": [
           {
            "colorbar": {
             "outlinewidth": 0,
             "ticks": ""
            },
            "type": "choropleth"
           }
          ],
          "contour": [
           {
            "colorbar": {
             "outlinewidth": 0,
             "ticks": ""
            },
            "colorscale": [
             [
              0,
              "#0d0887"
             ],
             [
              0.1111111111111111,
              "#46039f"
             ],
             [
              0.2222222222222222,
              "#7201a8"
             ],
             [
              0.3333333333333333,
              "#9c179e"
             ],
             [
              0.4444444444444444,
              "#bd3786"
             ],
             [
              0.5555555555555556,
              "#d8576b"
             ],
             [
              0.6666666666666666,
              "#ed7953"
             ],
             [
              0.7777777777777778,
              "#fb9f3a"
             ],
             [
              0.8888888888888888,
              "#fdca26"
             ],
             [
              1,
              "#f0f921"
             ]
            ],
            "type": "contour"
           }
          ],
          "contourcarpet": [
           {
            "colorbar": {
             "outlinewidth": 0,
             "ticks": ""
            },
            "type": "contourcarpet"
           }
          ],
          "heatmap": [
           {
            "colorbar": {
             "outlinewidth": 0,
             "ticks": ""
            },
            "colorscale": [
             [
              0,
              "#0d0887"
             ],
             [
              0.1111111111111111,
              "#46039f"
             ],
             [
              0.2222222222222222,
              "#7201a8"
             ],
             [
              0.3333333333333333,
              "#9c179e"
             ],
             [
              0.4444444444444444,
              "#bd3786"
             ],
             [
              0.5555555555555556,
              "#d8576b"
             ],
             [
              0.6666666666666666,
              "#ed7953"
             ],
             [
              0.7777777777777778,
              "#fb9f3a"
             ],
             [
              0.8888888888888888,
              "#fdca26"
             ],
             [
              1,
              "#f0f921"
             ]
            ],
            "type": "heatmap"
           }
          ],
          "heatmapgl": [
           {
            "colorbar": {
             "outlinewidth": 0,
             "ticks": ""
            },
            "colorscale": [
             [
              0,
              "#0d0887"
             ],
             [
              0.1111111111111111,
              "#46039f"
             ],
             [
              0.2222222222222222,
              "#7201a8"
             ],
             [
              0.3333333333333333,
              "#9c179e"
             ],
             [
              0.4444444444444444,
              "#bd3786"
             ],
             [
              0.5555555555555556,
              "#d8576b"
             ],
             [
              0.6666666666666666,
              "#ed7953"
             ],
             [
              0.7777777777777778,
              "#fb9f3a"
             ],
             [
              0.8888888888888888,
              "#fdca26"
             ],
             [
              1,
              "#f0f921"
             ]
            ],
            "type": "heatmapgl"
           }
          ],
          "histogram": [
           {
            "marker": {
             "colorbar": {
              "outlinewidth": 0,
              "ticks": ""
             }
            },
            "type": "histogram"
           }
          ],
          "histogram2d": [
           {
            "colorbar": {
             "outlinewidth": 0,
             "ticks": ""
            },
            "colorscale": [
             [
              0,
              "#0d0887"
             ],
             [
              0.1111111111111111,
              "#46039f"
             ],
             [
              0.2222222222222222,
              "#7201a8"
             ],
             [
              0.3333333333333333,
              "#9c179e"
             ],
             [
              0.4444444444444444,
              "#bd3786"
             ],
             [
              0.5555555555555556,
              "#d8576b"
             ],
             [
              0.6666666666666666,
              "#ed7953"
             ],
             [
              0.7777777777777778,
              "#fb9f3a"
             ],
             [
              0.8888888888888888,
              "#fdca26"
             ],
             [
              1,
              "#f0f921"
             ]
            ],
            "type": "histogram2d"
           }
          ],
          "histogram2dcontour": [
           {
            "colorbar": {
             "outlinewidth": 0,
             "ticks": ""
            },
            "colorscale": [
             [
              0,
              "#0d0887"
             ],
             [
              0.1111111111111111,
              "#46039f"
             ],
             [
              0.2222222222222222,
              "#7201a8"
             ],
             [
              0.3333333333333333,
              "#9c179e"
             ],
             [
              0.4444444444444444,
              "#bd3786"
             ],
             [
              0.5555555555555556,
              "#d8576b"
             ],
             [
              0.6666666666666666,
              "#ed7953"
             ],
             [
              0.7777777777777778,
              "#fb9f3a"
             ],
             [
              0.8888888888888888,
              "#fdca26"
             ],
             [
              1,
              "#f0f921"
             ]
            ],
            "type": "histogram2dcontour"
           }
          ],
          "mesh3d": [
           {
            "colorbar": {
             "outlinewidth": 0,
             "ticks": ""
            },
            "type": "mesh3d"
           }
          ],
          "parcoords": [
           {
            "line": {
             "colorbar": {
              "outlinewidth": 0,
              "ticks": ""
             }
            },
            "type": "parcoords"
           }
          ],
          "pie": [
           {
            "automargin": true,
            "type": "pie"
           }
          ],
          "scatter": [
           {
            "marker": {
             "colorbar": {
              "outlinewidth": 0,
              "ticks": ""
             }
            },
            "type": "scatter"
           }
          ],
          "scatter3d": [
           {
            "line": {
             "colorbar": {
              "outlinewidth": 0,
              "ticks": ""
             }
            },
            "marker": {
             "colorbar": {
              "outlinewidth": 0,
              "ticks": ""
             }
            },
            "type": "scatter3d"
           }
          ],
          "scattercarpet": [
           {
            "marker": {
             "colorbar": {
              "outlinewidth": 0,
              "ticks": ""
             }
            },
            "type": "scattercarpet"
           }
          ],
          "scattergeo": [
           {
            "marker": {
             "colorbar": {
              "outlinewidth": 0,
              "ticks": ""
             }
            },
            "type": "scattergeo"
           }
          ],
          "scattergl": [
           {
            "marker": {
             "colorbar": {
              "outlinewidth": 0,
              "ticks": ""
             }
            },
            "type": "scattergl"
           }
          ],
          "scattermapbox": [
           {
            "marker": {
             "colorbar": {
              "outlinewidth": 0,
              "ticks": ""
             }
            },
            "type": "scattermapbox"
           }
          ],
          "scatterpolar": [
           {
            "marker": {
             "colorbar": {
              "outlinewidth": 0,
              "ticks": ""
             }
            },
            "type": "scatterpolar"
           }
          ],
          "scatterpolargl": [
           {
            "marker": {
             "colorbar": {
              "outlinewidth": 0,
              "ticks": ""
             }
            },
            "type": "scatterpolargl"
           }
          ],
          "scatterternary": [
           {
            "marker": {
             "colorbar": {
              "outlinewidth": 0,
              "ticks": ""
             }
            },
            "type": "scatterternary"
           }
          ],
          "surface": [
           {
            "colorbar": {
             "outlinewidth": 0,
             "ticks": ""
            },
            "colorscale": [
             [
              0,
              "#0d0887"
             ],
             [
              0.1111111111111111,
              "#46039f"
             ],
             [
              0.2222222222222222,
              "#7201a8"
             ],
             [
              0.3333333333333333,
              "#9c179e"
             ],
             [
              0.4444444444444444,
              "#bd3786"
             ],
             [
              0.5555555555555556,
              "#d8576b"
             ],
             [
              0.6666666666666666,
              "#ed7953"
             ],
             [
              0.7777777777777778,
              "#fb9f3a"
             ],
             [
              0.8888888888888888,
              "#fdca26"
             ],
             [
              1,
              "#f0f921"
             ]
            ],
            "type": "surface"
           }
          ],
          "table": [
           {
            "cells": {
             "fill": {
              "color": "#EBF0F8"
             },
             "line": {
              "color": "white"
             }
            },
            "header": {
             "fill": {
              "color": "#C8D4E3"
             },
             "line": {
              "color": "white"
             }
            },
            "type": "table"
           }
          ]
         },
         "layout": {
          "annotationdefaults": {
           "arrowcolor": "#2a3f5f",
           "arrowhead": 0,
           "arrowwidth": 1
          },
          "autotypenumbers": "strict",
          "coloraxis": {
           "colorbar": {
            "outlinewidth": 0,
            "ticks": ""
           }
          },
          "colorscale": {
           "diverging": [
            [
             0,
             "#8e0152"
            ],
            [
             0.1,
             "#c51b7d"
            ],
            [
             0.2,
             "#de77ae"
            ],
            [
             0.3,
             "#f1b6da"
            ],
            [
             0.4,
             "#fde0ef"
            ],
            [
             0.5,
             "#f7f7f7"
            ],
            [
             0.6,
             "#e6f5d0"
            ],
            [
             0.7,
             "#b8e186"
            ],
            [
             0.8,
             "#7fbc41"
            ],
            [
             0.9,
             "#4d9221"
            ],
            [
             1,
             "#276419"
            ]
           ],
           "sequential": [
            [
             0,
             "#0d0887"
            ],
            [
             0.1111111111111111,
             "#46039f"
            ],
            [
             0.2222222222222222,
             "#7201a8"
            ],
            [
             0.3333333333333333,
             "#9c179e"
            ],
            [
             0.4444444444444444,
             "#bd3786"
            ],
            [
             0.5555555555555556,
             "#d8576b"
            ],
            [
             0.6666666666666666,
             "#ed7953"
            ],
            [
             0.7777777777777778,
             "#fb9f3a"
            ],
            [
             0.8888888888888888,
             "#fdca26"
            ],
            [
             1,
             "#f0f921"
            ]
           ],
           "sequentialminus": [
            [
             0,
             "#0d0887"
            ],
            [
             0.1111111111111111,
             "#46039f"
            ],
            [
             0.2222222222222222,
             "#7201a8"
            ],
            [
             0.3333333333333333,
             "#9c179e"
            ],
            [
             0.4444444444444444,
             "#bd3786"
            ],
            [
             0.5555555555555556,
             "#d8576b"
            ],
            [
             0.6666666666666666,
             "#ed7953"
            ],
            [
             0.7777777777777778,
             "#fb9f3a"
            ],
            [
             0.8888888888888888,
             "#fdca26"
            ],
            [
             1,
             "#f0f921"
            ]
           ]
          },
          "colorway": [
           "#636efa",
           "#EF553B",
           "#00cc96",
           "#ab63fa",
           "#FFA15A",
           "#19d3f3",
           "#FF6692",
           "#B6E880",
           "#FF97FF",
           "#FECB52"
          ],
          "font": {
           "color": "#2a3f5f"
          },
          "geo": {
           "bgcolor": "white",
           "lakecolor": "white",
           "landcolor": "#E5ECF6",
           "showlakes": true,
           "showland": true,
           "subunitcolor": "white"
          },
          "hoverlabel": {
           "align": "left"
          },
          "hovermode": "closest",
          "mapbox": {
           "style": "light"
          },
          "paper_bgcolor": "white",
          "plot_bgcolor": "#E5ECF6",
          "polar": {
           "angularaxis": {
            "gridcolor": "white",
            "linecolor": "white",
            "ticks": ""
           },
           "bgcolor": "#E5ECF6",
           "radialaxis": {
            "gridcolor": "white",
            "linecolor": "white",
            "ticks": ""
           }
          },
          "scene": {
           "xaxis": {
            "backgroundcolor": "#E5ECF6",
            "gridcolor": "white",
            "gridwidth": 2,
            "linecolor": "white",
            "showbackground": true,
            "ticks": "",
            "zerolinecolor": "white"
           },
           "yaxis": {
            "backgroundcolor": "#E5ECF6",
            "gridcolor": "white",
            "gridwidth": 2,
            "linecolor": "white",
            "showbackground": true,
            "ticks": "",
            "zerolinecolor": "white"
           },
           "zaxis": {
            "backgroundcolor": "#E5ECF6",
            "gridcolor": "white",
            "gridwidth": 2,
            "linecolor": "white",
            "showbackground": true,
            "ticks": "",
            "zerolinecolor": "white"
           }
          },
          "shapedefaults": {
           "line": {
            "color": "#2a3f5f"
           }
          },
          "ternary": {
           "aaxis": {
            "gridcolor": "white",
            "linecolor": "white",
            "ticks": ""
           },
           "baxis": {
            "gridcolor": "white",
            "linecolor": "white",
            "ticks": ""
           },
           "bgcolor": "#E5ECF6",
           "caxis": {
            "gridcolor": "white",
            "linecolor": "white",
            "ticks": ""
           }
          },
          "title": {
           "x": 0.05
          },
          "xaxis": {
           "automargin": true,
           "gridcolor": "white",
           "linecolor": "white",
           "ticks": "",
           "title": {
            "standoff": 15
           },
           "zerolinecolor": "white",
           "zerolinewidth": 2
          },
          "yaxis": {
           "automargin": true,
           "gridcolor": "white",
           "linecolor": "white",
           "ticks": "",
           "title": {
            "standoff": 15
           },
           "zerolinecolor": "white",
           "zerolinewidth": 2
          }
         }
        },
        "title": {
         "text": "Nombre d'actes de vandalisme en fonction de l'heure (Boston Juil. Dec. 2017)"
        },
        "xaxis": {
         "anchor": "y",
         "domain": [
          0,
          1
         ],
         "title": {
          "text": "Heure"
         }
        },
        "yaxis": {
         "anchor": "x",
         "domain": [
          0,
          1
         ],
         "title": {
          "text": "Méfait"
         }
        }
       }
      },
      "text/html": [
       "<div>                            <div id=\"5d80c065-fb16-4d7b-8a4d-95bc7cded5da\" class=\"plotly-graph-div\" style=\"height:520px; width:100%;\"></div>            <script type=\"text/javascript\">                require([\"plotly\"], function(Plotly) {                    window.PLOTLYENV=window.PLOTLYENV || {};                                    if (document.getElementById(\"5d80c065-fb16-4d7b-8a4d-95bc7cded5da\")) {                    Plotly.newPlot(                        \"5d80c065-fb16-4d7b-8a4d-95bc7cded5da\",                        [{\"alignmentgroup\": \"True\", \"hovertemplate\": \"M\\u00e9fait=%{x}<br>values=%{y}<extra></extra>\", \"legendgroup\": \"\", \"marker\": {\"color\": \"#636efa\"}, \"name\": \"\", \"offsetgroup\": \"\", \"orientation\": \"v\", \"showlegend\": false, \"textposition\": \"auto\", \"type\": \"bar\", \"x\": [18, 19, 20, 0, 16, 23, 17, 21, 22, 11, 9, 10, 13, 12, 8, 14, 15, 1, 7, 2, 6, 5, 3, 4], \"xaxis\": \"x\", \"y\": [144, 141, 132, 128, 117, 114, 114, 113, 110, 108, 105, 102, 96, 96, 91, 85, 82, 75, 67, 56, 50, 39, 35, 29], \"yaxis\": \"y\"}],                        {\"bargap\": 0.2, \"bargroupgap\": 0.3, \"barmode\": \"relative\", \"height\": 520, \"legend\": {\"tracegroupgap\": 0}, \"template\": {\"data\": {\"bar\": [{\"error_x\": {\"color\": \"#2a3f5f\"}, \"error_y\": {\"color\": \"#2a3f5f\"}, \"marker\": {\"line\": {\"color\": \"#E5ECF6\", \"width\": 0.5}}, \"type\": \"bar\"}], \"barpolar\": [{\"marker\": {\"line\": {\"color\": \"#E5ECF6\", \"width\": 0.5}}, \"type\": \"barpolar\"}], \"carpet\": [{\"aaxis\": {\"endlinecolor\": \"#2a3f5f\", \"gridcolor\": \"white\", \"linecolor\": \"white\", \"minorgridcolor\": \"white\", \"startlinecolor\": \"#2a3f5f\"}, \"baxis\": {\"endlinecolor\": \"#2a3f5f\", \"gridcolor\": \"white\", \"linecolor\": \"white\", \"minorgridcolor\": \"white\", \"startlinecolor\": \"#2a3f5f\"}, \"type\": \"carpet\"}], \"choropleth\": [{\"colorbar\": {\"outlinewidth\": 0, \"ticks\": \"\"}, \"type\": \"choropleth\"}], \"contour\": [{\"colorbar\": {\"outlinewidth\": 0, \"ticks\": \"\"}, \"colorscale\": [[0.0, \"#0d0887\"], [0.1111111111111111, \"#46039f\"], [0.2222222222222222, \"#7201a8\"], [0.3333333333333333, \"#9c179e\"], [0.4444444444444444, \"#bd3786\"], [0.5555555555555556, \"#d8576b\"], [0.6666666666666666, \"#ed7953\"], [0.7777777777777778, \"#fb9f3a\"], [0.8888888888888888, \"#fdca26\"], [1.0, \"#f0f921\"]], \"type\": \"contour\"}], \"contourcarpet\": [{\"colorbar\": {\"outlinewidth\": 0, \"ticks\": \"\"}, \"type\": \"contourcarpet\"}], \"heatmap\": [{\"colorbar\": {\"outlinewidth\": 0, \"ticks\": \"\"}, \"colorscale\": [[0.0, \"#0d0887\"], [0.1111111111111111, \"#46039f\"], [0.2222222222222222, \"#7201a8\"], [0.3333333333333333, \"#9c179e\"], [0.4444444444444444, \"#bd3786\"], [0.5555555555555556, \"#d8576b\"], [0.6666666666666666, \"#ed7953\"], [0.7777777777777778, \"#fb9f3a\"], [0.8888888888888888, \"#fdca26\"], [1.0, \"#f0f921\"]], \"type\": \"heatmap\"}], \"heatmapgl\": [{\"colorbar\": {\"outlinewidth\": 0, \"ticks\": \"\"}, \"colorscale\": [[0.0, \"#0d0887\"], [0.1111111111111111, \"#46039f\"], [0.2222222222222222, \"#7201a8\"], [0.3333333333333333, \"#9c179e\"], [0.4444444444444444, \"#bd3786\"], [0.5555555555555556, \"#d8576b\"], [0.6666666666666666, \"#ed7953\"], [0.7777777777777778, \"#fb9f3a\"], [0.8888888888888888, \"#fdca26\"], [1.0, \"#f0f921\"]], \"type\": \"heatmapgl\"}], \"histogram\": [{\"marker\": {\"colorbar\": {\"outlinewidth\": 0, \"ticks\": \"\"}}, \"type\": \"histogram\"}], \"histogram2d\": [{\"colorbar\": {\"outlinewidth\": 0, \"ticks\": \"\"}, \"colorscale\": [[0.0, \"#0d0887\"], [0.1111111111111111, \"#46039f\"], [0.2222222222222222, \"#7201a8\"], [0.3333333333333333, \"#9c179e\"], [0.4444444444444444, \"#bd3786\"], [0.5555555555555556, \"#d8576b\"], [0.6666666666666666, \"#ed7953\"], [0.7777777777777778, \"#fb9f3a\"], [0.8888888888888888, \"#fdca26\"], [1.0, \"#f0f921\"]], \"type\": \"histogram2d\"}], \"histogram2dcontour\": [{\"colorbar\": {\"outlinewidth\": 0, \"ticks\": \"\"}, \"colorscale\": [[0.0, \"#0d0887\"], [0.1111111111111111, \"#46039f\"], [0.2222222222222222, \"#7201a8\"], [0.3333333333333333, \"#9c179e\"], [0.4444444444444444, \"#bd3786\"], [0.5555555555555556, \"#d8576b\"], [0.6666666666666666, \"#ed7953\"], [0.7777777777777778, \"#fb9f3a\"], [0.8888888888888888, \"#fdca26\"], [1.0, \"#f0f921\"]], \"type\": \"histogram2dcontour\"}], \"mesh3d\": [{\"colorbar\": {\"outlinewidth\": 0, \"ticks\": \"\"}, \"type\": \"mesh3d\"}], \"parcoords\": [{\"line\": {\"colorbar\": {\"outlinewidth\": 0, \"ticks\": \"\"}}, \"type\": \"parcoords\"}], \"pie\": [{\"automargin\": true, \"type\": \"pie\"}], \"scatter\": [{\"marker\": {\"colorbar\": {\"outlinewidth\": 0, \"ticks\": \"\"}}, \"type\": \"scatter\"}], \"scatter3d\": [{\"line\": {\"colorbar\": {\"outlinewidth\": 0, \"ticks\": \"\"}}, \"marker\": {\"colorbar\": {\"outlinewidth\": 0, \"ticks\": \"\"}}, \"type\": \"scatter3d\"}], \"scattercarpet\": [{\"marker\": {\"colorbar\": {\"outlinewidth\": 0, \"ticks\": \"\"}}, \"type\": \"scattercarpet\"}], \"scattergeo\": [{\"marker\": {\"colorbar\": {\"outlinewidth\": 0, \"ticks\": \"\"}}, \"type\": \"scattergeo\"}], \"scattergl\": [{\"marker\": {\"colorbar\": {\"outlinewidth\": 0, \"ticks\": \"\"}}, \"type\": \"scattergl\"}], \"scattermapbox\": [{\"marker\": {\"colorbar\": {\"outlinewidth\": 0, \"ticks\": \"\"}}, \"type\": \"scattermapbox\"}], \"scatterpolar\": [{\"marker\": {\"colorbar\": {\"outlinewidth\": 0, \"ticks\": \"\"}}, \"type\": \"scatterpolar\"}], \"scatterpolargl\": [{\"marker\": {\"colorbar\": {\"outlinewidth\": 0, \"ticks\": \"\"}}, \"type\": \"scatterpolargl\"}], \"scatterternary\": [{\"marker\": {\"colorbar\": {\"outlinewidth\": 0, \"ticks\": \"\"}}, \"type\": \"scatterternary\"}], \"surface\": [{\"colorbar\": {\"outlinewidth\": 0, \"ticks\": \"\"}, \"colorscale\": [[0.0, \"#0d0887\"], [0.1111111111111111, \"#46039f\"], [0.2222222222222222, \"#7201a8\"], [0.3333333333333333, \"#9c179e\"], [0.4444444444444444, \"#bd3786\"], [0.5555555555555556, \"#d8576b\"], [0.6666666666666666, \"#ed7953\"], [0.7777777777777778, \"#fb9f3a\"], [0.8888888888888888, \"#fdca26\"], [1.0, \"#f0f921\"]], \"type\": \"surface\"}], \"table\": [{\"cells\": {\"fill\": {\"color\": \"#EBF0F8\"}, \"line\": {\"color\": \"white\"}}, \"header\": {\"fill\": {\"color\": \"#C8D4E3\"}, \"line\": {\"color\": \"white\"}}, \"type\": \"table\"}]}, \"layout\": {\"annotationdefaults\": {\"arrowcolor\": \"#2a3f5f\", \"arrowhead\": 0, \"arrowwidth\": 1}, \"autotypenumbers\": \"strict\", \"coloraxis\": {\"colorbar\": {\"outlinewidth\": 0, \"ticks\": \"\"}}, \"colorscale\": {\"diverging\": [[0, \"#8e0152\"], [0.1, \"#c51b7d\"], [0.2, \"#de77ae\"], [0.3, \"#f1b6da\"], [0.4, \"#fde0ef\"], [0.5, \"#f7f7f7\"], [0.6, \"#e6f5d0\"], [0.7, \"#b8e186\"], [0.8, \"#7fbc41\"], [0.9, \"#4d9221\"], [1, \"#276419\"]], \"sequential\": [[0.0, \"#0d0887\"], [0.1111111111111111, \"#46039f\"], [0.2222222222222222, \"#7201a8\"], [0.3333333333333333, \"#9c179e\"], [0.4444444444444444, \"#bd3786\"], [0.5555555555555556, \"#d8576b\"], [0.6666666666666666, \"#ed7953\"], [0.7777777777777778, \"#fb9f3a\"], [0.8888888888888888, \"#fdca26\"], [1.0, \"#f0f921\"]], \"sequentialminus\": [[0.0, \"#0d0887\"], [0.1111111111111111, \"#46039f\"], [0.2222222222222222, \"#7201a8\"], [0.3333333333333333, \"#9c179e\"], [0.4444444444444444, \"#bd3786\"], [0.5555555555555556, \"#d8576b\"], [0.6666666666666666, \"#ed7953\"], [0.7777777777777778, \"#fb9f3a\"], [0.8888888888888888, \"#fdca26\"], [1.0, \"#f0f921\"]]}, \"colorway\": [\"#636efa\", \"#EF553B\", \"#00cc96\", \"#ab63fa\", \"#FFA15A\", \"#19d3f3\", \"#FF6692\", \"#B6E880\", \"#FF97FF\", \"#FECB52\"], \"font\": {\"color\": \"#2a3f5f\"}, \"geo\": {\"bgcolor\": \"white\", \"lakecolor\": \"white\", \"landcolor\": \"#E5ECF6\", \"showlakes\": true, \"showland\": true, \"subunitcolor\": \"white\"}, \"hoverlabel\": {\"align\": \"left\"}, \"hovermode\": \"closest\", \"mapbox\": {\"style\": \"light\"}, \"paper_bgcolor\": \"white\", \"plot_bgcolor\": \"#E5ECF6\", \"polar\": {\"angularaxis\": {\"gridcolor\": \"white\", \"linecolor\": \"white\", \"ticks\": \"\"}, \"bgcolor\": \"#E5ECF6\", \"radialaxis\": {\"gridcolor\": \"white\", \"linecolor\": \"white\", \"ticks\": \"\"}}, \"scene\": {\"xaxis\": {\"backgroundcolor\": \"#E5ECF6\", \"gridcolor\": \"white\", \"gridwidth\": 2, \"linecolor\": \"white\", \"showbackground\": true, \"ticks\": \"\", \"zerolinecolor\": \"white\"}, \"yaxis\": {\"backgroundcolor\": \"#E5ECF6\", \"gridcolor\": \"white\", \"gridwidth\": 2, \"linecolor\": \"white\", \"showbackground\": true, \"ticks\": \"\", \"zerolinecolor\": \"white\"}, \"zaxis\": {\"backgroundcolor\": \"#E5ECF6\", \"gridcolor\": \"white\", \"gridwidth\": 2, \"linecolor\": \"white\", \"showbackground\": true, \"ticks\": \"\", \"zerolinecolor\": \"white\"}}, \"shapedefaults\": {\"line\": {\"color\": \"#2a3f5f\"}}, \"ternary\": {\"aaxis\": {\"gridcolor\": \"white\", \"linecolor\": \"white\", \"ticks\": \"\"}, \"baxis\": {\"gridcolor\": \"white\", \"linecolor\": \"white\", \"ticks\": \"\"}, \"bgcolor\": \"#E5ECF6\", \"caxis\": {\"gridcolor\": \"white\", \"linecolor\": \"white\", \"ticks\": \"\"}}, \"title\": {\"x\": 0.05}, \"xaxis\": {\"automargin\": true, \"gridcolor\": \"white\", \"linecolor\": \"white\", \"ticks\": \"\", \"title\": {\"standoff\": 15}, \"zerolinecolor\": \"white\", \"zerolinewidth\": 2}, \"yaxis\": {\"automargin\": true, \"gridcolor\": \"white\", \"linecolor\": \"white\", \"ticks\": \"\", \"title\": {\"standoff\": 15}, \"zerolinecolor\": \"white\", \"zerolinewidth\": 2}}}, \"title\": {\"text\": \"Nombre d'actes de vandalisme en fonction de l'heure (Boston Juil. Dec. 2017)\"}, \"xaxis\": {\"anchor\": \"y\", \"domain\": [0.0, 1.0], \"title\": {\"text\": \"Heure\"}}, \"yaxis\": {\"anchor\": \"x\", \"domain\": [0.0, 1.0], \"title\": {\"text\": \"M\\u00e9fait\"}}},                        {\"responsive\": true}                    ).then(function(){\n",
       "                            \n",
       "var gd = document.getElementById('5d80c065-fb16-4d7b-8a4d-95bc7cded5da');\n",
       "var x = new MutationObserver(function (mutations, observer) {{\n",
       "        var display = window.getComputedStyle(gd).display;\n",
       "        if (!display || display === 'none') {{\n",
       "            console.log([gd, 'removed!']);\n",
       "            Plotly.purge(gd);\n",
       "            observer.disconnect();\n",
       "        }}\n",
       "}});\n",
       "\n",
       "// Listen for the removal of the full notebook cells\n",
       "var notebookContainer = gd.closest('#notebook-container');\n",
       "if (notebookContainer) {{\n",
       "    x.observe(notebookContainer, {childList: true});\n",
       "}}\n",
       "\n",
       "// Listen for the clearing of the current output cell\n",
       "var outputEl = gd.closest('.output');\n",
       "if (outputEl) {{\n",
       "    x.observe(outputEl, {childList: true});\n",
       "}}\n",
       "\n",
       "                        })                };                });            </script>        </div>"
      ]
     },
     "metadata": {},
     "output_type": "display_data"
    }
   ],
   "source": [
    "Vandalism=categories['Méfait']\n",
    "Values=categories['values']\n",
    "\n",
    "fig=px.bar(categories, x=Vandalism,\n",
    "           y=Values, \n",
    "           title= 'Nombre d\\'actes de vandalisme en fonction de l\\'heure (Boston Juil. Dec. 2017)',\n",
    "           height=520)\n",
    "\n",
    "fig.update_layout(\n",
    "    xaxis_title_text='Heure', \n",
    "    yaxis_title_text='Méfait', \n",
    "    bargap=0.2, \n",
    "    bargroupgap=0.3)\n",
    "    \n",
    "fig.show()"
   ]
  },
  {
   "cell_type": "markdown",
   "metadata": {},
   "source": [
    "Les actes signalés sont plus nombreux en soirée et jusqu'à Minuit et diminue la nuit."
   ]
  },
  {
   "cell_type": "markdown",
   "metadata": {},
   "source": [
    "# Conclusion"
   ]
  },
  {
   "cell_type": "markdown",
   "metadata": {},
   "source": [
    "Le Dataset Boston_crime présentait de nombreuses variables à traiter. De nombreuses stratégies ont été mises en place afin de nettoyer le Dataset au vu de son intégration en BDD et son exploitation.\n",
    "\n",
    "De nombreuses analyses peuvent être réalisées, traitant des Targets par rapport à plusieurs Features possibles. Cependant une analyse de la corrélation pourrait potentiellement être faite en prenant d'autres paramètres non-disponibles dans le dataset d'origine (Situation Socio-économique en fonction du nombre d'intervention etc...).\n",
    "\n",
    "Au niveau de la gestion des données, des procédures et vues seront à intégrer afin de se concentrer sur celles qui nous intéressent."
   ]
  },
  {
   "cell_type": "code",
   "execution_count": null,
   "metadata": {},
   "outputs": [],
   "source": []
  }
 ],
 "metadata": {
  "kernelspec": {
   "display_name": "Python 3",
   "language": "python",
   "name": "python3"
  },
  "language_info": {
   "codemirror_mode": {
    "name": "ipython",
    "version": 3
   },
   "file_extension": ".py",
   "mimetype": "text/x-python",
   "name": "python",
   "nbconvert_exporter": "python",
   "pygments_lexer": "ipython3",
   "version": "3.8.3"
  }
 },
 "nbformat": 4,
 "nbformat_minor": 4
}
